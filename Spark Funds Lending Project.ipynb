{
 "cells": [
  {
   "cell_type": "markdown",
   "metadata": {},
   "source": [
    "# Lending Club - Loan Data Analysis\n",
    "\n",
    "by Kuldeep Saini and Suryansh Patel\n",
    "<br>\n",
    "Date:7/21/2020\n",
    "\n"
   ]
  },
  {
   "cell_type": "markdown",
   "metadata": {},
   "source": [
    "### Business Objectives\n",
    "Lending Club is the largest online loan marketplace, facilitating personal loans, business loans, and financing of medical procedures. Borrowers can easily access lower interest rate loans through a fast online interface. \n",
    "\n",
    "Like most other lending companies, lending loans to ‘risky’ applicants is the largest source of financial loss (called credit loss). The credit loss is the amount of money lost by the lender when the borrower refuses to pay or runs away with the money owed. In other words, borrowers who default cause the largest amount of loss to the lenders. In this case, the customers labelled as 'charged-off' are the 'defaulters'. \n",
    " \n",
    "If one is able to identify these risky loan applicants, then such loans can be reduced thereby cutting down the amount of credit loss. Identification of such applicants using EDA is the aim of this case study."
   ]
  },
  {
   "cell_type": "markdown",
   "metadata": {},
   "source": [
    "### The strategy\n",
    "\n",
    "Will compare the average default rates across various independent variables against the target variable and tring to find out the which one is most impacting the defult rate.\n"
   ]
  },
  {
   "cell_type": "markdown",
   "metadata": {},
   "source": [
    "This analysis can be divided in following parts :-\n",
    "\n",
    "1. Data understanding\n",
    "2. Data cleaning\n",
    "3. Data Analysis \n",
    "4. Recommendations\n"
   ]
  },
  {
   "cell_type": "code",
   "execution_count": 1,
   "metadata": {},
   "outputs": [],
   "source": [
    "# importing the libraries \n",
    "import numpy as np\n",
    "import pandas as pd\n",
    "\n",
    "import matplotlib.pyplot as plt\n",
    "from matplotlib import style\n",
    "\n",
    "import seaborn as sns\n",
    "sns.set(style='whitegrid')\n",
    "\n",
    "import warnings\n",
    "warnings.filterwarnings('ignore')"
   ]
  },
  {
   "cell_type": "code",
   "execution_count": 2,
   "metadata": {},
   "outputs": [
    {
     "name": "stdout",
     "output_type": "stream",
     "text": [
      "<class 'pandas.core.frame.DataFrame'>\n",
      "RangeIndex: 39717 entries, 0 to 39716\n",
      "Columns: 111 entries, id to total_il_high_credit_limit\n",
      "dtypes: float64(74), int64(13), object(24)\n",
      "memory usage: 33.6+ MB\n"
     ]
    }
   ],
   "source": [
    "#Reading data files \n",
    "loan_df = pd.read_csv(\"loan.csv\",sep=',', error_bad_lines=False, index_col=False)\n",
    "loan_df.info()"
   ]
  },
  {
   "cell_type": "markdown",
   "metadata": {},
   "source": [
    "## Data Exploration "
   ]
  },
  {
   "cell_type": "code",
   "execution_count": 3,
   "metadata": {},
   "outputs": [
    {
     "data": {
      "text/html": [
       "<div>\n",
       "<style scoped>\n",
       "    .dataframe tbody tr th:only-of-type {\n",
       "        vertical-align: middle;\n",
       "    }\n",
       "\n",
       "    .dataframe tbody tr th {\n",
       "        vertical-align: top;\n",
       "    }\n",
       "\n",
       "    .dataframe thead th {\n",
       "        text-align: right;\n",
       "    }\n",
       "</style>\n",
       "<table border=\"1\" class=\"dataframe\">\n",
       "  <thead>\n",
       "    <tr style=\"text-align: right;\">\n",
       "      <th></th>\n",
       "      <th>id</th>\n",
       "      <th>member_id</th>\n",
       "      <th>loan_amnt</th>\n",
       "      <th>funded_amnt</th>\n",
       "      <th>funded_amnt_inv</th>\n",
       "      <th>term</th>\n",
       "      <th>int_rate</th>\n",
       "      <th>installment</th>\n",
       "      <th>grade</th>\n",
       "      <th>sub_grade</th>\n",
       "      <th>...</th>\n",
       "      <th>num_tl_90g_dpd_24m</th>\n",
       "      <th>num_tl_op_past_12m</th>\n",
       "      <th>pct_tl_nvr_dlq</th>\n",
       "      <th>percent_bc_gt_75</th>\n",
       "      <th>pub_rec_bankruptcies</th>\n",
       "      <th>tax_liens</th>\n",
       "      <th>tot_hi_cred_lim</th>\n",
       "      <th>total_bal_ex_mort</th>\n",
       "      <th>total_bc_limit</th>\n",
       "      <th>total_il_high_credit_limit</th>\n",
       "    </tr>\n",
       "  </thead>\n",
       "  <tbody>\n",
       "    <tr>\n",
       "      <th>0</th>\n",
       "      <td>1077501</td>\n",
       "      <td>1296599</td>\n",
       "      <td>5000</td>\n",
       "      <td>5000</td>\n",
       "      <td>4975.0</td>\n",
       "      <td>36 months</td>\n",
       "      <td>10.65%</td>\n",
       "      <td>162.87</td>\n",
       "      <td>B</td>\n",
       "      <td>B2</td>\n",
       "      <td>...</td>\n",
       "      <td>NaN</td>\n",
       "      <td>NaN</td>\n",
       "      <td>NaN</td>\n",
       "      <td>NaN</td>\n",
       "      <td>0.0</td>\n",
       "      <td>0.0</td>\n",
       "      <td>NaN</td>\n",
       "      <td>NaN</td>\n",
       "      <td>NaN</td>\n",
       "      <td>NaN</td>\n",
       "    </tr>\n",
       "    <tr>\n",
       "      <th>1</th>\n",
       "      <td>1077430</td>\n",
       "      <td>1314167</td>\n",
       "      <td>2500</td>\n",
       "      <td>2500</td>\n",
       "      <td>2500.0</td>\n",
       "      <td>60 months</td>\n",
       "      <td>15.27%</td>\n",
       "      <td>59.83</td>\n",
       "      <td>C</td>\n",
       "      <td>C4</td>\n",
       "      <td>...</td>\n",
       "      <td>NaN</td>\n",
       "      <td>NaN</td>\n",
       "      <td>NaN</td>\n",
       "      <td>NaN</td>\n",
       "      <td>0.0</td>\n",
       "      <td>0.0</td>\n",
       "      <td>NaN</td>\n",
       "      <td>NaN</td>\n",
       "      <td>NaN</td>\n",
       "      <td>NaN</td>\n",
       "    </tr>\n",
       "    <tr>\n",
       "      <th>2</th>\n",
       "      <td>1077175</td>\n",
       "      <td>1313524</td>\n",
       "      <td>2400</td>\n",
       "      <td>2400</td>\n",
       "      <td>2400.0</td>\n",
       "      <td>36 months</td>\n",
       "      <td>15.96%</td>\n",
       "      <td>84.33</td>\n",
       "      <td>C</td>\n",
       "      <td>C5</td>\n",
       "      <td>...</td>\n",
       "      <td>NaN</td>\n",
       "      <td>NaN</td>\n",
       "      <td>NaN</td>\n",
       "      <td>NaN</td>\n",
       "      <td>0.0</td>\n",
       "      <td>0.0</td>\n",
       "      <td>NaN</td>\n",
       "      <td>NaN</td>\n",
       "      <td>NaN</td>\n",
       "      <td>NaN</td>\n",
       "    </tr>\n",
       "    <tr>\n",
       "      <th>3</th>\n",
       "      <td>1076863</td>\n",
       "      <td>1277178</td>\n",
       "      <td>10000</td>\n",
       "      <td>10000</td>\n",
       "      <td>10000.0</td>\n",
       "      <td>36 months</td>\n",
       "      <td>13.49%</td>\n",
       "      <td>339.31</td>\n",
       "      <td>C</td>\n",
       "      <td>C1</td>\n",
       "      <td>...</td>\n",
       "      <td>NaN</td>\n",
       "      <td>NaN</td>\n",
       "      <td>NaN</td>\n",
       "      <td>NaN</td>\n",
       "      <td>0.0</td>\n",
       "      <td>0.0</td>\n",
       "      <td>NaN</td>\n",
       "      <td>NaN</td>\n",
       "      <td>NaN</td>\n",
       "      <td>NaN</td>\n",
       "    </tr>\n",
       "    <tr>\n",
       "      <th>4</th>\n",
       "      <td>1075358</td>\n",
       "      <td>1311748</td>\n",
       "      <td>3000</td>\n",
       "      <td>3000</td>\n",
       "      <td>3000.0</td>\n",
       "      <td>60 months</td>\n",
       "      <td>12.69%</td>\n",
       "      <td>67.79</td>\n",
       "      <td>B</td>\n",
       "      <td>B5</td>\n",
       "      <td>...</td>\n",
       "      <td>NaN</td>\n",
       "      <td>NaN</td>\n",
       "      <td>NaN</td>\n",
       "      <td>NaN</td>\n",
       "      <td>0.0</td>\n",
       "      <td>0.0</td>\n",
       "      <td>NaN</td>\n",
       "      <td>NaN</td>\n",
       "      <td>NaN</td>\n",
       "      <td>NaN</td>\n",
       "    </tr>\n",
       "  </tbody>\n",
       "</table>\n",
       "<p>5 rows × 111 columns</p>\n",
       "</div>"
      ],
      "text/plain": [
       "        id  member_id  loan_amnt  funded_amnt  funded_amnt_inv        term  \\\n",
       "0  1077501    1296599       5000         5000           4975.0   36 months   \n",
       "1  1077430    1314167       2500         2500           2500.0   60 months   \n",
       "2  1077175    1313524       2400         2400           2400.0   36 months   \n",
       "3  1076863    1277178      10000        10000          10000.0   36 months   \n",
       "4  1075358    1311748       3000         3000           3000.0   60 months   \n",
       "\n",
       "  int_rate  installment grade sub_grade  ... num_tl_90g_dpd_24m  \\\n",
       "0   10.65%       162.87     B        B2  ...                NaN   \n",
       "1   15.27%        59.83     C        C4  ...                NaN   \n",
       "2   15.96%        84.33     C        C5  ...                NaN   \n",
       "3   13.49%       339.31     C        C1  ...                NaN   \n",
       "4   12.69%        67.79     B        B5  ...                NaN   \n",
       "\n",
       "  num_tl_op_past_12m pct_tl_nvr_dlq  percent_bc_gt_75 pub_rec_bankruptcies  \\\n",
       "0                NaN            NaN               NaN                  0.0   \n",
       "1                NaN            NaN               NaN                  0.0   \n",
       "2                NaN            NaN               NaN                  0.0   \n",
       "3                NaN            NaN               NaN                  0.0   \n",
       "4                NaN            NaN               NaN                  0.0   \n",
       "\n",
       "  tax_liens tot_hi_cred_lim total_bal_ex_mort total_bc_limit  \\\n",
       "0       0.0             NaN               NaN            NaN   \n",
       "1       0.0             NaN               NaN            NaN   \n",
       "2       0.0             NaN               NaN            NaN   \n",
       "3       0.0             NaN               NaN            NaN   \n",
       "4       0.0             NaN               NaN            NaN   \n",
       "\n",
       "  total_il_high_credit_limit  \n",
       "0                        NaN  \n",
       "1                        NaN  \n",
       "2                        NaN  \n",
       "3                        NaN  \n",
       "4                        NaN  \n",
       "\n",
       "[5 rows x 111 columns]"
      ]
     },
     "execution_count": 3,
     "metadata": {},
     "output_type": "execute_result"
    }
   ],
   "source": [
    "# Data exploration\n",
    "loan_df.head()"
   ]
  },
  {
   "cell_type": "markdown",
   "metadata": {},
   "source": [
    "<mark> This dataframe have 111 columns and need to expand the column display value to see all of them.</mark>"
   ]
  },
  {
   "cell_type": "code",
   "execution_count": 4,
   "metadata": {},
   "outputs": [
    {
     "data": {
      "text/html": [
       "<div>\n",
       "<style scoped>\n",
       "    .dataframe tbody tr th:only-of-type {\n",
       "        vertical-align: middle;\n",
       "    }\n",
       "\n",
       "    .dataframe tbody tr th {\n",
       "        vertical-align: top;\n",
       "    }\n",
       "\n",
       "    .dataframe thead th {\n",
       "        text-align: right;\n",
       "    }\n",
       "</style>\n",
       "<table border=\"1\" class=\"dataframe\">\n",
       "  <thead>\n",
       "    <tr style=\"text-align: right;\">\n",
       "      <th></th>\n",
       "      <th>id</th>\n",
       "      <th>member_id</th>\n",
       "      <th>loan_amnt</th>\n",
       "      <th>funded_amnt</th>\n",
       "      <th>funded_amnt_inv</th>\n",
       "      <th>term</th>\n",
       "      <th>int_rate</th>\n",
       "      <th>installment</th>\n",
       "      <th>grade</th>\n",
       "      <th>sub_grade</th>\n",
       "      <th>emp_title</th>\n",
       "      <th>emp_length</th>\n",
       "      <th>home_ownership</th>\n",
       "      <th>annual_inc</th>\n",
       "      <th>verification_status</th>\n",
       "      <th>issue_d</th>\n",
       "      <th>loan_status</th>\n",
       "      <th>pymnt_plan</th>\n",
       "      <th>url</th>\n",
       "      <th>desc</th>\n",
       "      <th>purpose</th>\n",
       "      <th>title</th>\n",
       "      <th>zip_code</th>\n",
       "      <th>addr_state</th>\n",
       "      <th>dti</th>\n",
       "      <th>delinq_2yrs</th>\n",
       "      <th>earliest_cr_line</th>\n",
       "      <th>inq_last_6mths</th>\n",
       "      <th>mths_since_last_delinq</th>\n",
       "      <th>mths_since_last_record</th>\n",
       "      <th>open_acc</th>\n",
       "      <th>pub_rec</th>\n",
       "      <th>revol_bal</th>\n",
       "      <th>revol_util</th>\n",
       "      <th>total_acc</th>\n",
       "      <th>initial_list_status</th>\n",
       "      <th>out_prncp</th>\n",
       "      <th>out_prncp_inv</th>\n",
       "      <th>total_pymnt</th>\n",
       "      <th>total_pymnt_inv</th>\n",
       "      <th>total_rec_prncp</th>\n",
       "      <th>total_rec_int</th>\n",
       "      <th>total_rec_late_fee</th>\n",
       "      <th>recoveries</th>\n",
       "      <th>collection_recovery_fee</th>\n",
       "      <th>last_pymnt_d</th>\n",
       "      <th>last_pymnt_amnt</th>\n",
       "      <th>next_pymnt_d</th>\n",
       "      <th>last_credit_pull_d</th>\n",
       "      <th>collections_12_mths_ex_med</th>\n",
       "      <th>mths_since_last_major_derog</th>\n",
       "      <th>policy_code</th>\n",
       "      <th>application_type</th>\n",
       "      <th>annual_inc_joint</th>\n",
       "      <th>dti_joint</th>\n",
       "      <th>verification_status_joint</th>\n",
       "      <th>acc_now_delinq</th>\n",
       "      <th>tot_coll_amt</th>\n",
       "      <th>tot_cur_bal</th>\n",
       "      <th>open_acc_6m</th>\n",
       "      <th>open_il_6m</th>\n",
       "      <th>open_il_12m</th>\n",
       "      <th>open_il_24m</th>\n",
       "      <th>mths_since_rcnt_il</th>\n",
       "      <th>total_bal_il</th>\n",
       "      <th>il_util</th>\n",
       "      <th>open_rv_12m</th>\n",
       "      <th>open_rv_24m</th>\n",
       "      <th>max_bal_bc</th>\n",
       "      <th>all_util</th>\n",
       "      <th>total_rev_hi_lim</th>\n",
       "      <th>inq_fi</th>\n",
       "      <th>total_cu_tl</th>\n",
       "      <th>inq_last_12m</th>\n",
       "      <th>acc_open_past_24mths</th>\n",
       "      <th>avg_cur_bal</th>\n",
       "      <th>bc_open_to_buy</th>\n",
       "      <th>bc_util</th>\n",
       "      <th>chargeoff_within_12_mths</th>\n",
       "      <th>delinq_amnt</th>\n",
       "      <th>mo_sin_old_il_acct</th>\n",
       "      <th>mo_sin_old_rev_tl_op</th>\n",
       "      <th>mo_sin_rcnt_rev_tl_op</th>\n",
       "      <th>mo_sin_rcnt_tl</th>\n",
       "      <th>mort_acc</th>\n",
       "      <th>mths_since_recent_bc</th>\n",
       "      <th>mths_since_recent_bc_dlq</th>\n",
       "      <th>mths_since_recent_inq</th>\n",
       "      <th>mths_since_recent_revol_delinq</th>\n",
       "      <th>num_accts_ever_120_pd</th>\n",
       "      <th>num_actv_bc_tl</th>\n",
       "      <th>num_actv_rev_tl</th>\n",
       "      <th>num_bc_sats</th>\n",
       "      <th>num_bc_tl</th>\n",
       "      <th>num_il_tl</th>\n",
       "      <th>num_op_rev_tl</th>\n",
       "      <th>num_rev_accts</th>\n",
       "      <th>num_rev_tl_bal_gt_0</th>\n",
       "      <th>num_sats</th>\n",
       "      <th>num_tl_120dpd_2m</th>\n",
       "      <th>num_tl_30dpd</th>\n",
       "      <th>num_tl_90g_dpd_24m</th>\n",
       "      <th>num_tl_op_past_12m</th>\n",
       "      <th>pct_tl_nvr_dlq</th>\n",
       "      <th>percent_bc_gt_75</th>\n",
       "      <th>pub_rec_bankruptcies</th>\n",
       "      <th>tax_liens</th>\n",
       "      <th>tot_hi_cred_lim</th>\n",
       "      <th>total_bal_ex_mort</th>\n",
       "      <th>total_bc_limit</th>\n",
       "      <th>total_il_high_credit_limit</th>\n",
       "    </tr>\n",
       "  </thead>\n",
       "  <tbody>\n",
       "    <tr>\n",
       "      <th>0</th>\n",
       "      <td>1077501</td>\n",
       "      <td>1296599</td>\n",
       "      <td>5000</td>\n",
       "      <td>5000</td>\n",
       "      <td>4975.0</td>\n",
       "      <td>36 months</td>\n",
       "      <td>10.65%</td>\n",
       "      <td>162.87</td>\n",
       "      <td>B</td>\n",
       "      <td>B2</td>\n",
       "      <td>NaN</td>\n",
       "      <td>10+ years</td>\n",
       "      <td>RENT</td>\n",
       "      <td>24000.0</td>\n",
       "      <td>Verified</td>\n",
       "      <td>Dec-11</td>\n",
       "      <td>Fully Paid</td>\n",
       "      <td>n</td>\n",
       "      <td>https://lendingclub.com/browse/loanDetail.acti...</td>\n",
       "      <td>Borrower added on 12/22/11 &gt; I need to upgra...</td>\n",
       "      <td>credit_card</td>\n",
       "      <td>Computer</td>\n",
       "      <td>860xx</td>\n",
       "      <td>AZ</td>\n",
       "      <td>27.65</td>\n",
       "      <td>0</td>\n",
       "      <td>Jan-85</td>\n",
       "      <td>1</td>\n",
       "      <td>NaN</td>\n",
       "      <td>NaN</td>\n",
       "      <td>3</td>\n",
       "      <td>0</td>\n",
       "      <td>13648</td>\n",
       "      <td>83.70%</td>\n",
       "      <td>9</td>\n",
       "      <td>f</td>\n",
       "      <td>0.00</td>\n",
       "      <td>0.00</td>\n",
       "      <td>5863.155187</td>\n",
       "      <td>5833.84</td>\n",
       "      <td>5000.00</td>\n",
       "      <td>863.16</td>\n",
       "      <td>0.00</td>\n",
       "      <td>0.00</td>\n",
       "      <td>0.00</td>\n",
       "      <td>Jan-15</td>\n",
       "      <td>171.62</td>\n",
       "      <td>NaN</td>\n",
       "      <td>May-16</td>\n",
       "      <td>0.0</td>\n",
       "      <td>NaN</td>\n",
       "      <td>1</td>\n",
       "      <td>INDIVIDUAL</td>\n",
       "      <td>NaN</td>\n",
       "      <td>NaN</td>\n",
       "      <td>NaN</td>\n",
       "      <td>0</td>\n",
       "      <td>NaN</td>\n",
       "      <td>NaN</td>\n",
       "      <td>NaN</td>\n",
       "      <td>NaN</td>\n",
       "      <td>NaN</td>\n",
       "      <td>NaN</td>\n",
       "      <td>NaN</td>\n",
       "      <td>NaN</td>\n",
       "      <td>NaN</td>\n",
       "      <td>NaN</td>\n",
       "      <td>NaN</td>\n",
       "      <td>NaN</td>\n",
       "      <td>NaN</td>\n",
       "      <td>NaN</td>\n",
       "      <td>NaN</td>\n",
       "      <td>NaN</td>\n",
       "      <td>NaN</td>\n",
       "      <td>NaN</td>\n",
       "      <td>NaN</td>\n",
       "      <td>NaN</td>\n",
       "      <td>NaN</td>\n",
       "      <td>0.0</td>\n",
       "      <td>0</td>\n",
       "      <td>NaN</td>\n",
       "      <td>NaN</td>\n",
       "      <td>NaN</td>\n",
       "      <td>NaN</td>\n",
       "      <td>NaN</td>\n",
       "      <td>NaN</td>\n",
       "      <td>NaN</td>\n",
       "      <td>NaN</td>\n",
       "      <td>NaN</td>\n",
       "      <td>NaN</td>\n",
       "      <td>NaN</td>\n",
       "      <td>NaN</td>\n",
       "      <td>NaN</td>\n",
       "      <td>NaN</td>\n",
       "      <td>NaN</td>\n",
       "      <td>NaN</td>\n",
       "      <td>NaN</td>\n",
       "      <td>NaN</td>\n",
       "      <td>NaN</td>\n",
       "      <td>NaN</td>\n",
       "      <td>NaN</td>\n",
       "      <td>NaN</td>\n",
       "      <td>NaN</td>\n",
       "      <td>NaN</td>\n",
       "      <td>NaN</td>\n",
       "      <td>0.0</td>\n",
       "      <td>0.0</td>\n",
       "      <td>NaN</td>\n",
       "      <td>NaN</td>\n",
       "      <td>NaN</td>\n",
       "      <td>NaN</td>\n",
       "    </tr>\n",
       "    <tr>\n",
       "      <th>1</th>\n",
       "      <td>1077430</td>\n",
       "      <td>1314167</td>\n",
       "      <td>2500</td>\n",
       "      <td>2500</td>\n",
       "      <td>2500.0</td>\n",
       "      <td>60 months</td>\n",
       "      <td>15.27%</td>\n",
       "      <td>59.83</td>\n",
       "      <td>C</td>\n",
       "      <td>C4</td>\n",
       "      <td>Ryder</td>\n",
       "      <td>&lt; 1 year</td>\n",
       "      <td>RENT</td>\n",
       "      <td>30000.0</td>\n",
       "      <td>Source Verified</td>\n",
       "      <td>Dec-11</td>\n",
       "      <td>Charged Off</td>\n",
       "      <td>n</td>\n",
       "      <td>https://lendingclub.com/browse/loanDetail.acti...</td>\n",
       "      <td>Borrower added on 12/22/11 &gt; I plan to use t...</td>\n",
       "      <td>car</td>\n",
       "      <td>bike</td>\n",
       "      <td>309xx</td>\n",
       "      <td>GA</td>\n",
       "      <td>1.00</td>\n",
       "      <td>0</td>\n",
       "      <td>Apr-99</td>\n",
       "      <td>5</td>\n",
       "      <td>NaN</td>\n",
       "      <td>NaN</td>\n",
       "      <td>3</td>\n",
       "      <td>0</td>\n",
       "      <td>1687</td>\n",
       "      <td>9.40%</td>\n",
       "      <td>4</td>\n",
       "      <td>f</td>\n",
       "      <td>0.00</td>\n",
       "      <td>0.00</td>\n",
       "      <td>1008.710000</td>\n",
       "      <td>1008.71</td>\n",
       "      <td>456.46</td>\n",
       "      <td>435.17</td>\n",
       "      <td>0.00</td>\n",
       "      <td>117.08</td>\n",
       "      <td>1.11</td>\n",
       "      <td>Apr-13</td>\n",
       "      <td>119.66</td>\n",
       "      <td>NaN</td>\n",
       "      <td>Sep-13</td>\n",
       "      <td>0.0</td>\n",
       "      <td>NaN</td>\n",
       "      <td>1</td>\n",
       "      <td>INDIVIDUAL</td>\n",
       "      <td>NaN</td>\n",
       "      <td>NaN</td>\n",
       "      <td>NaN</td>\n",
       "      <td>0</td>\n",
       "      <td>NaN</td>\n",
       "      <td>NaN</td>\n",
       "      <td>NaN</td>\n",
       "      <td>NaN</td>\n",
       "      <td>NaN</td>\n",
       "      <td>NaN</td>\n",
       "      <td>NaN</td>\n",
       "      <td>NaN</td>\n",
       "      <td>NaN</td>\n",
       "      <td>NaN</td>\n",
       "      <td>NaN</td>\n",
       "      <td>NaN</td>\n",
       "      <td>NaN</td>\n",
       "      <td>NaN</td>\n",
       "      <td>NaN</td>\n",
       "      <td>NaN</td>\n",
       "      <td>NaN</td>\n",
       "      <td>NaN</td>\n",
       "      <td>NaN</td>\n",
       "      <td>NaN</td>\n",
       "      <td>NaN</td>\n",
       "      <td>0.0</td>\n",
       "      <td>0</td>\n",
       "      <td>NaN</td>\n",
       "      <td>NaN</td>\n",
       "      <td>NaN</td>\n",
       "      <td>NaN</td>\n",
       "      <td>NaN</td>\n",
       "      <td>NaN</td>\n",
       "      <td>NaN</td>\n",
       "      <td>NaN</td>\n",
       "      <td>NaN</td>\n",
       "      <td>NaN</td>\n",
       "      <td>NaN</td>\n",
       "      <td>NaN</td>\n",
       "      <td>NaN</td>\n",
       "      <td>NaN</td>\n",
       "      <td>NaN</td>\n",
       "      <td>NaN</td>\n",
       "      <td>NaN</td>\n",
       "      <td>NaN</td>\n",
       "      <td>NaN</td>\n",
       "      <td>NaN</td>\n",
       "      <td>NaN</td>\n",
       "      <td>NaN</td>\n",
       "      <td>NaN</td>\n",
       "      <td>NaN</td>\n",
       "      <td>NaN</td>\n",
       "      <td>0.0</td>\n",
       "      <td>0.0</td>\n",
       "      <td>NaN</td>\n",
       "      <td>NaN</td>\n",
       "      <td>NaN</td>\n",
       "      <td>NaN</td>\n",
       "    </tr>\n",
       "    <tr>\n",
       "      <th>2</th>\n",
       "      <td>1077175</td>\n",
       "      <td>1313524</td>\n",
       "      <td>2400</td>\n",
       "      <td>2400</td>\n",
       "      <td>2400.0</td>\n",
       "      <td>36 months</td>\n",
       "      <td>15.96%</td>\n",
       "      <td>84.33</td>\n",
       "      <td>C</td>\n",
       "      <td>C5</td>\n",
       "      <td>NaN</td>\n",
       "      <td>10+ years</td>\n",
       "      <td>RENT</td>\n",
       "      <td>12252.0</td>\n",
       "      <td>Not Verified</td>\n",
       "      <td>Dec-11</td>\n",
       "      <td>Fully Paid</td>\n",
       "      <td>n</td>\n",
       "      <td>https://lendingclub.com/browse/loanDetail.acti...</td>\n",
       "      <td>NaN</td>\n",
       "      <td>small_business</td>\n",
       "      <td>real estate business</td>\n",
       "      <td>606xx</td>\n",
       "      <td>IL</td>\n",
       "      <td>8.72</td>\n",
       "      <td>0</td>\n",
       "      <td>Nov-01</td>\n",
       "      <td>2</td>\n",
       "      <td>NaN</td>\n",
       "      <td>NaN</td>\n",
       "      <td>2</td>\n",
       "      <td>0</td>\n",
       "      <td>2956</td>\n",
       "      <td>98.50%</td>\n",
       "      <td>10</td>\n",
       "      <td>f</td>\n",
       "      <td>0.00</td>\n",
       "      <td>0.00</td>\n",
       "      <td>3005.666844</td>\n",
       "      <td>3005.67</td>\n",
       "      <td>2400.00</td>\n",
       "      <td>605.67</td>\n",
       "      <td>0.00</td>\n",
       "      <td>0.00</td>\n",
       "      <td>0.00</td>\n",
       "      <td>Jun-14</td>\n",
       "      <td>649.91</td>\n",
       "      <td>NaN</td>\n",
       "      <td>May-16</td>\n",
       "      <td>0.0</td>\n",
       "      <td>NaN</td>\n",
       "      <td>1</td>\n",
       "      <td>INDIVIDUAL</td>\n",
       "      <td>NaN</td>\n",
       "      <td>NaN</td>\n",
       "      <td>NaN</td>\n",
       "      <td>0</td>\n",
       "      <td>NaN</td>\n",
       "      <td>NaN</td>\n",
       "      <td>NaN</td>\n",
       "      <td>NaN</td>\n",
       "      <td>NaN</td>\n",
       "      <td>NaN</td>\n",
       "      <td>NaN</td>\n",
       "      <td>NaN</td>\n",
       "      <td>NaN</td>\n",
       "      <td>NaN</td>\n",
       "      <td>NaN</td>\n",
       "      <td>NaN</td>\n",
       "      <td>NaN</td>\n",
       "      <td>NaN</td>\n",
       "      <td>NaN</td>\n",
       "      <td>NaN</td>\n",
       "      <td>NaN</td>\n",
       "      <td>NaN</td>\n",
       "      <td>NaN</td>\n",
       "      <td>NaN</td>\n",
       "      <td>NaN</td>\n",
       "      <td>0.0</td>\n",
       "      <td>0</td>\n",
       "      <td>NaN</td>\n",
       "      <td>NaN</td>\n",
       "      <td>NaN</td>\n",
       "      <td>NaN</td>\n",
       "      <td>NaN</td>\n",
       "      <td>NaN</td>\n",
       "      <td>NaN</td>\n",
       "      <td>NaN</td>\n",
       "      <td>NaN</td>\n",
       "      <td>NaN</td>\n",
       "      <td>NaN</td>\n",
       "      <td>NaN</td>\n",
       "      <td>NaN</td>\n",
       "      <td>NaN</td>\n",
       "      <td>NaN</td>\n",
       "      <td>NaN</td>\n",
       "      <td>NaN</td>\n",
       "      <td>NaN</td>\n",
       "      <td>NaN</td>\n",
       "      <td>NaN</td>\n",
       "      <td>NaN</td>\n",
       "      <td>NaN</td>\n",
       "      <td>NaN</td>\n",
       "      <td>NaN</td>\n",
       "      <td>NaN</td>\n",
       "      <td>0.0</td>\n",
       "      <td>0.0</td>\n",
       "      <td>NaN</td>\n",
       "      <td>NaN</td>\n",
       "      <td>NaN</td>\n",
       "      <td>NaN</td>\n",
       "    </tr>\n",
       "    <tr>\n",
       "      <th>3</th>\n",
       "      <td>1076863</td>\n",
       "      <td>1277178</td>\n",
       "      <td>10000</td>\n",
       "      <td>10000</td>\n",
       "      <td>10000.0</td>\n",
       "      <td>36 months</td>\n",
       "      <td>13.49%</td>\n",
       "      <td>339.31</td>\n",
       "      <td>C</td>\n",
       "      <td>C1</td>\n",
       "      <td>AIR RESOURCES BOARD</td>\n",
       "      <td>10+ years</td>\n",
       "      <td>RENT</td>\n",
       "      <td>49200.0</td>\n",
       "      <td>Source Verified</td>\n",
       "      <td>Dec-11</td>\n",
       "      <td>Fully Paid</td>\n",
       "      <td>n</td>\n",
       "      <td>https://lendingclub.com/browse/loanDetail.acti...</td>\n",
       "      <td>Borrower added on 12/21/11 &gt; to pay for prop...</td>\n",
       "      <td>other</td>\n",
       "      <td>personel</td>\n",
       "      <td>917xx</td>\n",
       "      <td>CA</td>\n",
       "      <td>20.00</td>\n",
       "      <td>0</td>\n",
       "      <td>Feb-96</td>\n",
       "      <td>1</td>\n",
       "      <td>35.0</td>\n",
       "      <td>NaN</td>\n",
       "      <td>10</td>\n",
       "      <td>0</td>\n",
       "      <td>5598</td>\n",
       "      <td>21%</td>\n",
       "      <td>37</td>\n",
       "      <td>f</td>\n",
       "      <td>0.00</td>\n",
       "      <td>0.00</td>\n",
       "      <td>12231.890000</td>\n",
       "      <td>12231.89</td>\n",
       "      <td>10000.00</td>\n",
       "      <td>2214.92</td>\n",
       "      <td>16.97</td>\n",
       "      <td>0.00</td>\n",
       "      <td>0.00</td>\n",
       "      <td>Jan-15</td>\n",
       "      <td>357.48</td>\n",
       "      <td>NaN</td>\n",
       "      <td>Apr-16</td>\n",
       "      <td>0.0</td>\n",
       "      <td>NaN</td>\n",
       "      <td>1</td>\n",
       "      <td>INDIVIDUAL</td>\n",
       "      <td>NaN</td>\n",
       "      <td>NaN</td>\n",
       "      <td>NaN</td>\n",
       "      <td>0</td>\n",
       "      <td>NaN</td>\n",
       "      <td>NaN</td>\n",
       "      <td>NaN</td>\n",
       "      <td>NaN</td>\n",
       "      <td>NaN</td>\n",
       "      <td>NaN</td>\n",
       "      <td>NaN</td>\n",
       "      <td>NaN</td>\n",
       "      <td>NaN</td>\n",
       "      <td>NaN</td>\n",
       "      <td>NaN</td>\n",
       "      <td>NaN</td>\n",
       "      <td>NaN</td>\n",
       "      <td>NaN</td>\n",
       "      <td>NaN</td>\n",
       "      <td>NaN</td>\n",
       "      <td>NaN</td>\n",
       "      <td>NaN</td>\n",
       "      <td>NaN</td>\n",
       "      <td>NaN</td>\n",
       "      <td>NaN</td>\n",
       "      <td>0.0</td>\n",
       "      <td>0</td>\n",
       "      <td>NaN</td>\n",
       "      <td>NaN</td>\n",
       "      <td>NaN</td>\n",
       "      <td>NaN</td>\n",
       "      <td>NaN</td>\n",
       "      <td>NaN</td>\n",
       "      <td>NaN</td>\n",
       "      <td>NaN</td>\n",
       "      <td>NaN</td>\n",
       "      <td>NaN</td>\n",
       "      <td>NaN</td>\n",
       "      <td>NaN</td>\n",
       "      <td>NaN</td>\n",
       "      <td>NaN</td>\n",
       "      <td>NaN</td>\n",
       "      <td>NaN</td>\n",
       "      <td>NaN</td>\n",
       "      <td>NaN</td>\n",
       "      <td>NaN</td>\n",
       "      <td>NaN</td>\n",
       "      <td>NaN</td>\n",
       "      <td>NaN</td>\n",
       "      <td>NaN</td>\n",
       "      <td>NaN</td>\n",
       "      <td>NaN</td>\n",
       "      <td>0.0</td>\n",
       "      <td>0.0</td>\n",
       "      <td>NaN</td>\n",
       "      <td>NaN</td>\n",
       "      <td>NaN</td>\n",
       "      <td>NaN</td>\n",
       "    </tr>\n",
       "    <tr>\n",
       "      <th>4</th>\n",
       "      <td>1075358</td>\n",
       "      <td>1311748</td>\n",
       "      <td>3000</td>\n",
       "      <td>3000</td>\n",
       "      <td>3000.0</td>\n",
       "      <td>60 months</td>\n",
       "      <td>12.69%</td>\n",
       "      <td>67.79</td>\n",
       "      <td>B</td>\n",
       "      <td>B5</td>\n",
       "      <td>University Medical Group</td>\n",
       "      <td>1 year</td>\n",
       "      <td>RENT</td>\n",
       "      <td>80000.0</td>\n",
       "      <td>Source Verified</td>\n",
       "      <td>Dec-11</td>\n",
       "      <td>Current</td>\n",
       "      <td>n</td>\n",
       "      <td>https://lendingclub.com/browse/loanDetail.acti...</td>\n",
       "      <td>Borrower added on 12/21/11 &gt; I plan on combi...</td>\n",
       "      <td>other</td>\n",
       "      <td>Personal</td>\n",
       "      <td>972xx</td>\n",
       "      <td>OR</td>\n",
       "      <td>17.94</td>\n",
       "      <td>0</td>\n",
       "      <td>Jan-96</td>\n",
       "      <td>0</td>\n",
       "      <td>38.0</td>\n",
       "      <td>NaN</td>\n",
       "      <td>15</td>\n",
       "      <td>0</td>\n",
       "      <td>27783</td>\n",
       "      <td>53.90%</td>\n",
       "      <td>38</td>\n",
       "      <td>f</td>\n",
       "      <td>524.06</td>\n",
       "      <td>524.06</td>\n",
       "      <td>3513.330000</td>\n",
       "      <td>3513.33</td>\n",
       "      <td>2475.94</td>\n",
       "      <td>1037.39</td>\n",
       "      <td>0.00</td>\n",
       "      <td>0.00</td>\n",
       "      <td>0.00</td>\n",
       "      <td>May-16</td>\n",
       "      <td>67.79</td>\n",
       "      <td>Jun-16</td>\n",
       "      <td>May-16</td>\n",
       "      <td>0.0</td>\n",
       "      <td>NaN</td>\n",
       "      <td>1</td>\n",
       "      <td>INDIVIDUAL</td>\n",
       "      <td>NaN</td>\n",
       "      <td>NaN</td>\n",
       "      <td>NaN</td>\n",
       "      <td>0</td>\n",
       "      <td>NaN</td>\n",
       "      <td>NaN</td>\n",
       "      <td>NaN</td>\n",
       "      <td>NaN</td>\n",
       "      <td>NaN</td>\n",
       "      <td>NaN</td>\n",
       "      <td>NaN</td>\n",
       "      <td>NaN</td>\n",
       "      <td>NaN</td>\n",
       "      <td>NaN</td>\n",
       "      <td>NaN</td>\n",
       "      <td>NaN</td>\n",
       "      <td>NaN</td>\n",
       "      <td>NaN</td>\n",
       "      <td>NaN</td>\n",
       "      <td>NaN</td>\n",
       "      <td>NaN</td>\n",
       "      <td>NaN</td>\n",
       "      <td>NaN</td>\n",
       "      <td>NaN</td>\n",
       "      <td>NaN</td>\n",
       "      <td>0.0</td>\n",
       "      <td>0</td>\n",
       "      <td>NaN</td>\n",
       "      <td>NaN</td>\n",
       "      <td>NaN</td>\n",
       "      <td>NaN</td>\n",
       "      <td>NaN</td>\n",
       "      <td>NaN</td>\n",
       "      <td>NaN</td>\n",
       "      <td>NaN</td>\n",
       "      <td>NaN</td>\n",
       "      <td>NaN</td>\n",
       "      <td>NaN</td>\n",
       "      <td>NaN</td>\n",
       "      <td>NaN</td>\n",
       "      <td>NaN</td>\n",
       "      <td>NaN</td>\n",
       "      <td>NaN</td>\n",
       "      <td>NaN</td>\n",
       "      <td>NaN</td>\n",
       "      <td>NaN</td>\n",
       "      <td>NaN</td>\n",
       "      <td>NaN</td>\n",
       "      <td>NaN</td>\n",
       "      <td>NaN</td>\n",
       "      <td>NaN</td>\n",
       "      <td>NaN</td>\n",
       "      <td>0.0</td>\n",
       "      <td>0.0</td>\n",
       "      <td>NaN</td>\n",
       "      <td>NaN</td>\n",
       "      <td>NaN</td>\n",
       "      <td>NaN</td>\n",
       "    </tr>\n",
       "  </tbody>\n",
       "</table>\n",
       "</div>"
      ],
      "text/plain": [
       "        id  member_id  loan_amnt  funded_amnt  funded_amnt_inv        term  \\\n",
       "0  1077501    1296599       5000         5000           4975.0   36 months   \n",
       "1  1077430    1314167       2500         2500           2500.0   60 months   \n",
       "2  1077175    1313524       2400         2400           2400.0   36 months   \n",
       "3  1076863    1277178      10000        10000          10000.0   36 months   \n",
       "4  1075358    1311748       3000         3000           3000.0   60 months   \n",
       "\n",
       "  int_rate  installment grade sub_grade                 emp_title emp_length  \\\n",
       "0   10.65%       162.87     B        B2                       NaN  10+ years   \n",
       "1   15.27%        59.83     C        C4                     Ryder   < 1 year   \n",
       "2   15.96%        84.33     C        C5                       NaN  10+ years   \n",
       "3   13.49%       339.31     C        C1       AIR RESOURCES BOARD  10+ years   \n",
       "4   12.69%        67.79     B        B5  University Medical Group     1 year   \n",
       "\n",
       "  home_ownership  annual_inc verification_status issue_d  loan_status  \\\n",
       "0           RENT     24000.0            Verified  Dec-11   Fully Paid   \n",
       "1           RENT     30000.0     Source Verified  Dec-11  Charged Off   \n",
       "2           RENT     12252.0        Not Verified  Dec-11   Fully Paid   \n",
       "3           RENT     49200.0     Source Verified  Dec-11   Fully Paid   \n",
       "4           RENT     80000.0     Source Verified  Dec-11      Current   \n",
       "\n",
       "  pymnt_plan                                                url  \\\n",
       "0          n  https://lendingclub.com/browse/loanDetail.acti...   \n",
       "1          n  https://lendingclub.com/browse/loanDetail.acti...   \n",
       "2          n  https://lendingclub.com/browse/loanDetail.acti...   \n",
       "3          n  https://lendingclub.com/browse/loanDetail.acti...   \n",
       "4          n  https://lendingclub.com/browse/loanDetail.acti...   \n",
       "\n",
       "                                                desc         purpose  \\\n",
       "0    Borrower added on 12/22/11 > I need to upgra...     credit_card   \n",
       "1    Borrower added on 12/22/11 > I plan to use t...             car   \n",
       "2                                                NaN  small_business   \n",
       "3    Borrower added on 12/21/11 > to pay for prop...           other   \n",
       "4    Borrower added on 12/21/11 > I plan on combi...           other   \n",
       "\n",
       "                  title zip_code addr_state    dti  delinq_2yrs  \\\n",
       "0              Computer    860xx         AZ  27.65            0   \n",
       "1                  bike    309xx         GA   1.00            0   \n",
       "2  real estate business    606xx         IL   8.72            0   \n",
       "3              personel    917xx         CA  20.00            0   \n",
       "4              Personal    972xx         OR  17.94            0   \n",
       "\n",
       "  earliest_cr_line  inq_last_6mths  mths_since_last_delinq  \\\n",
       "0           Jan-85               1                     NaN   \n",
       "1           Apr-99               5                     NaN   \n",
       "2           Nov-01               2                     NaN   \n",
       "3           Feb-96               1                    35.0   \n",
       "4           Jan-96               0                    38.0   \n",
       "\n",
       "   mths_since_last_record  open_acc  pub_rec  revol_bal revol_util  total_acc  \\\n",
       "0                     NaN         3        0      13648     83.70%          9   \n",
       "1                     NaN         3        0       1687      9.40%          4   \n",
       "2                     NaN         2        0       2956     98.50%         10   \n",
       "3                     NaN        10        0       5598        21%         37   \n",
       "4                     NaN        15        0      27783     53.90%         38   \n",
       "\n",
       "  initial_list_status  out_prncp  out_prncp_inv   total_pymnt  \\\n",
       "0                   f       0.00           0.00   5863.155187   \n",
       "1                   f       0.00           0.00   1008.710000   \n",
       "2                   f       0.00           0.00   3005.666844   \n",
       "3                   f       0.00           0.00  12231.890000   \n",
       "4                   f     524.06         524.06   3513.330000   \n",
       "\n",
       "   total_pymnt_inv  total_rec_prncp  total_rec_int  total_rec_late_fee  \\\n",
       "0          5833.84          5000.00         863.16                0.00   \n",
       "1          1008.71           456.46         435.17                0.00   \n",
       "2          3005.67          2400.00         605.67                0.00   \n",
       "3         12231.89         10000.00        2214.92               16.97   \n",
       "4          3513.33          2475.94        1037.39                0.00   \n",
       "\n",
       "   recoveries  collection_recovery_fee last_pymnt_d  last_pymnt_amnt  \\\n",
       "0        0.00                     0.00       Jan-15           171.62   \n",
       "1      117.08                     1.11       Apr-13           119.66   \n",
       "2        0.00                     0.00       Jun-14           649.91   \n",
       "3        0.00                     0.00       Jan-15           357.48   \n",
       "4        0.00                     0.00       May-16            67.79   \n",
       "\n",
       "  next_pymnt_d last_credit_pull_d  collections_12_mths_ex_med  \\\n",
       "0          NaN             May-16                         0.0   \n",
       "1          NaN             Sep-13                         0.0   \n",
       "2          NaN             May-16                         0.0   \n",
       "3          NaN             Apr-16                         0.0   \n",
       "4       Jun-16             May-16                         0.0   \n",
       "\n",
       "   mths_since_last_major_derog  policy_code application_type  \\\n",
       "0                          NaN            1       INDIVIDUAL   \n",
       "1                          NaN            1       INDIVIDUAL   \n",
       "2                          NaN            1       INDIVIDUAL   \n",
       "3                          NaN            1       INDIVIDUAL   \n",
       "4                          NaN            1       INDIVIDUAL   \n",
       "\n",
       "   annual_inc_joint  dti_joint  verification_status_joint  acc_now_delinq  \\\n",
       "0               NaN        NaN                        NaN               0   \n",
       "1               NaN        NaN                        NaN               0   \n",
       "2               NaN        NaN                        NaN               0   \n",
       "3               NaN        NaN                        NaN               0   \n",
       "4               NaN        NaN                        NaN               0   \n",
       "\n",
       "   tot_coll_amt  tot_cur_bal  open_acc_6m  open_il_6m  open_il_12m  \\\n",
       "0           NaN          NaN          NaN         NaN          NaN   \n",
       "1           NaN          NaN          NaN         NaN          NaN   \n",
       "2           NaN          NaN          NaN         NaN          NaN   \n",
       "3           NaN          NaN          NaN         NaN          NaN   \n",
       "4           NaN          NaN          NaN         NaN          NaN   \n",
       "\n",
       "   open_il_24m  mths_since_rcnt_il  total_bal_il  il_util  open_rv_12m  \\\n",
       "0          NaN                 NaN           NaN      NaN          NaN   \n",
       "1          NaN                 NaN           NaN      NaN          NaN   \n",
       "2          NaN                 NaN           NaN      NaN          NaN   \n",
       "3          NaN                 NaN           NaN      NaN          NaN   \n",
       "4          NaN                 NaN           NaN      NaN          NaN   \n",
       "\n",
       "   open_rv_24m  max_bal_bc  all_util  total_rev_hi_lim  inq_fi  total_cu_tl  \\\n",
       "0          NaN         NaN       NaN               NaN     NaN          NaN   \n",
       "1          NaN         NaN       NaN               NaN     NaN          NaN   \n",
       "2          NaN         NaN       NaN               NaN     NaN          NaN   \n",
       "3          NaN         NaN       NaN               NaN     NaN          NaN   \n",
       "4          NaN         NaN       NaN               NaN     NaN          NaN   \n",
       "\n",
       "   inq_last_12m  acc_open_past_24mths  avg_cur_bal  bc_open_to_buy  bc_util  \\\n",
       "0           NaN                   NaN          NaN             NaN      NaN   \n",
       "1           NaN                   NaN          NaN             NaN      NaN   \n",
       "2           NaN                   NaN          NaN             NaN      NaN   \n",
       "3           NaN                   NaN          NaN             NaN      NaN   \n",
       "4           NaN                   NaN          NaN             NaN      NaN   \n",
       "\n",
       "   chargeoff_within_12_mths  delinq_amnt  mo_sin_old_il_acct  \\\n",
       "0                       0.0            0                 NaN   \n",
       "1                       0.0            0                 NaN   \n",
       "2                       0.0            0                 NaN   \n",
       "3                       0.0            0                 NaN   \n",
       "4                       0.0            0                 NaN   \n",
       "\n",
       "   mo_sin_old_rev_tl_op  mo_sin_rcnt_rev_tl_op  mo_sin_rcnt_tl  mort_acc  \\\n",
       "0                   NaN                    NaN             NaN       NaN   \n",
       "1                   NaN                    NaN             NaN       NaN   \n",
       "2                   NaN                    NaN             NaN       NaN   \n",
       "3                   NaN                    NaN             NaN       NaN   \n",
       "4                   NaN                    NaN             NaN       NaN   \n",
       "\n",
       "   mths_since_recent_bc  mths_since_recent_bc_dlq  mths_since_recent_inq  \\\n",
       "0                   NaN                       NaN                    NaN   \n",
       "1                   NaN                       NaN                    NaN   \n",
       "2                   NaN                       NaN                    NaN   \n",
       "3                   NaN                       NaN                    NaN   \n",
       "4                   NaN                       NaN                    NaN   \n",
       "\n",
       "   mths_since_recent_revol_delinq  num_accts_ever_120_pd  num_actv_bc_tl  \\\n",
       "0                             NaN                    NaN             NaN   \n",
       "1                             NaN                    NaN             NaN   \n",
       "2                             NaN                    NaN             NaN   \n",
       "3                             NaN                    NaN             NaN   \n",
       "4                             NaN                    NaN             NaN   \n",
       "\n",
       "   num_actv_rev_tl  num_bc_sats  num_bc_tl  num_il_tl  num_op_rev_tl  \\\n",
       "0              NaN          NaN        NaN        NaN            NaN   \n",
       "1              NaN          NaN        NaN        NaN            NaN   \n",
       "2              NaN          NaN        NaN        NaN            NaN   \n",
       "3              NaN          NaN        NaN        NaN            NaN   \n",
       "4              NaN          NaN        NaN        NaN            NaN   \n",
       "\n",
       "   num_rev_accts  num_rev_tl_bal_gt_0  num_sats  num_tl_120dpd_2m  \\\n",
       "0            NaN                  NaN       NaN               NaN   \n",
       "1            NaN                  NaN       NaN               NaN   \n",
       "2            NaN                  NaN       NaN               NaN   \n",
       "3            NaN                  NaN       NaN               NaN   \n",
       "4            NaN                  NaN       NaN               NaN   \n",
       "\n",
       "   num_tl_30dpd  num_tl_90g_dpd_24m  num_tl_op_past_12m  pct_tl_nvr_dlq  \\\n",
       "0           NaN                 NaN                 NaN             NaN   \n",
       "1           NaN                 NaN                 NaN             NaN   \n",
       "2           NaN                 NaN                 NaN             NaN   \n",
       "3           NaN                 NaN                 NaN             NaN   \n",
       "4           NaN                 NaN                 NaN             NaN   \n",
       "\n",
       "   percent_bc_gt_75  pub_rec_bankruptcies  tax_liens  tot_hi_cred_lim  \\\n",
       "0               NaN                   0.0        0.0              NaN   \n",
       "1               NaN                   0.0        0.0              NaN   \n",
       "2               NaN                   0.0        0.0              NaN   \n",
       "3               NaN                   0.0        0.0              NaN   \n",
       "4               NaN                   0.0        0.0              NaN   \n",
       "\n",
       "   total_bal_ex_mort  total_bc_limit  total_il_high_credit_limit  \n",
       "0                NaN             NaN                         NaN  \n",
       "1                NaN             NaN                         NaN  \n",
       "2                NaN             NaN                         NaN  \n",
       "3                NaN             NaN                         NaN  \n",
       "4                NaN             NaN                         NaN  "
      ]
     },
     "execution_count": 4,
     "metadata": {},
     "output_type": "execute_result"
    }
   ],
   "source": [
    "## Setting up to see all the columns in dataframe \n",
    "pd.set_option('display.max_columns', None)\n",
    "loan_df.head()"
   ]
  },
  {
   "cell_type": "code",
   "execution_count": 5,
   "metadata": {},
   "outputs": [
    {
     "data": {
      "text/html": [
       "<div>\n",
       "<style scoped>\n",
       "    .dataframe tbody tr th:only-of-type {\n",
       "        vertical-align: middle;\n",
       "    }\n",
       "\n",
       "    .dataframe tbody tr th {\n",
       "        vertical-align: top;\n",
       "    }\n",
       "\n",
       "    .dataframe thead th {\n",
       "        text-align: right;\n",
       "    }\n",
       "</style>\n",
       "<table border=\"1\" class=\"dataframe\">\n",
       "  <thead>\n",
       "    <tr style=\"text-align: right;\">\n",
       "      <th></th>\n",
       "      <th>id</th>\n",
       "      <th>member_id</th>\n",
       "      <th>loan_amnt</th>\n",
       "      <th>funded_amnt</th>\n",
       "      <th>funded_amnt_inv</th>\n",
       "      <th>installment</th>\n",
       "      <th>annual_inc</th>\n",
       "      <th>dti</th>\n",
       "      <th>delinq_2yrs</th>\n",
       "      <th>inq_last_6mths</th>\n",
       "      <th>mths_since_last_delinq</th>\n",
       "      <th>mths_since_last_record</th>\n",
       "      <th>open_acc</th>\n",
       "      <th>pub_rec</th>\n",
       "      <th>revol_bal</th>\n",
       "      <th>total_acc</th>\n",
       "      <th>out_prncp</th>\n",
       "      <th>out_prncp_inv</th>\n",
       "      <th>total_pymnt</th>\n",
       "      <th>total_pymnt_inv</th>\n",
       "      <th>total_rec_prncp</th>\n",
       "      <th>total_rec_int</th>\n",
       "      <th>total_rec_late_fee</th>\n",
       "      <th>recoveries</th>\n",
       "      <th>collection_recovery_fee</th>\n",
       "      <th>last_pymnt_amnt</th>\n",
       "      <th>collections_12_mths_ex_med</th>\n",
       "      <th>mths_since_last_major_derog</th>\n",
       "      <th>policy_code</th>\n",
       "      <th>annual_inc_joint</th>\n",
       "      <th>dti_joint</th>\n",
       "      <th>verification_status_joint</th>\n",
       "      <th>acc_now_delinq</th>\n",
       "      <th>tot_coll_amt</th>\n",
       "      <th>tot_cur_bal</th>\n",
       "      <th>open_acc_6m</th>\n",
       "      <th>open_il_6m</th>\n",
       "      <th>open_il_12m</th>\n",
       "      <th>open_il_24m</th>\n",
       "      <th>mths_since_rcnt_il</th>\n",
       "      <th>total_bal_il</th>\n",
       "      <th>il_util</th>\n",
       "      <th>open_rv_12m</th>\n",
       "      <th>open_rv_24m</th>\n",
       "      <th>max_bal_bc</th>\n",
       "      <th>all_util</th>\n",
       "      <th>total_rev_hi_lim</th>\n",
       "      <th>inq_fi</th>\n",
       "      <th>total_cu_tl</th>\n",
       "      <th>inq_last_12m</th>\n",
       "      <th>acc_open_past_24mths</th>\n",
       "      <th>avg_cur_bal</th>\n",
       "      <th>bc_open_to_buy</th>\n",
       "      <th>bc_util</th>\n",
       "      <th>chargeoff_within_12_mths</th>\n",
       "      <th>delinq_amnt</th>\n",
       "      <th>mo_sin_old_il_acct</th>\n",
       "      <th>mo_sin_old_rev_tl_op</th>\n",
       "      <th>mo_sin_rcnt_rev_tl_op</th>\n",
       "      <th>mo_sin_rcnt_tl</th>\n",
       "      <th>mort_acc</th>\n",
       "      <th>mths_since_recent_bc</th>\n",
       "      <th>mths_since_recent_bc_dlq</th>\n",
       "      <th>mths_since_recent_inq</th>\n",
       "      <th>mths_since_recent_revol_delinq</th>\n",
       "      <th>num_accts_ever_120_pd</th>\n",
       "      <th>num_actv_bc_tl</th>\n",
       "      <th>num_actv_rev_tl</th>\n",
       "      <th>num_bc_sats</th>\n",
       "      <th>num_bc_tl</th>\n",
       "      <th>num_il_tl</th>\n",
       "      <th>num_op_rev_tl</th>\n",
       "      <th>num_rev_accts</th>\n",
       "      <th>num_rev_tl_bal_gt_0</th>\n",
       "      <th>num_sats</th>\n",
       "      <th>num_tl_120dpd_2m</th>\n",
       "      <th>num_tl_30dpd</th>\n",
       "      <th>num_tl_90g_dpd_24m</th>\n",
       "      <th>num_tl_op_past_12m</th>\n",
       "      <th>pct_tl_nvr_dlq</th>\n",
       "      <th>percent_bc_gt_75</th>\n",
       "      <th>pub_rec_bankruptcies</th>\n",
       "      <th>tax_liens</th>\n",
       "      <th>tot_hi_cred_lim</th>\n",
       "      <th>total_bal_ex_mort</th>\n",
       "      <th>total_bc_limit</th>\n",
       "      <th>total_il_high_credit_limit</th>\n",
       "    </tr>\n",
       "  </thead>\n",
       "  <tbody>\n",
       "    <tr>\n",
       "      <th>count</th>\n",
       "      <td>3.971700e+04</td>\n",
       "      <td>3.971700e+04</td>\n",
       "      <td>39717.000000</td>\n",
       "      <td>39717.000000</td>\n",
       "      <td>39717.000000</td>\n",
       "      <td>39717.000000</td>\n",
       "      <td>3.971700e+04</td>\n",
       "      <td>39717.000000</td>\n",
       "      <td>39717.000000</td>\n",
       "      <td>39717.000000</td>\n",
       "      <td>14035.000000</td>\n",
       "      <td>2786.000000</td>\n",
       "      <td>39717.000000</td>\n",
       "      <td>39717.000000</td>\n",
       "      <td>39717.000000</td>\n",
       "      <td>39717.000000</td>\n",
       "      <td>39717.000000</td>\n",
       "      <td>39717.000000</td>\n",
       "      <td>39717.000000</td>\n",
       "      <td>39717.000000</td>\n",
       "      <td>39717.000000</td>\n",
       "      <td>39717.000000</td>\n",
       "      <td>39717.000000</td>\n",
       "      <td>39717.000000</td>\n",
       "      <td>39717.000000</td>\n",
       "      <td>39717.000000</td>\n",
       "      <td>39661.0</td>\n",
       "      <td>0.0</td>\n",
       "      <td>39717.0</td>\n",
       "      <td>0.0</td>\n",
       "      <td>0.0</td>\n",
       "      <td>0.0</td>\n",
       "      <td>39717.0</td>\n",
       "      <td>0.0</td>\n",
       "      <td>0.0</td>\n",
       "      <td>0.0</td>\n",
       "      <td>0.0</td>\n",
       "      <td>0.0</td>\n",
       "      <td>0.0</td>\n",
       "      <td>0.0</td>\n",
       "      <td>0.0</td>\n",
       "      <td>0.0</td>\n",
       "      <td>0.0</td>\n",
       "      <td>0.0</td>\n",
       "      <td>0.0</td>\n",
       "      <td>0.0</td>\n",
       "      <td>0.0</td>\n",
       "      <td>0.0</td>\n",
       "      <td>0.0</td>\n",
       "      <td>0.0</td>\n",
       "      <td>0.0</td>\n",
       "      <td>0.0</td>\n",
       "      <td>0.0</td>\n",
       "      <td>0.0</td>\n",
       "      <td>39661.0</td>\n",
       "      <td>39717.0</td>\n",
       "      <td>0.0</td>\n",
       "      <td>0.0</td>\n",
       "      <td>0.0</td>\n",
       "      <td>0.0</td>\n",
       "      <td>0.0</td>\n",
       "      <td>0.0</td>\n",
       "      <td>0.0</td>\n",
       "      <td>0.0</td>\n",
       "      <td>0.0</td>\n",
       "      <td>0.0</td>\n",
       "      <td>0.0</td>\n",
       "      <td>0.0</td>\n",
       "      <td>0.0</td>\n",
       "      <td>0.0</td>\n",
       "      <td>0.0</td>\n",
       "      <td>0.0</td>\n",
       "      <td>0.0</td>\n",
       "      <td>0.0</td>\n",
       "      <td>0.0</td>\n",
       "      <td>0.0</td>\n",
       "      <td>0.0</td>\n",
       "      <td>0.0</td>\n",
       "      <td>0.0</td>\n",
       "      <td>0.0</td>\n",
       "      <td>0.0</td>\n",
       "      <td>39020.000000</td>\n",
       "      <td>39678.0</td>\n",
       "      <td>0.0</td>\n",
       "      <td>0.0</td>\n",
       "      <td>0.0</td>\n",
       "      <td>0.0</td>\n",
       "    </tr>\n",
       "    <tr>\n",
       "      <th>mean</th>\n",
       "      <td>6.831319e+05</td>\n",
       "      <td>8.504636e+05</td>\n",
       "      <td>11219.443815</td>\n",
       "      <td>10947.713196</td>\n",
       "      <td>10397.448868</td>\n",
       "      <td>324.561922</td>\n",
       "      <td>6.896893e+04</td>\n",
       "      <td>13.315130</td>\n",
       "      <td>0.146512</td>\n",
       "      <td>0.869200</td>\n",
       "      <td>35.900962</td>\n",
       "      <td>69.698134</td>\n",
       "      <td>9.294408</td>\n",
       "      <td>0.055065</td>\n",
       "      <td>13382.528086</td>\n",
       "      <td>22.088828</td>\n",
       "      <td>51.227887</td>\n",
       "      <td>50.989768</td>\n",
       "      <td>12153.596544</td>\n",
       "      <td>11567.149118</td>\n",
       "      <td>9793.348813</td>\n",
       "      <td>2263.663172</td>\n",
       "      <td>1.363015</td>\n",
       "      <td>95.221624</td>\n",
       "      <td>12.406112</td>\n",
       "      <td>2678.826162</td>\n",
       "      <td>0.0</td>\n",
       "      <td>NaN</td>\n",
       "      <td>1.0</td>\n",
       "      <td>NaN</td>\n",
       "      <td>NaN</td>\n",
       "      <td>NaN</td>\n",
       "      <td>0.0</td>\n",
       "      <td>NaN</td>\n",
       "      <td>NaN</td>\n",
       "      <td>NaN</td>\n",
       "      <td>NaN</td>\n",
       "      <td>NaN</td>\n",
       "      <td>NaN</td>\n",
       "      <td>NaN</td>\n",
       "      <td>NaN</td>\n",
       "      <td>NaN</td>\n",
       "      <td>NaN</td>\n",
       "      <td>NaN</td>\n",
       "      <td>NaN</td>\n",
       "      <td>NaN</td>\n",
       "      <td>NaN</td>\n",
       "      <td>NaN</td>\n",
       "      <td>NaN</td>\n",
       "      <td>NaN</td>\n",
       "      <td>NaN</td>\n",
       "      <td>NaN</td>\n",
       "      <td>NaN</td>\n",
       "      <td>NaN</td>\n",
       "      <td>0.0</td>\n",
       "      <td>0.0</td>\n",
       "      <td>NaN</td>\n",
       "      <td>NaN</td>\n",
       "      <td>NaN</td>\n",
       "      <td>NaN</td>\n",
       "      <td>NaN</td>\n",
       "      <td>NaN</td>\n",
       "      <td>NaN</td>\n",
       "      <td>NaN</td>\n",
       "      <td>NaN</td>\n",
       "      <td>NaN</td>\n",
       "      <td>NaN</td>\n",
       "      <td>NaN</td>\n",
       "      <td>NaN</td>\n",
       "      <td>NaN</td>\n",
       "      <td>NaN</td>\n",
       "      <td>NaN</td>\n",
       "      <td>NaN</td>\n",
       "      <td>NaN</td>\n",
       "      <td>NaN</td>\n",
       "      <td>NaN</td>\n",
       "      <td>NaN</td>\n",
       "      <td>NaN</td>\n",
       "      <td>NaN</td>\n",
       "      <td>NaN</td>\n",
       "      <td>NaN</td>\n",
       "      <td>0.043260</td>\n",
       "      <td>0.0</td>\n",
       "      <td>NaN</td>\n",
       "      <td>NaN</td>\n",
       "      <td>NaN</td>\n",
       "      <td>NaN</td>\n",
       "    </tr>\n",
       "    <tr>\n",
       "      <th>std</th>\n",
       "      <td>2.106941e+05</td>\n",
       "      <td>2.656783e+05</td>\n",
       "      <td>7456.670694</td>\n",
       "      <td>7187.238670</td>\n",
       "      <td>7128.450439</td>\n",
       "      <td>208.874874</td>\n",
       "      <td>6.379377e+04</td>\n",
       "      <td>6.678594</td>\n",
       "      <td>0.491812</td>\n",
       "      <td>1.070219</td>\n",
       "      <td>22.020060</td>\n",
       "      <td>43.822529</td>\n",
       "      <td>4.400282</td>\n",
       "      <td>0.237200</td>\n",
       "      <td>15885.016641</td>\n",
       "      <td>11.401709</td>\n",
       "      <td>375.172839</td>\n",
       "      <td>373.824457</td>\n",
       "      <td>9042.040766</td>\n",
       "      <td>8942.672613</td>\n",
       "      <td>7065.522127</td>\n",
       "      <td>2608.111964</td>\n",
       "      <td>7.289979</td>\n",
       "      <td>688.744771</td>\n",
       "      <td>148.671593</td>\n",
       "      <td>4447.136012</td>\n",
       "      <td>0.0</td>\n",
       "      <td>NaN</td>\n",
       "      <td>0.0</td>\n",
       "      <td>NaN</td>\n",
       "      <td>NaN</td>\n",
       "      <td>NaN</td>\n",
       "      <td>0.0</td>\n",
       "      <td>NaN</td>\n",
       "      <td>NaN</td>\n",
       "      <td>NaN</td>\n",
       "      <td>NaN</td>\n",
       "      <td>NaN</td>\n",
       "      <td>NaN</td>\n",
       "      <td>NaN</td>\n",
       "      <td>NaN</td>\n",
       "      <td>NaN</td>\n",
       "      <td>NaN</td>\n",
       "      <td>NaN</td>\n",
       "      <td>NaN</td>\n",
       "      <td>NaN</td>\n",
       "      <td>NaN</td>\n",
       "      <td>NaN</td>\n",
       "      <td>NaN</td>\n",
       "      <td>NaN</td>\n",
       "      <td>NaN</td>\n",
       "      <td>NaN</td>\n",
       "      <td>NaN</td>\n",
       "      <td>NaN</td>\n",
       "      <td>0.0</td>\n",
       "      <td>0.0</td>\n",
       "      <td>NaN</td>\n",
       "      <td>NaN</td>\n",
       "      <td>NaN</td>\n",
       "      <td>NaN</td>\n",
       "      <td>NaN</td>\n",
       "      <td>NaN</td>\n",
       "      <td>NaN</td>\n",
       "      <td>NaN</td>\n",
       "      <td>NaN</td>\n",
       "      <td>NaN</td>\n",
       "      <td>NaN</td>\n",
       "      <td>NaN</td>\n",
       "      <td>NaN</td>\n",
       "      <td>NaN</td>\n",
       "      <td>NaN</td>\n",
       "      <td>NaN</td>\n",
       "      <td>NaN</td>\n",
       "      <td>NaN</td>\n",
       "      <td>NaN</td>\n",
       "      <td>NaN</td>\n",
       "      <td>NaN</td>\n",
       "      <td>NaN</td>\n",
       "      <td>NaN</td>\n",
       "      <td>NaN</td>\n",
       "      <td>NaN</td>\n",
       "      <td>0.204324</td>\n",
       "      <td>0.0</td>\n",
       "      <td>NaN</td>\n",
       "      <td>NaN</td>\n",
       "      <td>NaN</td>\n",
       "      <td>NaN</td>\n",
       "    </tr>\n",
       "    <tr>\n",
       "      <th>min</th>\n",
       "      <td>5.473400e+04</td>\n",
       "      <td>7.069900e+04</td>\n",
       "      <td>500.000000</td>\n",
       "      <td>500.000000</td>\n",
       "      <td>0.000000</td>\n",
       "      <td>15.690000</td>\n",
       "      <td>4.000000e+03</td>\n",
       "      <td>0.000000</td>\n",
       "      <td>0.000000</td>\n",
       "      <td>0.000000</td>\n",
       "      <td>0.000000</td>\n",
       "      <td>0.000000</td>\n",
       "      <td>2.000000</td>\n",
       "      <td>0.000000</td>\n",
       "      <td>0.000000</td>\n",
       "      <td>2.000000</td>\n",
       "      <td>0.000000</td>\n",
       "      <td>0.000000</td>\n",
       "      <td>0.000000</td>\n",
       "      <td>0.000000</td>\n",
       "      <td>0.000000</td>\n",
       "      <td>0.000000</td>\n",
       "      <td>0.000000</td>\n",
       "      <td>0.000000</td>\n",
       "      <td>0.000000</td>\n",
       "      <td>0.000000</td>\n",
       "      <td>0.0</td>\n",
       "      <td>NaN</td>\n",
       "      <td>1.0</td>\n",
       "      <td>NaN</td>\n",
       "      <td>NaN</td>\n",
       "      <td>NaN</td>\n",
       "      <td>0.0</td>\n",
       "      <td>NaN</td>\n",
       "      <td>NaN</td>\n",
       "      <td>NaN</td>\n",
       "      <td>NaN</td>\n",
       "      <td>NaN</td>\n",
       "      <td>NaN</td>\n",
       "      <td>NaN</td>\n",
       "      <td>NaN</td>\n",
       "      <td>NaN</td>\n",
       "      <td>NaN</td>\n",
       "      <td>NaN</td>\n",
       "      <td>NaN</td>\n",
       "      <td>NaN</td>\n",
       "      <td>NaN</td>\n",
       "      <td>NaN</td>\n",
       "      <td>NaN</td>\n",
       "      <td>NaN</td>\n",
       "      <td>NaN</td>\n",
       "      <td>NaN</td>\n",
       "      <td>NaN</td>\n",
       "      <td>NaN</td>\n",
       "      <td>0.0</td>\n",
       "      <td>0.0</td>\n",
       "      <td>NaN</td>\n",
       "      <td>NaN</td>\n",
       "      <td>NaN</td>\n",
       "      <td>NaN</td>\n",
       "      <td>NaN</td>\n",
       "      <td>NaN</td>\n",
       "      <td>NaN</td>\n",
       "      <td>NaN</td>\n",
       "      <td>NaN</td>\n",
       "      <td>NaN</td>\n",
       "      <td>NaN</td>\n",
       "      <td>NaN</td>\n",
       "      <td>NaN</td>\n",
       "      <td>NaN</td>\n",
       "      <td>NaN</td>\n",
       "      <td>NaN</td>\n",
       "      <td>NaN</td>\n",
       "      <td>NaN</td>\n",
       "      <td>NaN</td>\n",
       "      <td>NaN</td>\n",
       "      <td>NaN</td>\n",
       "      <td>NaN</td>\n",
       "      <td>NaN</td>\n",
       "      <td>NaN</td>\n",
       "      <td>NaN</td>\n",
       "      <td>0.000000</td>\n",
       "      <td>0.0</td>\n",
       "      <td>NaN</td>\n",
       "      <td>NaN</td>\n",
       "      <td>NaN</td>\n",
       "      <td>NaN</td>\n",
       "    </tr>\n",
       "    <tr>\n",
       "      <th>25%</th>\n",
       "      <td>5.162210e+05</td>\n",
       "      <td>6.667800e+05</td>\n",
       "      <td>5500.000000</td>\n",
       "      <td>5400.000000</td>\n",
       "      <td>5000.000000</td>\n",
       "      <td>167.020000</td>\n",
       "      <td>4.040400e+04</td>\n",
       "      <td>8.170000</td>\n",
       "      <td>0.000000</td>\n",
       "      <td>0.000000</td>\n",
       "      <td>18.000000</td>\n",
       "      <td>22.000000</td>\n",
       "      <td>6.000000</td>\n",
       "      <td>0.000000</td>\n",
       "      <td>3703.000000</td>\n",
       "      <td>13.000000</td>\n",
       "      <td>0.000000</td>\n",
       "      <td>0.000000</td>\n",
       "      <td>5576.930000</td>\n",
       "      <td>5112.310000</td>\n",
       "      <td>4600.000000</td>\n",
       "      <td>662.180000</td>\n",
       "      <td>0.000000</td>\n",
       "      <td>0.000000</td>\n",
       "      <td>0.000000</td>\n",
       "      <td>218.680000</td>\n",
       "      <td>0.0</td>\n",
       "      <td>NaN</td>\n",
       "      <td>1.0</td>\n",
       "      <td>NaN</td>\n",
       "      <td>NaN</td>\n",
       "      <td>NaN</td>\n",
       "      <td>0.0</td>\n",
       "      <td>NaN</td>\n",
       "      <td>NaN</td>\n",
       "      <td>NaN</td>\n",
       "      <td>NaN</td>\n",
       "      <td>NaN</td>\n",
       "      <td>NaN</td>\n",
       "      <td>NaN</td>\n",
       "      <td>NaN</td>\n",
       "      <td>NaN</td>\n",
       "      <td>NaN</td>\n",
       "      <td>NaN</td>\n",
       "      <td>NaN</td>\n",
       "      <td>NaN</td>\n",
       "      <td>NaN</td>\n",
       "      <td>NaN</td>\n",
       "      <td>NaN</td>\n",
       "      <td>NaN</td>\n",
       "      <td>NaN</td>\n",
       "      <td>NaN</td>\n",
       "      <td>NaN</td>\n",
       "      <td>NaN</td>\n",
       "      <td>0.0</td>\n",
       "      <td>0.0</td>\n",
       "      <td>NaN</td>\n",
       "      <td>NaN</td>\n",
       "      <td>NaN</td>\n",
       "      <td>NaN</td>\n",
       "      <td>NaN</td>\n",
       "      <td>NaN</td>\n",
       "      <td>NaN</td>\n",
       "      <td>NaN</td>\n",
       "      <td>NaN</td>\n",
       "      <td>NaN</td>\n",
       "      <td>NaN</td>\n",
       "      <td>NaN</td>\n",
       "      <td>NaN</td>\n",
       "      <td>NaN</td>\n",
       "      <td>NaN</td>\n",
       "      <td>NaN</td>\n",
       "      <td>NaN</td>\n",
       "      <td>NaN</td>\n",
       "      <td>NaN</td>\n",
       "      <td>NaN</td>\n",
       "      <td>NaN</td>\n",
       "      <td>NaN</td>\n",
       "      <td>NaN</td>\n",
       "      <td>NaN</td>\n",
       "      <td>NaN</td>\n",
       "      <td>0.000000</td>\n",
       "      <td>0.0</td>\n",
       "      <td>NaN</td>\n",
       "      <td>NaN</td>\n",
       "      <td>NaN</td>\n",
       "      <td>NaN</td>\n",
       "    </tr>\n",
       "    <tr>\n",
       "      <th>50%</th>\n",
       "      <td>6.656650e+05</td>\n",
       "      <td>8.508120e+05</td>\n",
       "      <td>10000.000000</td>\n",
       "      <td>9600.000000</td>\n",
       "      <td>8975.000000</td>\n",
       "      <td>280.220000</td>\n",
       "      <td>5.900000e+04</td>\n",
       "      <td>13.400000</td>\n",
       "      <td>0.000000</td>\n",
       "      <td>1.000000</td>\n",
       "      <td>34.000000</td>\n",
       "      <td>90.000000</td>\n",
       "      <td>9.000000</td>\n",
       "      <td>0.000000</td>\n",
       "      <td>8850.000000</td>\n",
       "      <td>20.000000</td>\n",
       "      <td>0.000000</td>\n",
       "      <td>0.000000</td>\n",
       "      <td>9899.640319</td>\n",
       "      <td>9287.150000</td>\n",
       "      <td>8000.000000</td>\n",
       "      <td>1348.910000</td>\n",
       "      <td>0.000000</td>\n",
       "      <td>0.000000</td>\n",
       "      <td>0.000000</td>\n",
       "      <td>546.140000</td>\n",
       "      <td>0.0</td>\n",
       "      <td>NaN</td>\n",
       "      <td>1.0</td>\n",
       "      <td>NaN</td>\n",
       "      <td>NaN</td>\n",
       "      <td>NaN</td>\n",
       "      <td>0.0</td>\n",
       "      <td>NaN</td>\n",
       "      <td>NaN</td>\n",
       "      <td>NaN</td>\n",
       "      <td>NaN</td>\n",
       "      <td>NaN</td>\n",
       "      <td>NaN</td>\n",
       "      <td>NaN</td>\n",
       "      <td>NaN</td>\n",
       "      <td>NaN</td>\n",
       "      <td>NaN</td>\n",
       "      <td>NaN</td>\n",
       "      <td>NaN</td>\n",
       "      <td>NaN</td>\n",
       "      <td>NaN</td>\n",
       "      <td>NaN</td>\n",
       "      <td>NaN</td>\n",
       "      <td>NaN</td>\n",
       "      <td>NaN</td>\n",
       "      <td>NaN</td>\n",
       "      <td>NaN</td>\n",
       "      <td>NaN</td>\n",
       "      <td>0.0</td>\n",
       "      <td>0.0</td>\n",
       "      <td>NaN</td>\n",
       "      <td>NaN</td>\n",
       "      <td>NaN</td>\n",
       "      <td>NaN</td>\n",
       "      <td>NaN</td>\n",
       "      <td>NaN</td>\n",
       "      <td>NaN</td>\n",
       "      <td>NaN</td>\n",
       "      <td>NaN</td>\n",
       "      <td>NaN</td>\n",
       "      <td>NaN</td>\n",
       "      <td>NaN</td>\n",
       "      <td>NaN</td>\n",
       "      <td>NaN</td>\n",
       "      <td>NaN</td>\n",
       "      <td>NaN</td>\n",
       "      <td>NaN</td>\n",
       "      <td>NaN</td>\n",
       "      <td>NaN</td>\n",
       "      <td>NaN</td>\n",
       "      <td>NaN</td>\n",
       "      <td>NaN</td>\n",
       "      <td>NaN</td>\n",
       "      <td>NaN</td>\n",
       "      <td>NaN</td>\n",
       "      <td>0.000000</td>\n",
       "      <td>0.0</td>\n",
       "      <td>NaN</td>\n",
       "      <td>NaN</td>\n",
       "      <td>NaN</td>\n",
       "      <td>NaN</td>\n",
       "    </tr>\n",
       "    <tr>\n",
       "      <th>75%</th>\n",
       "      <td>8.377550e+05</td>\n",
       "      <td>1.047339e+06</td>\n",
       "      <td>15000.000000</td>\n",
       "      <td>15000.000000</td>\n",
       "      <td>14400.000000</td>\n",
       "      <td>430.780000</td>\n",
       "      <td>8.230000e+04</td>\n",
       "      <td>18.600000</td>\n",
       "      <td>0.000000</td>\n",
       "      <td>1.000000</td>\n",
       "      <td>52.000000</td>\n",
       "      <td>104.000000</td>\n",
       "      <td>12.000000</td>\n",
       "      <td>0.000000</td>\n",
       "      <td>17058.000000</td>\n",
       "      <td>29.000000</td>\n",
       "      <td>0.000000</td>\n",
       "      <td>0.000000</td>\n",
       "      <td>16534.433040</td>\n",
       "      <td>15798.810000</td>\n",
       "      <td>13653.260000</td>\n",
       "      <td>2833.400000</td>\n",
       "      <td>0.000000</td>\n",
       "      <td>0.000000</td>\n",
       "      <td>0.000000</td>\n",
       "      <td>3293.160000</td>\n",
       "      <td>0.0</td>\n",
       "      <td>NaN</td>\n",
       "      <td>1.0</td>\n",
       "      <td>NaN</td>\n",
       "      <td>NaN</td>\n",
       "      <td>NaN</td>\n",
       "      <td>0.0</td>\n",
       "      <td>NaN</td>\n",
       "      <td>NaN</td>\n",
       "      <td>NaN</td>\n",
       "      <td>NaN</td>\n",
       "      <td>NaN</td>\n",
       "      <td>NaN</td>\n",
       "      <td>NaN</td>\n",
       "      <td>NaN</td>\n",
       "      <td>NaN</td>\n",
       "      <td>NaN</td>\n",
       "      <td>NaN</td>\n",
       "      <td>NaN</td>\n",
       "      <td>NaN</td>\n",
       "      <td>NaN</td>\n",
       "      <td>NaN</td>\n",
       "      <td>NaN</td>\n",
       "      <td>NaN</td>\n",
       "      <td>NaN</td>\n",
       "      <td>NaN</td>\n",
       "      <td>NaN</td>\n",
       "      <td>NaN</td>\n",
       "      <td>0.0</td>\n",
       "      <td>0.0</td>\n",
       "      <td>NaN</td>\n",
       "      <td>NaN</td>\n",
       "      <td>NaN</td>\n",
       "      <td>NaN</td>\n",
       "      <td>NaN</td>\n",
       "      <td>NaN</td>\n",
       "      <td>NaN</td>\n",
       "      <td>NaN</td>\n",
       "      <td>NaN</td>\n",
       "      <td>NaN</td>\n",
       "      <td>NaN</td>\n",
       "      <td>NaN</td>\n",
       "      <td>NaN</td>\n",
       "      <td>NaN</td>\n",
       "      <td>NaN</td>\n",
       "      <td>NaN</td>\n",
       "      <td>NaN</td>\n",
       "      <td>NaN</td>\n",
       "      <td>NaN</td>\n",
       "      <td>NaN</td>\n",
       "      <td>NaN</td>\n",
       "      <td>NaN</td>\n",
       "      <td>NaN</td>\n",
       "      <td>NaN</td>\n",
       "      <td>NaN</td>\n",
       "      <td>0.000000</td>\n",
       "      <td>0.0</td>\n",
       "      <td>NaN</td>\n",
       "      <td>NaN</td>\n",
       "      <td>NaN</td>\n",
       "      <td>NaN</td>\n",
       "    </tr>\n",
       "    <tr>\n",
       "      <th>max</th>\n",
       "      <td>1.077501e+06</td>\n",
       "      <td>1.314167e+06</td>\n",
       "      <td>35000.000000</td>\n",
       "      <td>35000.000000</td>\n",
       "      <td>35000.000000</td>\n",
       "      <td>1305.190000</td>\n",
       "      <td>6.000000e+06</td>\n",
       "      <td>29.990000</td>\n",
       "      <td>11.000000</td>\n",
       "      <td>8.000000</td>\n",
       "      <td>120.000000</td>\n",
       "      <td>129.000000</td>\n",
       "      <td>44.000000</td>\n",
       "      <td>4.000000</td>\n",
       "      <td>149588.000000</td>\n",
       "      <td>90.000000</td>\n",
       "      <td>6311.470000</td>\n",
       "      <td>6307.370000</td>\n",
       "      <td>58563.679930</td>\n",
       "      <td>58563.680000</td>\n",
       "      <td>35000.020000</td>\n",
       "      <td>23563.680000</td>\n",
       "      <td>180.200000</td>\n",
       "      <td>29623.350000</td>\n",
       "      <td>7002.190000</td>\n",
       "      <td>36115.200000</td>\n",
       "      <td>0.0</td>\n",
       "      <td>NaN</td>\n",
       "      <td>1.0</td>\n",
       "      <td>NaN</td>\n",
       "      <td>NaN</td>\n",
       "      <td>NaN</td>\n",
       "      <td>0.0</td>\n",
       "      <td>NaN</td>\n",
       "      <td>NaN</td>\n",
       "      <td>NaN</td>\n",
       "      <td>NaN</td>\n",
       "      <td>NaN</td>\n",
       "      <td>NaN</td>\n",
       "      <td>NaN</td>\n",
       "      <td>NaN</td>\n",
       "      <td>NaN</td>\n",
       "      <td>NaN</td>\n",
       "      <td>NaN</td>\n",
       "      <td>NaN</td>\n",
       "      <td>NaN</td>\n",
       "      <td>NaN</td>\n",
       "      <td>NaN</td>\n",
       "      <td>NaN</td>\n",
       "      <td>NaN</td>\n",
       "      <td>NaN</td>\n",
       "      <td>NaN</td>\n",
       "      <td>NaN</td>\n",
       "      <td>NaN</td>\n",
       "      <td>0.0</td>\n",
       "      <td>0.0</td>\n",
       "      <td>NaN</td>\n",
       "      <td>NaN</td>\n",
       "      <td>NaN</td>\n",
       "      <td>NaN</td>\n",
       "      <td>NaN</td>\n",
       "      <td>NaN</td>\n",
       "      <td>NaN</td>\n",
       "      <td>NaN</td>\n",
       "      <td>NaN</td>\n",
       "      <td>NaN</td>\n",
       "      <td>NaN</td>\n",
       "      <td>NaN</td>\n",
       "      <td>NaN</td>\n",
       "      <td>NaN</td>\n",
       "      <td>NaN</td>\n",
       "      <td>NaN</td>\n",
       "      <td>NaN</td>\n",
       "      <td>NaN</td>\n",
       "      <td>NaN</td>\n",
       "      <td>NaN</td>\n",
       "      <td>NaN</td>\n",
       "      <td>NaN</td>\n",
       "      <td>NaN</td>\n",
       "      <td>NaN</td>\n",
       "      <td>NaN</td>\n",
       "      <td>2.000000</td>\n",
       "      <td>0.0</td>\n",
       "      <td>NaN</td>\n",
       "      <td>NaN</td>\n",
       "      <td>NaN</td>\n",
       "      <td>NaN</td>\n",
       "    </tr>\n",
       "  </tbody>\n",
       "</table>\n",
       "</div>"
      ],
      "text/plain": [
       "                 id     member_id     loan_amnt   funded_amnt  \\\n",
       "count  3.971700e+04  3.971700e+04  39717.000000  39717.000000   \n",
       "mean   6.831319e+05  8.504636e+05  11219.443815  10947.713196   \n",
       "std    2.106941e+05  2.656783e+05   7456.670694   7187.238670   \n",
       "min    5.473400e+04  7.069900e+04    500.000000    500.000000   \n",
       "25%    5.162210e+05  6.667800e+05   5500.000000   5400.000000   \n",
       "50%    6.656650e+05  8.508120e+05  10000.000000   9600.000000   \n",
       "75%    8.377550e+05  1.047339e+06  15000.000000  15000.000000   \n",
       "max    1.077501e+06  1.314167e+06  35000.000000  35000.000000   \n",
       "\n",
       "       funded_amnt_inv   installment    annual_inc           dti  \\\n",
       "count     39717.000000  39717.000000  3.971700e+04  39717.000000   \n",
       "mean      10397.448868    324.561922  6.896893e+04     13.315130   \n",
       "std        7128.450439    208.874874  6.379377e+04      6.678594   \n",
       "min           0.000000     15.690000  4.000000e+03      0.000000   \n",
       "25%        5000.000000    167.020000  4.040400e+04      8.170000   \n",
       "50%        8975.000000    280.220000  5.900000e+04     13.400000   \n",
       "75%       14400.000000    430.780000  8.230000e+04     18.600000   \n",
       "max       35000.000000   1305.190000  6.000000e+06     29.990000   \n",
       "\n",
       "        delinq_2yrs  inq_last_6mths  mths_since_last_delinq  \\\n",
       "count  39717.000000    39717.000000            14035.000000   \n",
       "mean       0.146512        0.869200               35.900962   \n",
       "std        0.491812        1.070219               22.020060   \n",
       "min        0.000000        0.000000                0.000000   \n",
       "25%        0.000000        0.000000               18.000000   \n",
       "50%        0.000000        1.000000               34.000000   \n",
       "75%        0.000000        1.000000               52.000000   \n",
       "max       11.000000        8.000000              120.000000   \n",
       "\n",
       "       mths_since_last_record      open_acc       pub_rec      revol_bal  \\\n",
       "count             2786.000000  39717.000000  39717.000000   39717.000000   \n",
       "mean                69.698134      9.294408      0.055065   13382.528086   \n",
       "std                 43.822529      4.400282      0.237200   15885.016641   \n",
       "min                  0.000000      2.000000      0.000000       0.000000   \n",
       "25%                 22.000000      6.000000      0.000000    3703.000000   \n",
       "50%                 90.000000      9.000000      0.000000    8850.000000   \n",
       "75%                104.000000     12.000000      0.000000   17058.000000   \n",
       "max                129.000000     44.000000      4.000000  149588.000000   \n",
       "\n",
       "          total_acc     out_prncp  out_prncp_inv   total_pymnt  \\\n",
       "count  39717.000000  39717.000000   39717.000000  39717.000000   \n",
       "mean      22.088828     51.227887      50.989768  12153.596544   \n",
       "std       11.401709    375.172839     373.824457   9042.040766   \n",
       "min        2.000000      0.000000       0.000000      0.000000   \n",
       "25%       13.000000      0.000000       0.000000   5576.930000   \n",
       "50%       20.000000      0.000000       0.000000   9899.640319   \n",
       "75%       29.000000      0.000000       0.000000  16534.433040   \n",
       "max       90.000000   6311.470000    6307.370000  58563.679930   \n",
       "\n",
       "       total_pymnt_inv  total_rec_prncp  total_rec_int  total_rec_late_fee  \\\n",
       "count     39717.000000     39717.000000   39717.000000        39717.000000   \n",
       "mean      11567.149118      9793.348813    2263.663172            1.363015   \n",
       "std        8942.672613      7065.522127    2608.111964            7.289979   \n",
       "min           0.000000         0.000000       0.000000            0.000000   \n",
       "25%        5112.310000      4600.000000     662.180000            0.000000   \n",
       "50%        9287.150000      8000.000000    1348.910000            0.000000   \n",
       "75%       15798.810000     13653.260000    2833.400000            0.000000   \n",
       "max       58563.680000     35000.020000   23563.680000          180.200000   \n",
       "\n",
       "         recoveries  collection_recovery_fee  last_pymnt_amnt  \\\n",
       "count  39717.000000             39717.000000     39717.000000   \n",
       "mean      95.221624                12.406112      2678.826162   \n",
       "std      688.744771               148.671593      4447.136012   \n",
       "min        0.000000                 0.000000         0.000000   \n",
       "25%        0.000000                 0.000000       218.680000   \n",
       "50%        0.000000                 0.000000       546.140000   \n",
       "75%        0.000000                 0.000000      3293.160000   \n",
       "max    29623.350000              7002.190000     36115.200000   \n",
       "\n",
       "       collections_12_mths_ex_med  mths_since_last_major_derog  policy_code  \\\n",
       "count                     39661.0                          0.0      39717.0   \n",
       "mean                          0.0                          NaN          1.0   \n",
       "std                           0.0                          NaN          0.0   \n",
       "min                           0.0                          NaN          1.0   \n",
       "25%                           0.0                          NaN          1.0   \n",
       "50%                           0.0                          NaN          1.0   \n",
       "75%                           0.0                          NaN          1.0   \n",
       "max                           0.0                          NaN          1.0   \n",
       "\n",
       "       annual_inc_joint  dti_joint  verification_status_joint  acc_now_delinq  \\\n",
       "count               0.0        0.0                        0.0         39717.0   \n",
       "mean                NaN        NaN                        NaN             0.0   \n",
       "std                 NaN        NaN                        NaN             0.0   \n",
       "min                 NaN        NaN                        NaN             0.0   \n",
       "25%                 NaN        NaN                        NaN             0.0   \n",
       "50%                 NaN        NaN                        NaN             0.0   \n",
       "75%                 NaN        NaN                        NaN             0.0   \n",
       "max                 NaN        NaN                        NaN             0.0   \n",
       "\n",
       "       tot_coll_amt  tot_cur_bal  open_acc_6m  open_il_6m  open_il_12m  \\\n",
       "count           0.0          0.0          0.0         0.0          0.0   \n",
       "mean            NaN          NaN          NaN         NaN          NaN   \n",
       "std             NaN          NaN          NaN         NaN          NaN   \n",
       "min             NaN          NaN          NaN         NaN          NaN   \n",
       "25%             NaN          NaN          NaN         NaN          NaN   \n",
       "50%             NaN          NaN          NaN         NaN          NaN   \n",
       "75%             NaN          NaN          NaN         NaN          NaN   \n",
       "max             NaN          NaN          NaN         NaN          NaN   \n",
       "\n",
       "       open_il_24m  mths_since_rcnt_il  total_bal_il  il_util  open_rv_12m  \\\n",
       "count          0.0                 0.0           0.0      0.0          0.0   \n",
       "mean           NaN                 NaN           NaN      NaN          NaN   \n",
       "std            NaN                 NaN           NaN      NaN          NaN   \n",
       "min            NaN                 NaN           NaN      NaN          NaN   \n",
       "25%            NaN                 NaN           NaN      NaN          NaN   \n",
       "50%            NaN                 NaN           NaN      NaN          NaN   \n",
       "75%            NaN                 NaN           NaN      NaN          NaN   \n",
       "max            NaN                 NaN           NaN      NaN          NaN   \n",
       "\n",
       "       open_rv_24m  max_bal_bc  all_util  total_rev_hi_lim  inq_fi  \\\n",
       "count          0.0         0.0       0.0               0.0     0.0   \n",
       "mean           NaN         NaN       NaN               NaN     NaN   \n",
       "std            NaN         NaN       NaN               NaN     NaN   \n",
       "min            NaN         NaN       NaN               NaN     NaN   \n",
       "25%            NaN         NaN       NaN               NaN     NaN   \n",
       "50%            NaN         NaN       NaN               NaN     NaN   \n",
       "75%            NaN         NaN       NaN               NaN     NaN   \n",
       "max            NaN         NaN       NaN               NaN     NaN   \n",
       "\n",
       "       total_cu_tl  inq_last_12m  acc_open_past_24mths  avg_cur_bal  \\\n",
       "count          0.0           0.0                   0.0          0.0   \n",
       "mean           NaN           NaN                   NaN          NaN   \n",
       "std            NaN           NaN                   NaN          NaN   \n",
       "min            NaN           NaN                   NaN          NaN   \n",
       "25%            NaN           NaN                   NaN          NaN   \n",
       "50%            NaN           NaN                   NaN          NaN   \n",
       "75%            NaN           NaN                   NaN          NaN   \n",
       "max            NaN           NaN                   NaN          NaN   \n",
       "\n",
       "       bc_open_to_buy  bc_util  chargeoff_within_12_mths  delinq_amnt  \\\n",
       "count             0.0      0.0                   39661.0      39717.0   \n",
       "mean              NaN      NaN                       0.0          0.0   \n",
       "std               NaN      NaN                       0.0          0.0   \n",
       "min               NaN      NaN                       0.0          0.0   \n",
       "25%               NaN      NaN                       0.0          0.0   \n",
       "50%               NaN      NaN                       0.0          0.0   \n",
       "75%               NaN      NaN                       0.0          0.0   \n",
       "max               NaN      NaN                       0.0          0.0   \n",
       "\n",
       "       mo_sin_old_il_acct  mo_sin_old_rev_tl_op  mo_sin_rcnt_rev_tl_op  \\\n",
       "count                 0.0                   0.0                    0.0   \n",
       "mean                  NaN                   NaN                    NaN   \n",
       "std                   NaN                   NaN                    NaN   \n",
       "min                   NaN                   NaN                    NaN   \n",
       "25%                   NaN                   NaN                    NaN   \n",
       "50%                   NaN                   NaN                    NaN   \n",
       "75%                   NaN                   NaN                    NaN   \n",
       "max                   NaN                   NaN                    NaN   \n",
       "\n",
       "       mo_sin_rcnt_tl  mort_acc  mths_since_recent_bc  \\\n",
       "count             0.0       0.0                   0.0   \n",
       "mean              NaN       NaN                   NaN   \n",
       "std               NaN       NaN                   NaN   \n",
       "min               NaN       NaN                   NaN   \n",
       "25%               NaN       NaN                   NaN   \n",
       "50%               NaN       NaN                   NaN   \n",
       "75%               NaN       NaN                   NaN   \n",
       "max               NaN       NaN                   NaN   \n",
       "\n",
       "       mths_since_recent_bc_dlq  mths_since_recent_inq  \\\n",
       "count                       0.0                    0.0   \n",
       "mean                        NaN                    NaN   \n",
       "std                         NaN                    NaN   \n",
       "min                         NaN                    NaN   \n",
       "25%                         NaN                    NaN   \n",
       "50%                         NaN                    NaN   \n",
       "75%                         NaN                    NaN   \n",
       "max                         NaN                    NaN   \n",
       "\n",
       "       mths_since_recent_revol_delinq  num_accts_ever_120_pd  num_actv_bc_tl  \\\n",
       "count                             0.0                    0.0             0.0   \n",
       "mean                              NaN                    NaN             NaN   \n",
       "std                               NaN                    NaN             NaN   \n",
       "min                               NaN                    NaN             NaN   \n",
       "25%                               NaN                    NaN             NaN   \n",
       "50%                               NaN                    NaN             NaN   \n",
       "75%                               NaN                    NaN             NaN   \n",
       "max                               NaN                    NaN             NaN   \n",
       "\n",
       "       num_actv_rev_tl  num_bc_sats  num_bc_tl  num_il_tl  num_op_rev_tl  \\\n",
       "count              0.0          0.0        0.0        0.0            0.0   \n",
       "mean               NaN          NaN        NaN        NaN            NaN   \n",
       "std                NaN          NaN        NaN        NaN            NaN   \n",
       "min                NaN          NaN        NaN        NaN            NaN   \n",
       "25%                NaN          NaN        NaN        NaN            NaN   \n",
       "50%                NaN          NaN        NaN        NaN            NaN   \n",
       "75%                NaN          NaN        NaN        NaN            NaN   \n",
       "max                NaN          NaN        NaN        NaN            NaN   \n",
       "\n",
       "       num_rev_accts  num_rev_tl_bal_gt_0  num_sats  num_tl_120dpd_2m  \\\n",
       "count            0.0                  0.0       0.0               0.0   \n",
       "mean             NaN                  NaN       NaN               NaN   \n",
       "std              NaN                  NaN       NaN               NaN   \n",
       "min              NaN                  NaN       NaN               NaN   \n",
       "25%              NaN                  NaN       NaN               NaN   \n",
       "50%              NaN                  NaN       NaN               NaN   \n",
       "75%              NaN                  NaN       NaN               NaN   \n",
       "max              NaN                  NaN       NaN               NaN   \n",
       "\n",
       "       num_tl_30dpd  num_tl_90g_dpd_24m  num_tl_op_past_12m  pct_tl_nvr_dlq  \\\n",
       "count           0.0                 0.0                 0.0             0.0   \n",
       "mean            NaN                 NaN                 NaN             NaN   \n",
       "std             NaN                 NaN                 NaN             NaN   \n",
       "min             NaN                 NaN                 NaN             NaN   \n",
       "25%             NaN                 NaN                 NaN             NaN   \n",
       "50%             NaN                 NaN                 NaN             NaN   \n",
       "75%             NaN                 NaN                 NaN             NaN   \n",
       "max             NaN                 NaN                 NaN             NaN   \n",
       "\n",
       "       percent_bc_gt_75  pub_rec_bankruptcies  tax_liens  tot_hi_cred_lim  \\\n",
       "count               0.0          39020.000000    39678.0              0.0   \n",
       "mean                NaN              0.043260        0.0              NaN   \n",
       "std                 NaN              0.204324        0.0              NaN   \n",
       "min                 NaN              0.000000        0.0              NaN   \n",
       "25%                 NaN              0.000000        0.0              NaN   \n",
       "50%                 NaN              0.000000        0.0              NaN   \n",
       "75%                 NaN              0.000000        0.0              NaN   \n",
       "max                 NaN              2.000000        0.0              NaN   \n",
       "\n",
       "       total_bal_ex_mort  total_bc_limit  total_il_high_credit_limit  \n",
       "count                0.0             0.0                         0.0  \n",
       "mean                 NaN             NaN                         NaN  \n",
       "std                  NaN             NaN                         NaN  \n",
       "min                  NaN             NaN                         NaN  \n",
       "25%                  NaN             NaN                         NaN  \n",
       "50%                  NaN             NaN                         NaN  \n",
       "75%                  NaN             NaN                         NaN  \n",
       "max                  NaN             NaN                         NaN  "
      ]
     },
     "execution_count": 5,
     "metadata": {},
     "output_type": "execute_result"
    }
   ],
   "source": [
    "# Data exploration\n",
    "loan_df.describe()"
   ]
  },
  {
   "cell_type": "code",
   "execution_count": 6,
   "metadata": {},
   "outputs": [
    {
     "name": "stdout",
     "output_type": "stream",
     "text": [
      "id                                    0\n",
      "member_id                             0\n",
      "loan_amnt                             0\n",
      "funded_amnt                           0\n",
      "funded_amnt_inv                       0\n",
      "term                                  0\n",
      "int_rate                              0\n",
      "installment                           0\n",
      "grade                                 0\n",
      "sub_grade                             0\n",
      "emp_title                          2459\n",
      "emp_length                         1075\n",
      "home_ownership                        0\n",
      "annual_inc                            0\n",
      "verification_status                   0\n",
      "issue_d                               0\n",
      "loan_status                           0\n",
      "pymnt_plan                            0\n",
      "url                                   0\n",
      "desc                              12940\n",
      "purpose                               0\n",
      "title                                11\n",
      "zip_code                              0\n",
      "addr_state                            0\n",
      "dti                                   0\n",
      "delinq_2yrs                           0\n",
      "earliest_cr_line                      0\n",
      "inq_last_6mths                        0\n",
      "mths_since_last_delinq            25682\n",
      "mths_since_last_record            36931\n",
      "open_acc                              0\n",
      "pub_rec                               0\n",
      "revol_bal                             0\n",
      "revol_util                           50\n",
      "total_acc                             0\n",
      "initial_list_status                   0\n",
      "out_prncp                             0\n",
      "out_prncp_inv                         0\n",
      "total_pymnt                           0\n",
      "total_pymnt_inv                       0\n",
      "total_rec_prncp                       0\n",
      "total_rec_int                         0\n",
      "total_rec_late_fee                    0\n",
      "recoveries                            0\n",
      "collection_recovery_fee               0\n",
      "last_pymnt_d                         71\n",
      "last_pymnt_amnt                       0\n",
      "next_pymnt_d                      38577\n",
      "last_credit_pull_d                    2\n",
      "collections_12_mths_ex_med           56\n",
      "mths_since_last_major_derog       39717\n",
      "policy_code                           0\n",
      "application_type                      0\n",
      "annual_inc_joint                  39717\n",
      "dti_joint                         39717\n",
      "verification_status_joint         39717\n",
      "acc_now_delinq                        0\n",
      "tot_coll_amt                      39717\n",
      "tot_cur_bal                       39717\n",
      "open_acc_6m                       39717\n",
      "open_il_6m                        39717\n",
      "open_il_12m                       39717\n",
      "open_il_24m                       39717\n",
      "mths_since_rcnt_il                39717\n",
      "total_bal_il                      39717\n",
      "il_util                           39717\n",
      "open_rv_12m                       39717\n",
      "open_rv_24m                       39717\n",
      "max_bal_bc                        39717\n",
      "all_util                          39717\n",
      "total_rev_hi_lim                  39717\n",
      "inq_fi                            39717\n",
      "total_cu_tl                       39717\n",
      "inq_last_12m                      39717\n",
      "acc_open_past_24mths              39717\n",
      "avg_cur_bal                       39717\n",
      "bc_open_to_buy                    39717\n",
      "bc_util                           39717\n",
      "chargeoff_within_12_mths             56\n",
      "delinq_amnt                           0\n",
      "mo_sin_old_il_acct                39717\n",
      "mo_sin_old_rev_tl_op              39717\n",
      "mo_sin_rcnt_rev_tl_op             39717\n",
      "mo_sin_rcnt_tl                    39717\n",
      "mort_acc                          39717\n",
      "mths_since_recent_bc              39717\n",
      "mths_since_recent_bc_dlq          39717\n",
      "mths_since_recent_inq             39717\n",
      "mths_since_recent_revol_delinq    39717\n",
      "num_accts_ever_120_pd             39717\n",
      "num_actv_bc_tl                    39717\n",
      "num_actv_rev_tl                   39717\n",
      "num_bc_sats                       39717\n",
      "num_bc_tl                         39717\n",
      "num_il_tl                         39717\n",
      "num_op_rev_tl                     39717\n",
      "num_rev_accts                     39717\n",
      "num_rev_tl_bal_gt_0               39717\n",
      "num_sats                          39717\n",
      "num_tl_120dpd_2m                  39717\n",
      "num_tl_30dpd                      39717\n",
      "num_tl_90g_dpd_24m                39717\n",
      "num_tl_op_past_12m                39717\n",
      "pct_tl_nvr_dlq                    39717\n",
      "percent_bc_gt_75                  39717\n",
      "pub_rec_bankruptcies                697\n",
      "tax_liens                            39\n",
      "tot_hi_cred_lim                   39717\n",
      "total_bal_ex_mort                 39717\n",
      "total_bc_limit                    39717\n",
      "total_il_high_credit_limit        39717\n",
      "dtype: int64\n"
     ]
    }
   ],
   "source": [
    "# Data exploration\n",
    "pd.set_option('display.max_rows', 120)\n",
    "print(loan_df.isnull().sum())\n"
   ]
  },
  {
   "cell_type": "code",
   "execution_count": 7,
   "metadata": {},
   "outputs": [
    {
     "data": {
      "text/plain": [
       "id                                  0.0\n",
       "member_id                           0.0\n",
       "loan_amnt                           0.0\n",
       "funded_amnt                         0.0\n",
       "funded_amnt_inv                     0.0\n",
       "term                                0.0\n",
       "int_rate                            0.0\n",
       "installment                         0.0\n",
       "grade                               0.0\n",
       "sub_grade                           0.0\n",
       "emp_title                           6.0\n",
       "emp_length                          3.0\n",
       "home_ownership                      0.0\n",
       "annual_inc                          0.0\n",
       "verification_status                 0.0\n",
       "issue_d                             0.0\n",
       "loan_status                         0.0\n",
       "pymnt_plan                          0.0\n",
       "url                                 0.0\n",
       "desc                               33.0\n",
       "purpose                             0.0\n",
       "title                               0.0\n",
       "zip_code                            0.0\n",
       "addr_state                          0.0\n",
       "dti                                 0.0\n",
       "delinq_2yrs                         0.0\n",
       "earliest_cr_line                    0.0\n",
       "inq_last_6mths                      0.0\n",
       "mths_since_last_delinq             65.0\n",
       "mths_since_last_record             93.0\n",
       "open_acc                            0.0\n",
       "pub_rec                             0.0\n",
       "revol_bal                           0.0\n",
       "revol_util                          0.0\n",
       "total_acc                           0.0\n",
       "initial_list_status                 0.0\n",
       "out_prncp                           0.0\n",
       "out_prncp_inv                       0.0\n",
       "total_pymnt                         0.0\n",
       "total_pymnt_inv                     0.0\n",
       "total_rec_prncp                     0.0\n",
       "total_rec_int                       0.0\n",
       "total_rec_late_fee                  0.0\n",
       "recoveries                          0.0\n",
       "collection_recovery_fee             0.0\n",
       "last_pymnt_d                        0.0\n",
       "last_pymnt_amnt                     0.0\n",
       "next_pymnt_d                       97.0\n",
       "last_credit_pull_d                  0.0\n",
       "collections_12_mths_ex_med          0.0\n",
       "mths_since_last_major_derog       100.0\n",
       "policy_code                         0.0\n",
       "application_type                    0.0\n",
       "annual_inc_joint                  100.0\n",
       "dti_joint                         100.0\n",
       "verification_status_joint         100.0\n",
       "acc_now_delinq                      0.0\n",
       "tot_coll_amt                      100.0\n",
       "tot_cur_bal                       100.0\n",
       "open_acc_6m                       100.0\n",
       "open_il_6m                        100.0\n",
       "open_il_12m                       100.0\n",
       "open_il_24m                       100.0\n",
       "mths_since_rcnt_il                100.0\n",
       "total_bal_il                      100.0\n",
       "il_util                           100.0\n",
       "open_rv_12m                       100.0\n",
       "open_rv_24m                       100.0\n",
       "max_bal_bc                        100.0\n",
       "all_util                          100.0\n",
       "total_rev_hi_lim                  100.0\n",
       "inq_fi                            100.0\n",
       "total_cu_tl                       100.0\n",
       "inq_last_12m                      100.0\n",
       "acc_open_past_24mths              100.0\n",
       "avg_cur_bal                       100.0\n",
       "bc_open_to_buy                    100.0\n",
       "bc_util                           100.0\n",
       "chargeoff_within_12_mths            0.0\n",
       "delinq_amnt                         0.0\n",
       "mo_sin_old_il_acct                100.0\n",
       "mo_sin_old_rev_tl_op              100.0\n",
       "mo_sin_rcnt_rev_tl_op             100.0\n",
       "mo_sin_rcnt_tl                    100.0\n",
       "mort_acc                          100.0\n",
       "mths_since_recent_bc              100.0\n",
       "mths_since_recent_bc_dlq          100.0\n",
       "mths_since_recent_inq             100.0\n",
       "mths_since_recent_revol_delinq    100.0\n",
       "num_accts_ever_120_pd             100.0\n",
       "num_actv_bc_tl                    100.0\n",
       "num_actv_rev_tl                   100.0\n",
       "num_bc_sats                       100.0\n",
       "num_bc_tl                         100.0\n",
       "num_il_tl                         100.0\n",
       "num_op_rev_tl                     100.0\n",
       "num_rev_accts                     100.0\n",
       "num_rev_tl_bal_gt_0               100.0\n",
       "num_sats                          100.0\n",
       "num_tl_120dpd_2m                  100.0\n",
       "num_tl_30dpd                      100.0\n",
       "num_tl_90g_dpd_24m                100.0\n",
       "num_tl_op_past_12m                100.0\n",
       "pct_tl_nvr_dlq                    100.0\n",
       "percent_bc_gt_75                  100.0\n",
       "pub_rec_bankruptcies                2.0\n",
       "tax_liens                           0.0\n",
       "tot_hi_cred_lim                   100.0\n",
       "total_bal_ex_mort                 100.0\n",
       "total_bc_limit                    100.0\n",
       "total_il_high_credit_limit        100.0\n",
       "dtype: float64"
      ]
     },
     "execution_count": 7,
     "metadata": {},
     "output_type": "execute_result"
    }
   ],
   "source": [
    "# Data exploration\n",
    "round(loan_df.isnull().sum()/len(loan_df.index), 2)*100"
   ]
  },
  {
   "cell_type": "markdown",
   "metadata": {},
   "source": [
    "#### Data Exploration finding\n",
    "\n",
    "1. Many columns have null/NaN value, so we need to get rid of those columns.\n",
    "\n",
    "2. There are variouse eligable columns that can be used as independent variables in this dataset as loan_amnt,\tfunded_amnt,\tfunded_amnt_inv\tterm,\tint_rate,\tinstallment,\tgrade,\tsub_grade,\temp_title,\temp_length\t, home_ownership, annual_inc, verification_status, issue_d, pymnt_plan, purpose,\ttitle, etc.\n",
    "\n",
    "3. The ***loan_status*** will be the target variable.\n"
   ]
  },
  {
   "cell_type": "markdown",
   "metadata": {},
   "source": [
    "# Data Cleaning\n"
   ]
  },
  {
   "cell_type": "markdown",
   "metadata": {},
   "source": [
    "Many columns have 100% missing values. The procedure below removes columns with 70% or more missing values."
   ]
  },
  {
   "cell_type": "code",
   "execution_count": 8,
   "metadata": {},
   "outputs": [
    {
     "data": {
      "text/html": [
       "<div>\n",
       "<style scoped>\n",
       "    .dataframe tbody tr th:only-of-type {\n",
       "        vertical-align: middle;\n",
       "    }\n",
       "\n",
       "    .dataframe tbody tr th {\n",
       "        vertical-align: top;\n",
       "    }\n",
       "\n",
       "    .dataframe thead th {\n",
       "        text-align: right;\n",
       "    }\n",
       "</style>\n",
       "<table border=\"1\" class=\"dataframe\">\n",
       "  <thead>\n",
       "    <tr style=\"text-align: right;\">\n",
       "      <th></th>\n",
       "      <th>id</th>\n",
       "      <th>member_id</th>\n",
       "      <th>loan_amnt</th>\n",
       "      <th>funded_amnt</th>\n",
       "      <th>funded_amnt_inv</th>\n",
       "      <th>term</th>\n",
       "      <th>int_rate</th>\n",
       "      <th>installment</th>\n",
       "      <th>grade</th>\n",
       "      <th>sub_grade</th>\n",
       "      <th>emp_title</th>\n",
       "      <th>emp_length</th>\n",
       "      <th>home_ownership</th>\n",
       "      <th>annual_inc</th>\n",
       "      <th>verification_status</th>\n",
       "      <th>issue_d</th>\n",
       "      <th>loan_status</th>\n",
       "      <th>pymnt_plan</th>\n",
       "      <th>url</th>\n",
       "      <th>desc</th>\n",
       "      <th>purpose</th>\n",
       "      <th>title</th>\n",
       "      <th>zip_code</th>\n",
       "      <th>addr_state</th>\n",
       "      <th>dti</th>\n",
       "      <th>delinq_2yrs</th>\n",
       "      <th>earliest_cr_line</th>\n",
       "      <th>inq_last_6mths</th>\n",
       "      <th>mths_since_last_delinq</th>\n",
       "      <th>open_acc</th>\n",
       "      <th>pub_rec</th>\n",
       "      <th>revol_bal</th>\n",
       "      <th>revol_util</th>\n",
       "      <th>total_acc</th>\n",
       "      <th>initial_list_status</th>\n",
       "      <th>out_prncp</th>\n",
       "      <th>out_prncp_inv</th>\n",
       "      <th>total_pymnt</th>\n",
       "      <th>total_pymnt_inv</th>\n",
       "      <th>total_rec_prncp</th>\n",
       "      <th>total_rec_int</th>\n",
       "      <th>total_rec_late_fee</th>\n",
       "      <th>recoveries</th>\n",
       "      <th>collection_recovery_fee</th>\n",
       "      <th>last_pymnt_d</th>\n",
       "      <th>last_pymnt_amnt</th>\n",
       "      <th>last_credit_pull_d</th>\n",
       "      <th>collections_12_mths_ex_med</th>\n",
       "      <th>policy_code</th>\n",
       "      <th>application_type</th>\n",
       "      <th>acc_now_delinq</th>\n",
       "      <th>chargeoff_within_12_mths</th>\n",
       "      <th>delinq_amnt</th>\n",
       "      <th>pub_rec_bankruptcies</th>\n",
       "      <th>tax_liens</th>\n",
       "    </tr>\n",
       "  </thead>\n",
       "  <tbody>\n",
       "    <tr>\n",
       "      <th>0</th>\n",
       "      <td>1077501</td>\n",
       "      <td>1296599</td>\n",
       "      <td>5000</td>\n",
       "      <td>5000</td>\n",
       "      <td>4975.0</td>\n",
       "      <td>36 months</td>\n",
       "      <td>10.65%</td>\n",
       "      <td>162.87</td>\n",
       "      <td>B</td>\n",
       "      <td>B2</td>\n",
       "      <td>NaN</td>\n",
       "      <td>10+ years</td>\n",
       "      <td>RENT</td>\n",
       "      <td>24000.0</td>\n",
       "      <td>Verified</td>\n",
       "      <td>Dec-11</td>\n",
       "      <td>Fully Paid</td>\n",
       "      <td>n</td>\n",
       "      <td>https://lendingclub.com/browse/loanDetail.acti...</td>\n",
       "      <td>Borrower added on 12/22/11 &gt; I need to upgra...</td>\n",
       "      <td>credit_card</td>\n",
       "      <td>Computer</td>\n",
       "      <td>860xx</td>\n",
       "      <td>AZ</td>\n",
       "      <td>27.65</td>\n",
       "      <td>0</td>\n",
       "      <td>Jan-85</td>\n",
       "      <td>1</td>\n",
       "      <td>NaN</td>\n",
       "      <td>3</td>\n",
       "      <td>0</td>\n",
       "      <td>13648</td>\n",
       "      <td>83.70%</td>\n",
       "      <td>9</td>\n",
       "      <td>f</td>\n",
       "      <td>0.00</td>\n",
       "      <td>0.00</td>\n",
       "      <td>5863.155187</td>\n",
       "      <td>5833.84</td>\n",
       "      <td>5000.00</td>\n",
       "      <td>863.16</td>\n",
       "      <td>0.00</td>\n",
       "      <td>0.00</td>\n",
       "      <td>0.00</td>\n",
       "      <td>Jan-15</td>\n",
       "      <td>171.62</td>\n",
       "      <td>May-16</td>\n",
       "      <td>0.0</td>\n",
       "      <td>1</td>\n",
       "      <td>INDIVIDUAL</td>\n",
       "      <td>0</td>\n",
       "      <td>0.0</td>\n",
       "      <td>0</td>\n",
       "      <td>0.0</td>\n",
       "      <td>0.0</td>\n",
       "    </tr>\n",
       "    <tr>\n",
       "      <th>1</th>\n",
       "      <td>1077430</td>\n",
       "      <td>1314167</td>\n",
       "      <td>2500</td>\n",
       "      <td>2500</td>\n",
       "      <td>2500.0</td>\n",
       "      <td>60 months</td>\n",
       "      <td>15.27%</td>\n",
       "      <td>59.83</td>\n",
       "      <td>C</td>\n",
       "      <td>C4</td>\n",
       "      <td>Ryder</td>\n",
       "      <td>&lt; 1 year</td>\n",
       "      <td>RENT</td>\n",
       "      <td>30000.0</td>\n",
       "      <td>Source Verified</td>\n",
       "      <td>Dec-11</td>\n",
       "      <td>Charged Off</td>\n",
       "      <td>n</td>\n",
       "      <td>https://lendingclub.com/browse/loanDetail.acti...</td>\n",
       "      <td>Borrower added on 12/22/11 &gt; I plan to use t...</td>\n",
       "      <td>car</td>\n",
       "      <td>bike</td>\n",
       "      <td>309xx</td>\n",
       "      <td>GA</td>\n",
       "      <td>1.00</td>\n",
       "      <td>0</td>\n",
       "      <td>Apr-99</td>\n",
       "      <td>5</td>\n",
       "      <td>NaN</td>\n",
       "      <td>3</td>\n",
       "      <td>0</td>\n",
       "      <td>1687</td>\n",
       "      <td>9.40%</td>\n",
       "      <td>4</td>\n",
       "      <td>f</td>\n",
       "      <td>0.00</td>\n",
       "      <td>0.00</td>\n",
       "      <td>1008.710000</td>\n",
       "      <td>1008.71</td>\n",
       "      <td>456.46</td>\n",
       "      <td>435.17</td>\n",
       "      <td>0.00</td>\n",
       "      <td>117.08</td>\n",
       "      <td>1.11</td>\n",
       "      <td>Apr-13</td>\n",
       "      <td>119.66</td>\n",
       "      <td>Sep-13</td>\n",
       "      <td>0.0</td>\n",
       "      <td>1</td>\n",
       "      <td>INDIVIDUAL</td>\n",
       "      <td>0</td>\n",
       "      <td>0.0</td>\n",
       "      <td>0</td>\n",
       "      <td>0.0</td>\n",
       "      <td>0.0</td>\n",
       "    </tr>\n",
       "    <tr>\n",
       "      <th>2</th>\n",
       "      <td>1077175</td>\n",
       "      <td>1313524</td>\n",
       "      <td>2400</td>\n",
       "      <td>2400</td>\n",
       "      <td>2400.0</td>\n",
       "      <td>36 months</td>\n",
       "      <td>15.96%</td>\n",
       "      <td>84.33</td>\n",
       "      <td>C</td>\n",
       "      <td>C5</td>\n",
       "      <td>NaN</td>\n",
       "      <td>10+ years</td>\n",
       "      <td>RENT</td>\n",
       "      <td>12252.0</td>\n",
       "      <td>Not Verified</td>\n",
       "      <td>Dec-11</td>\n",
       "      <td>Fully Paid</td>\n",
       "      <td>n</td>\n",
       "      <td>https://lendingclub.com/browse/loanDetail.acti...</td>\n",
       "      <td>NaN</td>\n",
       "      <td>small_business</td>\n",
       "      <td>real estate business</td>\n",
       "      <td>606xx</td>\n",
       "      <td>IL</td>\n",
       "      <td>8.72</td>\n",
       "      <td>0</td>\n",
       "      <td>Nov-01</td>\n",
       "      <td>2</td>\n",
       "      <td>NaN</td>\n",
       "      <td>2</td>\n",
       "      <td>0</td>\n",
       "      <td>2956</td>\n",
       "      <td>98.50%</td>\n",
       "      <td>10</td>\n",
       "      <td>f</td>\n",
       "      <td>0.00</td>\n",
       "      <td>0.00</td>\n",
       "      <td>3005.666844</td>\n",
       "      <td>3005.67</td>\n",
       "      <td>2400.00</td>\n",
       "      <td>605.67</td>\n",
       "      <td>0.00</td>\n",
       "      <td>0.00</td>\n",
       "      <td>0.00</td>\n",
       "      <td>Jun-14</td>\n",
       "      <td>649.91</td>\n",
       "      <td>May-16</td>\n",
       "      <td>0.0</td>\n",
       "      <td>1</td>\n",
       "      <td>INDIVIDUAL</td>\n",
       "      <td>0</td>\n",
       "      <td>0.0</td>\n",
       "      <td>0</td>\n",
       "      <td>0.0</td>\n",
       "      <td>0.0</td>\n",
       "    </tr>\n",
       "    <tr>\n",
       "      <th>3</th>\n",
       "      <td>1076863</td>\n",
       "      <td>1277178</td>\n",
       "      <td>10000</td>\n",
       "      <td>10000</td>\n",
       "      <td>10000.0</td>\n",
       "      <td>36 months</td>\n",
       "      <td>13.49%</td>\n",
       "      <td>339.31</td>\n",
       "      <td>C</td>\n",
       "      <td>C1</td>\n",
       "      <td>AIR RESOURCES BOARD</td>\n",
       "      <td>10+ years</td>\n",
       "      <td>RENT</td>\n",
       "      <td>49200.0</td>\n",
       "      <td>Source Verified</td>\n",
       "      <td>Dec-11</td>\n",
       "      <td>Fully Paid</td>\n",
       "      <td>n</td>\n",
       "      <td>https://lendingclub.com/browse/loanDetail.acti...</td>\n",
       "      <td>Borrower added on 12/21/11 &gt; to pay for prop...</td>\n",
       "      <td>other</td>\n",
       "      <td>personel</td>\n",
       "      <td>917xx</td>\n",
       "      <td>CA</td>\n",
       "      <td>20.00</td>\n",
       "      <td>0</td>\n",
       "      <td>Feb-96</td>\n",
       "      <td>1</td>\n",
       "      <td>35.0</td>\n",
       "      <td>10</td>\n",
       "      <td>0</td>\n",
       "      <td>5598</td>\n",
       "      <td>21%</td>\n",
       "      <td>37</td>\n",
       "      <td>f</td>\n",
       "      <td>0.00</td>\n",
       "      <td>0.00</td>\n",
       "      <td>12231.890000</td>\n",
       "      <td>12231.89</td>\n",
       "      <td>10000.00</td>\n",
       "      <td>2214.92</td>\n",
       "      <td>16.97</td>\n",
       "      <td>0.00</td>\n",
       "      <td>0.00</td>\n",
       "      <td>Jan-15</td>\n",
       "      <td>357.48</td>\n",
       "      <td>Apr-16</td>\n",
       "      <td>0.0</td>\n",
       "      <td>1</td>\n",
       "      <td>INDIVIDUAL</td>\n",
       "      <td>0</td>\n",
       "      <td>0.0</td>\n",
       "      <td>0</td>\n",
       "      <td>0.0</td>\n",
       "      <td>0.0</td>\n",
       "    </tr>\n",
       "    <tr>\n",
       "      <th>4</th>\n",
       "      <td>1075358</td>\n",
       "      <td>1311748</td>\n",
       "      <td>3000</td>\n",
       "      <td>3000</td>\n",
       "      <td>3000.0</td>\n",
       "      <td>60 months</td>\n",
       "      <td>12.69%</td>\n",
       "      <td>67.79</td>\n",
       "      <td>B</td>\n",
       "      <td>B5</td>\n",
       "      <td>University Medical Group</td>\n",
       "      <td>1 year</td>\n",
       "      <td>RENT</td>\n",
       "      <td>80000.0</td>\n",
       "      <td>Source Verified</td>\n",
       "      <td>Dec-11</td>\n",
       "      <td>Current</td>\n",
       "      <td>n</td>\n",
       "      <td>https://lendingclub.com/browse/loanDetail.acti...</td>\n",
       "      <td>Borrower added on 12/21/11 &gt; I plan on combi...</td>\n",
       "      <td>other</td>\n",
       "      <td>Personal</td>\n",
       "      <td>972xx</td>\n",
       "      <td>OR</td>\n",
       "      <td>17.94</td>\n",
       "      <td>0</td>\n",
       "      <td>Jan-96</td>\n",
       "      <td>0</td>\n",
       "      <td>38.0</td>\n",
       "      <td>15</td>\n",
       "      <td>0</td>\n",
       "      <td>27783</td>\n",
       "      <td>53.90%</td>\n",
       "      <td>38</td>\n",
       "      <td>f</td>\n",
       "      <td>524.06</td>\n",
       "      <td>524.06</td>\n",
       "      <td>3513.330000</td>\n",
       "      <td>3513.33</td>\n",
       "      <td>2475.94</td>\n",
       "      <td>1037.39</td>\n",
       "      <td>0.00</td>\n",
       "      <td>0.00</td>\n",
       "      <td>0.00</td>\n",
       "      <td>May-16</td>\n",
       "      <td>67.79</td>\n",
       "      <td>May-16</td>\n",
       "      <td>0.0</td>\n",
       "      <td>1</td>\n",
       "      <td>INDIVIDUAL</td>\n",
       "      <td>0</td>\n",
       "      <td>0.0</td>\n",
       "      <td>0</td>\n",
       "      <td>0.0</td>\n",
       "      <td>0.0</td>\n",
       "    </tr>\n",
       "  </tbody>\n",
       "</table>\n",
       "</div>"
      ],
      "text/plain": [
       "        id  member_id  loan_amnt  funded_amnt  funded_amnt_inv        term  \\\n",
       "0  1077501    1296599       5000         5000           4975.0   36 months   \n",
       "1  1077430    1314167       2500         2500           2500.0   60 months   \n",
       "2  1077175    1313524       2400         2400           2400.0   36 months   \n",
       "3  1076863    1277178      10000        10000          10000.0   36 months   \n",
       "4  1075358    1311748       3000         3000           3000.0   60 months   \n",
       "\n",
       "  int_rate  installment grade sub_grade                 emp_title emp_length  \\\n",
       "0   10.65%       162.87     B        B2                       NaN  10+ years   \n",
       "1   15.27%        59.83     C        C4                     Ryder   < 1 year   \n",
       "2   15.96%        84.33     C        C5                       NaN  10+ years   \n",
       "3   13.49%       339.31     C        C1       AIR RESOURCES BOARD  10+ years   \n",
       "4   12.69%        67.79     B        B5  University Medical Group     1 year   \n",
       "\n",
       "  home_ownership  annual_inc verification_status issue_d  loan_status  \\\n",
       "0           RENT     24000.0            Verified  Dec-11   Fully Paid   \n",
       "1           RENT     30000.0     Source Verified  Dec-11  Charged Off   \n",
       "2           RENT     12252.0        Not Verified  Dec-11   Fully Paid   \n",
       "3           RENT     49200.0     Source Verified  Dec-11   Fully Paid   \n",
       "4           RENT     80000.0     Source Verified  Dec-11      Current   \n",
       "\n",
       "  pymnt_plan                                                url  \\\n",
       "0          n  https://lendingclub.com/browse/loanDetail.acti...   \n",
       "1          n  https://lendingclub.com/browse/loanDetail.acti...   \n",
       "2          n  https://lendingclub.com/browse/loanDetail.acti...   \n",
       "3          n  https://lendingclub.com/browse/loanDetail.acti...   \n",
       "4          n  https://lendingclub.com/browse/loanDetail.acti...   \n",
       "\n",
       "                                                desc         purpose  \\\n",
       "0    Borrower added on 12/22/11 > I need to upgra...     credit_card   \n",
       "1    Borrower added on 12/22/11 > I plan to use t...             car   \n",
       "2                                                NaN  small_business   \n",
       "3    Borrower added on 12/21/11 > to pay for prop...           other   \n",
       "4    Borrower added on 12/21/11 > I plan on combi...           other   \n",
       "\n",
       "                  title zip_code addr_state    dti  delinq_2yrs  \\\n",
       "0              Computer    860xx         AZ  27.65            0   \n",
       "1                  bike    309xx         GA   1.00            0   \n",
       "2  real estate business    606xx         IL   8.72            0   \n",
       "3              personel    917xx         CA  20.00            0   \n",
       "4              Personal    972xx         OR  17.94            0   \n",
       "\n",
       "  earliest_cr_line  inq_last_6mths  mths_since_last_delinq  open_acc  pub_rec  \\\n",
       "0           Jan-85               1                     NaN         3        0   \n",
       "1           Apr-99               5                     NaN         3        0   \n",
       "2           Nov-01               2                     NaN         2        0   \n",
       "3           Feb-96               1                    35.0        10        0   \n",
       "4           Jan-96               0                    38.0        15        0   \n",
       "\n",
       "   revol_bal revol_util  total_acc initial_list_status  out_prncp  \\\n",
       "0      13648     83.70%          9                   f       0.00   \n",
       "1       1687      9.40%          4                   f       0.00   \n",
       "2       2956     98.50%         10                   f       0.00   \n",
       "3       5598        21%         37                   f       0.00   \n",
       "4      27783     53.90%         38                   f     524.06   \n",
       "\n",
       "   out_prncp_inv   total_pymnt  total_pymnt_inv  total_rec_prncp  \\\n",
       "0           0.00   5863.155187          5833.84          5000.00   \n",
       "1           0.00   1008.710000          1008.71           456.46   \n",
       "2           0.00   3005.666844          3005.67          2400.00   \n",
       "3           0.00  12231.890000         12231.89         10000.00   \n",
       "4         524.06   3513.330000          3513.33          2475.94   \n",
       "\n",
       "   total_rec_int  total_rec_late_fee  recoveries  collection_recovery_fee  \\\n",
       "0         863.16                0.00        0.00                     0.00   \n",
       "1         435.17                0.00      117.08                     1.11   \n",
       "2         605.67                0.00        0.00                     0.00   \n",
       "3        2214.92               16.97        0.00                     0.00   \n",
       "4        1037.39                0.00        0.00                     0.00   \n",
       "\n",
       "  last_pymnt_d  last_pymnt_amnt last_credit_pull_d  \\\n",
       "0       Jan-15           171.62             May-16   \n",
       "1       Apr-13           119.66             Sep-13   \n",
       "2       Jun-14           649.91             May-16   \n",
       "3       Jan-15           357.48             Apr-16   \n",
       "4       May-16            67.79             May-16   \n",
       "\n",
       "   collections_12_mths_ex_med  policy_code application_type  acc_now_delinq  \\\n",
       "0                         0.0            1       INDIVIDUAL               0   \n",
       "1                         0.0            1       INDIVIDUAL               0   \n",
       "2                         0.0            1       INDIVIDUAL               0   \n",
       "3                         0.0            1       INDIVIDUAL               0   \n",
       "4                         0.0            1       INDIVIDUAL               0   \n",
       "\n",
       "   chargeoff_within_12_mths  delinq_amnt  pub_rec_bankruptcies  tax_liens  \n",
       "0                       0.0            0                   0.0        0.0  \n",
       "1                       0.0            0                   0.0        0.0  \n",
       "2                       0.0            0                   0.0        0.0  \n",
       "3                       0.0            0                   0.0        0.0  \n",
       "4                       0.0            0                   0.0        0.0  "
      ]
     },
     "execution_count": 8,
     "metadata": {},
     "output_type": "execute_result"
    }
   ],
   "source": [
    "# removing the columns having more than 70% missing values\n",
    "loan_df= loan_df.loc[:,(loan_df.isnull().sum()/len(loan_df.index)) < 0.70]\n",
    "loan_df.head()"
   ]
  },
  {
   "cell_type": "code",
   "execution_count": 9,
   "metadata": {},
   "outputs": [
    {
     "data": {
      "text/plain": [
       "id                             0.000000\n",
       "member_id                      0.000000\n",
       "loan_amnt                      0.000000\n",
       "funded_amnt                    0.000000\n",
       "funded_amnt_inv                0.000000\n",
       "term                           0.000000\n",
       "int_rate                       0.000000\n",
       "installment                    0.000000\n",
       "grade                          0.000000\n",
       "sub_grade                      0.000000\n",
       "emp_title                      6.191303\n",
       "emp_length                     2.706650\n",
       "home_ownership                 0.000000\n",
       "annual_inc                     0.000000\n",
       "verification_status            0.000000\n",
       "issue_d                        0.000000\n",
       "loan_status                    0.000000\n",
       "pymnt_plan                     0.000000\n",
       "url                            0.000000\n",
       "desc                          32.580507\n",
       "purpose                        0.000000\n",
       "title                          0.027696\n",
       "zip_code                       0.000000\n",
       "addr_state                     0.000000\n",
       "dti                            0.000000\n",
       "delinq_2yrs                    0.000000\n",
       "earliest_cr_line               0.000000\n",
       "inq_last_6mths                 0.000000\n",
       "mths_since_last_delinq        64.662487\n",
       "open_acc                       0.000000\n",
       "pub_rec                        0.000000\n",
       "revol_bal                      0.000000\n",
       "revol_util                     0.125891\n",
       "total_acc                      0.000000\n",
       "initial_list_status            0.000000\n",
       "out_prncp                      0.000000\n",
       "out_prncp_inv                  0.000000\n",
       "total_pymnt                    0.000000\n",
       "total_pymnt_inv                0.000000\n",
       "total_rec_prncp                0.000000\n",
       "total_rec_int                  0.000000\n",
       "total_rec_late_fee             0.000000\n",
       "recoveries                     0.000000\n",
       "collection_recovery_fee        0.000000\n",
       "last_pymnt_d                   0.178765\n",
       "last_pymnt_amnt                0.000000\n",
       "last_credit_pull_d             0.005036\n",
       "collections_12_mths_ex_med     0.140998\n",
       "policy_code                    0.000000\n",
       "application_type               0.000000\n",
       "acc_now_delinq                 0.000000\n",
       "chargeoff_within_12_mths       0.140998\n",
       "delinq_amnt                    0.000000\n",
       "pub_rec_bankruptcies           1.754916\n",
       "tax_liens                      0.098195\n",
       "dtype: float64"
      ]
     },
     "execution_count": 9,
     "metadata": {},
     "output_type": "execute_result"
    }
   ],
   "source": [
    "# summarise number of missing values again\n",
    "(loan_df.isnull().sum()/len(loan_df.index))*100"
   ]
  },
  {
   "cell_type": "code",
   "execution_count": 10,
   "metadata": {},
   "outputs": [
    {
     "data": {
      "text/plain": [
       "0          Borrower added on 12/22/11 > I need to upgra...\n",
       "1          Borrower added on 12/22/11 > I plan to use t...\n",
       "2                                                      NaN\n",
       "3          Borrower added on 12/21/11 > to pay for prop...\n",
       "4          Borrower added on 12/21/11 > I plan on combi...\n",
       "                               ...                        \n",
       "39712    Our current gutter system on our home is old a...\n",
       "39713    The rate of interest and fees incurred by carr...\n",
       "39714                                                  NaN\n",
       "39715                                                  NaN\n",
       "39716    I plan to consolidate over $7,000 of debt: a c...\n",
       "Name: desc, Length: 39717, dtype: object"
      ]
     },
     "execution_count": 10,
     "metadata": {},
     "output_type": "execute_result"
    }
   ],
   "source": [
    "# let's analysis desc column \n",
    "loan_df['desc']"
   ]
  },
  {
   "cell_type": "markdown",
   "metadata": {},
   "source": [
    "The \"desc\" column has the applicant's comments when they're applying for a loan. This information can be used if a text analysis id one, however for this project we did not utilize this method and the column was dropped. Also only 68% of the column was populated, hence another reason to drop the column. "
   ]
  },
  {
   "cell_type": "code",
   "execution_count": 11,
   "metadata": {},
   "outputs": [
    {
     "name": "stdout",
     "output_type": "stream",
     "text": [
      "       mths_since_last_delinq  loan_status\n",
      "0                         NaN   Fully Paid\n",
      "1                         NaN  Charged Off\n",
      "2                         NaN   Fully Paid\n",
      "3                        35.0   Fully Paid\n",
      "4                        38.0      Current\n",
      "...                       ...          ...\n",
      "39712                     0.0   Fully Paid\n",
      "39713                     5.0   Fully Paid\n",
      "39714                     0.0   Fully Paid\n",
      "39715                     0.0   Fully Paid\n",
      "39716                    11.0   Fully Paid\n",
      "\n",
      "[39717 rows x 2 columns]\n"
     ]
    }
   ],
   "source": [
    "# let's analysis mths_since_last_delinq column \n",
    "print(loan_df.loc[:,['mths_since_last_delinq', 'loan_status']])"
   ]
  },
  {
   "cell_type": "markdown",
   "metadata": {},
   "source": [
    "The \"mths_since_last_delinqre\", is number of months since the borrower's last delinquency. This information will not be available at the time of loanee's application. so we will drop this column."
   ]
  },
  {
   "cell_type": "code",
   "execution_count": 12,
   "metadata": {},
   "outputs": [],
   "source": [
    "# dropping the 'desc', 'mths_since_last_delinq' columns\n",
    "loan_df=loan_df.drop(['desc', 'mths_since_last_delinq'], axis=1)"
   ]
  },
  {
   "cell_type": "code",
   "execution_count": 13,
   "metadata": {},
   "outputs": [
    {
     "data": {
      "text/plain": [
       "id                            0.000000\n",
       "member_id                     0.000000\n",
       "loan_amnt                     0.000000\n",
       "funded_amnt                   0.000000\n",
       "funded_amnt_inv               0.000000\n",
       "term                          0.000000\n",
       "int_rate                      0.000000\n",
       "installment                   0.000000\n",
       "grade                         0.000000\n",
       "sub_grade                     0.000000\n",
       "emp_title                     6.191303\n",
       "emp_length                    2.706650\n",
       "home_ownership                0.000000\n",
       "annual_inc                    0.000000\n",
       "verification_status           0.000000\n",
       "issue_d                       0.000000\n",
       "loan_status                   0.000000\n",
       "pymnt_plan                    0.000000\n",
       "url                           0.000000\n",
       "purpose                       0.000000\n",
       "title                         0.027696\n",
       "zip_code                      0.000000\n",
       "addr_state                    0.000000\n",
       "dti                           0.000000\n",
       "delinq_2yrs                   0.000000\n",
       "earliest_cr_line              0.000000\n",
       "inq_last_6mths                0.000000\n",
       "open_acc                      0.000000\n",
       "pub_rec                       0.000000\n",
       "revol_bal                     0.000000\n",
       "revol_util                    0.125891\n",
       "total_acc                     0.000000\n",
       "initial_list_status           0.000000\n",
       "out_prncp                     0.000000\n",
       "out_prncp_inv                 0.000000\n",
       "total_pymnt                   0.000000\n",
       "total_pymnt_inv               0.000000\n",
       "total_rec_prncp               0.000000\n",
       "total_rec_int                 0.000000\n",
       "total_rec_late_fee            0.000000\n",
       "recoveries                    0.000000\n",
       "collection_recovery_fee       0.000000\n",
       "last_pymnt_d                  0.178765\n",
       "last_pymnt_amnt               0.000000\n",
       "last_credit_pull_d            0.005036\n",
       "collections_12_mths_ex_med    0.140998\n",
       "policy_code                   0.000000\n",
       "application_type              0.000000\n",
       "acc_now_delinq                0.000000\n",
       "chargeoff_within_12_mths      0.140998\n",
       "delinq_amnt                   0.000000\n",
       "pub_rec_bankruptcies          1.754916\n",
       "tax_liens                     0.098195\n",
       "dtype: float64"
      ]
     },
     "execution_count": 13,
     "metadata": {},
     "output_type": "execute_result"
    }
   ],
   "source": [
    "# summarise number of missing values again\n",
    "(loan_df.isnull().sum()/len(loan_df.index))*100"
   ]
  },
  {
   "cell_type": "markdown",
   "metadata": {},
   "source": [
    "Now columns looks good, lets validate rows for null values and all."
   ]
  },
  {
   "cell_type": "code",
   "execution_count": 14,
   "metadata": {},
   "outputs": [
    {
     "data": {
      "text/plain": [
       "0        1\n",
       "1        0\n",
       "2        1\n",
       "3        0\n",
       "4        0\n",
       "        ..\n",
       "39712    4\n",
       "39713    4\n",
       "39714    5\n",
       "39715    5\n",
       "39716    4\n",
       "Length: 39717, dtype: int64"
      ]
     },
     "execution_count": 14,
     "metadata": {},
     "output_type": "execute_result"
    }
   ],
   "source": [
    "# null values in rows\n",
    "loan_df.isnull().sum(axis=1)"
   ]
  },
  {
   "cell_type": "code",
   "execution_count": 15,
   "metadata": {},
   "outputs": [
    {
     "data": {
      "text/plain": [
       "0"
      ]
     },
     "execution_count": 15,
     "metadata": {},
     "output_type": "execute_result"
    }
   ],
   "source": [
    "# more than 10 total null value in a rows  \n",
    "len(loan_df[loan_df.isnull().sum(axis=1) > 10].index)"
   ]
  },
  {
   "cell_type": "markdown",
   "metadata": {},
   "source": [
    "#### Let's also check data types."
   ]
  },
  {
   "cell_type": "code",
   "execution_count": 16,
   "metadata": {},
   "outputs": [
    {
     "name": "stdout",
     "output_type": "stream",
     "text": [
      "<class 'pandas.core.frame.DataFrame'>\n",
      "RangeIndex: 39717 entries, 0 to 39716\n",
      "Data columns (total 53 columns):\n",
      " #   Column                      Non-Null Count  Dtype  \n",
      "---  ------                      --------------  -----  \n",
      " 0   id                          39717 non-null  int64  \n",
      " 1   member_id                   39717 non-null  int64  \n",
      " 2   loan_amnt                   39717 non-null  int64  \n",
      " 3   funded_amnt                 39717 non-null  int64  \n",
      " 4   funded_amnt_inv             39717 non-null  float64\n",
      " 5   term                        39717 non-null  object \n",
      " 6   int_rate                    39717 non-null  object \n",
      " 7   installment                 39717 non-null  float64\n",
      " 8   grade                       39717 non-null  object \n",
      " 9   sub_grade                   39717 non-null  object \n",
      " 10  emp_title                   37258 non-null  object \n",
      " 11  emp_length                  38642 non-null  object \n",
      " 12  home_ownership              39717 non-null  object \n",
      " 13  annual_inc                  39717 non-null  float64\n",
      " 14  verification_status         39717 non-null  object \n",
      " 15  issue_d                     39717 non-null  object \n",
      " 16  loan_status                 39717 non-null  object \n",
      " 17  pymnt_plan                  39717 non-null  object \n",
      " 18  url                         39717 non-null  object \n",
      " 19  purpose                     39717 non-null  object \n",
      " 20  title                       39706 non-null  object \n",
      " 21  zip_code                    39717 non-null  object \n",
      " 22  addr_state                  39717 non-null  object \n",
      " 23  dti                         39717 non-null  float64\n",
      " 24  delinq_2yrs                 39717 non-null  int64  \n",
      " 25  earliest_cr_line            39717 non-null  object \n",
      " 26  inq_last_6mths              39717 non-null  int64  \n",
      " 27  open_acc                    39717 non-null  int64  \n",
      " 28  pub_rec                     39717 non-null  int64  \n",
      " 29  revol_bal                   39717 non-null  int64  \n",
      " 30  revol_util                  39667 non-null  object \n",
      " 31  total_acc                   39717 non-null  int64  \n",
      " 32  initial_list_status         39717 non-null  object \n",
      " 33  out_prncp                   39717 non-null  float64\n",
      " 34  out_prncp_inv               39717 non-null  float64\n",
      " 35  total_pymnt                 39717 non-null  float64\n",
      " 36  total_pymnt_inv             39717 non-null  float64\n",
      " 37  total_rec_prncp             39717 non-null  float64\n",
      " 38  total_rec_int               39717 non-null  float64\n",
      " 39  total_rec_late_fee          39717 non-null  float64\n",
      " 40  recoveries                  39717 non-null  float64\n",
      " 41  collection_recovery_fee     39717 non-null  float64\n",
      " 42  last_pymnt_d                39646 non-null  object \n",
      " 43  last_pymnt_amnt             39717 non-null  float64\n",
      " 44  last_credit_pull_d          39715 non-null  object \n",
      " 45  collections_12_mths_ex_med  39661 non-null  float64\n",
      " 46  policy_code                 39717 non-null  int64  \n",
      " 47  application_type            39717 non-null  object \n",
      " 48  acc_now_delinq              39717 non-null  int64  \n",
      " 49  chargeoff_within_12_mths    39661 non-null  float64\n",
      " 50  delinq_amnt                 39717 non-null  int64  \n",
      " 51  pub_rec_bankruptcies        39020 non-null  float64\n",
      " 52  tax_liens                   39678 non-null  float64\n",
      "dtypes: float64(18), int64(13), object(22)\n",
      "memory usage: 16.1+ MB\n"
     ]
    }
   ],
   "source": [
    "loan_df.info()"
   ]
  },
  {
   "cell_type": "code",
   "execution_count": 17,
   "metadata": {},
   "outputs": [
    {
     "data": {
      "text/plain": [
       "0    36\n",
       "1    60\n",
       "2    36\n",
       "3    36\n",
       "4    60\n",
       "Name: term, dtype: int64"
      ]
     },
     "execution_count": 17,
     "metadata": {},
     "output_type": "execute_result"
    }
   ],
   "source": [
    "# let's convert term to int\n",
    "loan_df['term'] = loan_df['term'].apply(lambda x: pd.to_numeric(x.split(\" \")[1]))\n",
    "loan_df['term'].head()"
   ]
  },
  {
   "cell_type": "code",
   "execution_count": 18,
   "metadata": {},
   "outputs": [],
   "source": [
    "# let's convert term to float\n",
    "loan_df['int_rate'] = loan_df['int_rate'].apply(lambda x: pd.to_numeric(x.split(\"%\")[0]))"
   ]
  },
  {
   "cell_type": "code",
   "execution_count": 19,
   "metadata": {},
   "outputs": [
    {
     "name": "stdout",
     "output_type": "stream",
     "text": [
      "<class 'pandas.core.frame.DataFrame'>\n",
      "RangeIndex: 39717 entries, 0 to 39716\n",
      "Data columns (total 53 columns):\n",
      " #   Column                      Non-Null Count  Dtype  \n",
      "---  ------                      --------------  -----  \n",
      " 0   id                          39717 non-null  int64  \n",
      " 1   member_id                   39717 non-null  int64  \n",
      " 2   loan_amnt                   39717 non-null  int64  \n",
      " 3   funded_amnt                 39717 non-null  int64  \n",
      " 4   funded_amnt_inv             39717 non-null  float64\n",
      " 5   term                        39717 non-null  int64  \n",
      " 6   int_rate                    39717 non-null  float64\n",
      " 7   installment                 39717 non-null  float64\n",
      " 8   grade                       39717 non-null  object \n",
      " 9   sub_grade                   39717 non-null  object \n",
      " 10  emp_title                   37258 non-null  object \n",
      " 11  emp_length                  38642 non-null  object \n",
      " 12  home_ownership              39717 non-null  object \n",
      " 13  annual_inc                  39717 non-null  float64\n",
      " 14  verification_status         39717 non-null  object \n",
      " 15  issue_d                     39717 non-null  object \n",
      " 16  loan_status                 39717 non-null  object \n",
      " 17  pymnt_plan                  39717 non-null  object \n",
      " 18  url                         39717 non-null  object \n",
      " 19  purpose                     39717 non-null  object \n",
      " 20  title                       39706 non-null  object \n",
      " 21  zip_code                    39717 non-null  object \n",
      " 22  addr_state                  39717 non-null  object \n",
      " 23  dti                         39717 non-null  float64\n",
      " 24  delinq_2yrs                 39717 non-null  int64  \n",
      " 25  earliest_cr_line            39717 non-null  object \n",
      " 26  inq_last_6mths              39717 non-null  int64  \n",
      " 27  open_acc                    39717 non-null  int64  \n",
      " 28  pub_rec                     39717 non-null  int64  \n",
      " 29  revol_bal                   39717 non-null  int64  \n",
      " 30  revol_util                  39667 non-null  object \n",
      " 31  total_acc                   39717 non-null  int64  \n",
      " 32  initial_list_status         39717 non-null  object \n",
      " 33  out_prncp                   39717 non-null  float64\n",
      " 34  out_prncp_inv               39717 non-null  float64\n",
      " 35  total_pymnt                 39717 non-null  float64\n",
      " 36  total_pymnt_inv             39717 non-null  float64\n",
      " 37  total_rec_prncp             39717 non-null  float64\n",
      " 38  total_rec_int               39717 non-null  float64\n",
      " 39  total_rec_late_fee          39717 non-null  float64\n",
      " 40  recoveries                  39717 non-null  float64\n",
      " 41  collection_recovery_fee     39717 non-null  float64\n",
      " 42  last_pymnt_d                39646 non-null  object \n",
      " 43  last_pymnt_amnt             39717 non-null  float64\n",
      " 44  last_credit_pull_d          39715 non-null  object \n",
      " 45  collections_12_mths_ex_med  39661 non-null  float64\n",
      " 46  policy_code                 39717 non-null  int64  \n",
      " 47  application_type            39717 non-null  object \n",
      " 48  acc_now_delinq              39717 non-null  int64  \n",
      " 49  chargeoff_within_12_mths    39661 non-null  float64\n",
      " 50  delinq_amnt                 39717 non-null  int64  \n",
      " 51  pub_rec_bankruptcies        39020 non-null  float64\n",
      " 52  tax_liens                   39678 non-null  float64\n",
      "dtypes: float64(19), int64(14), object(20)\n",
      "memory usage: 16.1+ MB\n"
     ]
    }
   ],
   "source": [
    "# checking the data types\n",
    "loan_df.info()"
   ]
  },
  {
   "cell_type": "code",
   "execution_count": 20,
   "metadata": {},
   "outputs": [
    {
     "name": "stdout",
     "output_type": "stream",
     "text": [
      "1075\n",
      "<class 'pandas.core.frame.DataFrame'>\n",
      "Int64Index: 38642 entries, 0 to 39716\n",
      "Data columns (total 53 columns):\n",
      " #   Column                      Non-Null Count  Dtype  \n",
      "---  ------                      --------------  -----  \n",
      " 0   id                          38642 non-null  int64  \n",
      " 1   member_id                   38642 non-null  int64  \n",
      " 2   loan_amnt                   38642 non-null  int64  \n",
      " 3   funded_amnt                 38642 non-null  int64  \n",
      " 4   funded_amnt_inv             38642 non-null  float64\n",
      " 5   term                        38642 non-null  int64  \n",
      " 6   int_rate                    38642 non-null  float64\n",
      " 7   installment                 38642 non-null  float64\n",
      " 8   grade                       38642 non-null  object \n",
      " 9   sub_grade                   38642 non-null  object \n",
      " 10  emp_title                   37202 non-null  object \n",
      " 11  emp_length                  38642 non-null  float64\n",
      " 12  home_ownership              38642 non-null  object \n",
      " 13  annual_inc                  38642 non-null  float64\n",
      " 14  verification_status         38642 non-null  object \n",
      " 15  issue_d                     38642 non-null  object \n",
      " 16  loan_status                 38642 non-null  object \n",
      " 17  pymnt_plan                  38642 non-null  object \n",
      " 18  url                         38642 non-null  object \n",
      " 19  purpose                     38642 non-null  object \n",
      " 20  title                       38632 non-null  object \n",
      " 21  zip_code                    38642 non-null  object \n",
      " 22  addr_state                  38642 non-null  object \n",
      " 23  dti                         38642 non-null  float64\n",
      " 24  delinq_2yrs                 38642 non-null  int64  \n",
      " 25  earliest_cr_line            38642 non-null  object \n",
      " 26  inq_last_6mths              38642 non-null  int64  \n",
      " 27  open_acc                    38642 non-null  int64  \n",
      " 28  pub_rec                     38642 non-null  int64  \n",
      " 29  revol_bal                   38642 non-null  int64  \n",
      " 30  revol_util                  38595 non-null  object \n",
      " 31  total_acc                   38642 non-null  int64  \n",
      " 32  initial_list_status         38642 non-null  object \n",
      " 33  out_prncp                   38642 non-null  float64\n",
      " 34  out_prncp_inv               38642 non-null  float64\n",
      " 35  total_pymnt                 38642 non-null  float64\n",
      " 36  total_pymnt_inv             38642 non-null  float64\n",
      " 37  total_rec_prncp             38642 non-null  float64\n",
      " 38  total_rec_int               38642 non-null  float64\n",
      " 39  total_rec_late_fee          38642 non-null  float64\n",
      " 40  recoveries                  38642 non-null  float64\n",
      " 41  collection_recovery_fee     38642 non-null  float64\n",
      " 42  last_pymnt_d                38576 non-null  object \n",
      " 43  last_pymnt_amnt             38642 non-null  float64\n",
      " 44  last_credit_pull_d          38640 non-null  object \n",
      " 45  collections_12_mths_ex_med  38586 non-null  float64\n",
      " 46  policy_code                 38642 non-null  int64  \n",
      " 47  application_type            38642 non-null  object \n",
      " 48  acc_now_delinq              38642 non-null  int64  \n",
      " 49  chargeoff_within_12_mths    38586 non-null  float64\n",
      " 50  delinq_amnt                 38642 non-null  int64  \n",
      " 51  pub_rec_bankruptcies        37945 non-null  float64\n",
      " 52  tax_liens                   38603 non-null  float64\n",
      "dtypes: float64(20), int64(14), object(19)\n",
      "memory usage: 15.9+ MB\n",
      "<class 'pandas.core.frame.DataFrame'>\n",
      "RangeIndex: 38642 entries, 0 to 38641\n",
      "Data columns (total 54 columns):\n",
      " #   Column                      Non-Null Count  Dtype  \n",
      "---  ------                      --------------  -----  \n",
      " 0   index                       38642 non-null  int64  \n",
      " 1   id                          38642 non-null  int64  \n",
      " 2   member_id                   38642 non-null  int64  \n",
      " 3   loan_amnt                   38642 non-null  int64  \n",
      " 4   funded_amnt                 38642 non-null  int64  \n",
      " 5   funded_amnt_inv             38642 non-null  float64\n",
      " 6   term                        38642 non-null  int64  \n",
      " 7   int_rate                    38642 non-null  float64\n",
      " 8   installment                 38642 non-null  float64\n",
      " 9   grade                       38642 non-null  object \n",
      " 10  sub_grade                   38642 non-null  object \n",
      " 11  emp_title                   37202 non-null  object \n",
      " 12  emp_length                  38642 non-null  float64\n",
      " 13  home_ownership              38642 non-null  object \n",
      " 14  annual_inc                  38642 non-null  float64\n",
      " 15  verification_status         38642 non-null  object \n",
      " 16  issue_d                     38642 non-null  object \n",
      " 17  loan_status                 38642 non-null  object \n",
      " 18  pymnt_plan                  38642 non-null  object \n",
      " 19  url                         38642 non-null  object \n",
      " 20  purpose                     38642 non-null  object \n",
      " 21  title                       38632 non-null  object \n",
      " 22  zip_code                    38642 non-null  object \n",
      " 23  addr_state                  38642 non-null  object \n",
      " 24  dti                         38642 non-null  float64\n",
      " 25  delinq_2yrs                 38642 non-null  int64  \n",
      " 26  earliest_cr_line            38642 non-null  object \n",
      " 27  inq_last_6mths              38642 non-null  int64  \n",
      " 28  open_acc                    38642 non-null  int64  \n",
      " 29  pub_rec                     38642 non-null  int64  \n",
      " 30  revol_bal                   38642 non-null  int64  \n",
      " 31  revol_util                  38595 non-null  object \n",
      " 32  total_acc                   38642 non-null  int64  \n",
      " 33  initial_list_status         38642 non-null  object \n",
      " 34  out_prncp                   38642 non-null  float64\n",
      " 35  out_prncp_inv               38642 non-null  float64\n",
      " 36  total_pymnt                 38642 non-null  float64\n",
      " 37  total_pymnt_inv             38642 non-null  float64\n",
      " 38  total_rec_prncp             38642 non-null  float64\n",
      " 39  total_rec_int               38642 non-null  float64\n",
      " 40  total_rec_late_fee          38642 non-null  float64\n",
      " 41  recoveries                  38642 non-null  float64\n",
      " 42  collection_recovery_fee     38642 non-null  float64\n",
      " 43  last_pymnt_d                38576 non-null  object \n",
      " 44  last_pymnt_amnt             38642 non-null  float64\n",
      " 45  last_credit_pull_d          38640 non-null  object \n",
      " 46  collections_12_mths_ex_med  38586 non-null  float64\n",
      " 47  policy_code                 38642 non-null  int64  \n",
      " 48  application_type            38642 non-null  object \n",
      " 49  acc_now_delinq              38642 non-null  int64  \n",
      " 50  chargeoff_within_12_mths    38586 non-null  float64\n",
      " 51  delinq_amnt                 38642 non-null  int64  \n",
      " 52  pub_rec_bankruptcies        37945 non-null  float64\n",
      " 53  tax_liens                   38603 non-null  float64\n",
      "dtypes: float64(20), int64(15), object(19)\n",
      "memory usage: 15.9+ MB\n"
     ]
    }
   ],
   "source": [
    "# Let's drop null values from emp_length\n",
    "\n",
    "print(loan_df['emp_length'].isnull().sum())\n",
    "loan_df = loan_df[~loan_df['emp_length'].isnull()]\n",
    "\n",
    "#Extract the years as number form emp_length as considering less then one year as 0.9\n",
    "loan_df['emp_length'] = loan_df['emp_length'].apply(lambda x: float(str(x).replace('+ years','').replace('< 1 year','0.9').replace(' years','').replace(' year','')))\n",
    "\n",
    "#verifying  \n",
    "loan_df.info()\n",
    "\n",
    "#reset_index\n",
    "loan_df=loan_df.reset_index()\n",
    "\n",
    "#verifying  \n",
    "loan_df.info()"
   ]
  },
  {
   "cell_type": "markdown",
   "metadata": {},
   "source": [
    "<mark>Now data looks good. </mark>"
   ]
  },
  {
   "cell_type": "markdown",
   "metadata": {},
   "source": [
    "-------------------\n",
    "\n",
    "\n",
    "\n",
    "## Data Analysis\n",
    "\n",
    "Now lets do the data analysis.\n",
    "\n",
    "#### Strategy:\n",
    "\n",
    "Lets find out all the variablse which are available at time of apply the loan application as only those can be the independent variables.\n",
    "\n"
   ]
  },
  {
   "cell_type": "code",
   "execution_count": 21,
   "metadata": {},
   "outputs": [],
   "source": [
    "## solution to show labels in bar plots - copied from https://stackoverflow.com/a/48372659 and edited\n",
    "## Add labels to the end of each bar in a bar chart.\n",
    " \n",
    "def add_value_labels(ax, a=None):\n",
    "    locs, labels = plt.xticks() \n",
    "    count = {}\n",
    "    x = 0\n",
    "    \n",
    "    if not a is None:\n",
    "        for key, value in d.items():\n",
    "            count[str(key)] = value\n",
    "\n",
    "    # For each bar: Place a label\n",
    "    for rect in ax.patches:\n",
    "        # Get X and Y placement of label from rect.\n",
    "        y_value = rect.get_height()\n",
    "        x_value = rect.get_x() + rect.get_width() / 2\n",
    "\n",
    "        # Number of points between bar and label. Change to your liking.\n",
    "        space = 5\n",
    "        # Vertical alignment for positive values\n",
    "        va = 'bottom'\n",
    "\n",
    "        # If value of bar is negative: Place label below bar\n",
    "        if y_value < 0:\n",
    "            # Invert space to place label below\n",
    "            space *= -1\n",
    "            # Vertically align label at top\n",
    "            va = 'top'\n",
    "\n",
    "        # Use Y value as label and format number with one decimal place\n",
    "        if a is None:\n",
    "            label = \"{:.1f}%\".format(y_value)\n",
    "        else:\n",
    "            try:\n",
    "                label = \"{:.1f}%\".format(y_value) + \"\\nof \" + str(count[str(labels[x].get_text())])\n",
    "            except:\n",
    "                label = \"{:.1f}%\".format(y_value)\n",
    "        \n",
    "        x = x+1\n",
    "\n",
    "        # Create annotation\n",
    "        plt.annotate(\n",
    "            label,                      # Use `label` as label\n",
    "            (x_value, y_value),         # Place label at end of the bar\n",
    "            xytext=(0, space),          # Vertically shift label by `space`\n",
    "            textcoords=\"offset points\", # Interpret `xytext` as offset in points\n",
    "            ha='center',                # Horizontally center label\n",
    "            va=va)                      # Vertically align label differently for\n",
    "                                        # positive and negative values.\n"
   ]
  },
  {
   "cell_type": "code",
   "execution_count": 22,
   "metadata": {},
   "outputs": [],
   "source": [
    "relavent =  [\n",
    "'member_id',\n",
    "'loan_amnt',\n",
    "'funded_amnt',\n",
    "'funded_amnt_inv',\n",
    "'term',\n",
    "'int_rate',\n",
    "'installment',\n",
    "'grade',\n",
    "'sub_grade',\n",
    "'emp_title',\n",
    "'emp_length',\n",
    "'home_ownership',\n",
    "'annual_inc',\n",
    "'verification_status',\n",
    "'loan_status',\n",
    "'pymnt_plan',\n",
    "'purpose',\n",
    "'title',\n",
    "'zip_code',\n",
    "'addr_state',\n",
    "'dti',\n",
    "'initial_list_status',\n",
    "'collections_12_mths_ex_med',\n",
    "'policy_code',\n",
    "'acc_now_delinq',\n",
    "'chargeoff_within_12_mths',\n",
    "'delinq_amnt',\n",
    "'application_type',\n",
    "'pub_rec_bankruptcies',\n",
    "'tax_liens',\n",
    "'issue_d'\n",
    "    ,'total_pymnt'\n",
    "]\n",
    "sub_df = loan_df.loc[ :,relavent]"
   ]
  },
  {
   "cell_type": "code",
   "execution_count": 23,
   "metadata": {},
   "outputs": [
    {
     "name": "stdout",
     "output_type": "stream",
     "text": [
      "<class 'pandas.core.frame.DataFrame'>\n",
      "RangeIndex: 38642 entries, 0 to 38641\n",
      "Data columns (total 32 columns):\n",
      " #   Column                      Non-Null Count  Dtype  \n",
      "---  ------                      --------------  -----  \n",
      " 0   member_id                   38642 non-null  int64  \n",
      " 1   loan_amnt                   38642 non-null  int64  \n",
      " 2   funded_amnt                 38642 non-null  int64  \n",
      " 3   funded_amnt_inv             38642 non-null  float64\n",
      " 4   term                        38642 non-null  int64  \n",
      " 5   int_rate                    38642 non-null  float64\n",
      " 6   installment                 38642 non-null  float64\n",
      " 7   grade                       38642 non-null  object \n",
      " 8   sub_grade                   38642 non-null  object \n",
      " 9   emp_title                   37202 non-null  object \n",
      " 10  emp_length                  38642 non-null  float64\n",
      " 11  home_ownership              38642 non-null  object \n",
      " 12  annual_inc                  38642 non-null  float64\n",
      " 13  verification_status         38642 non-null  object \n",
      " 14  loan_status                 38642 non-null  object \n",
      " 15  pymnt_plan                  38642 non-null  object \n",
      " 16  purpose                     38642 non-null  object \n",
      " 17  title                       38632 non-null  object \n",
      " 18  zip_code                    38642 non-null  object \n",
      " 19  addr_state                  38642 non-null  object \n",
      " 20  dti                         38642 non-null  float64\n",
      " 21  initial_list_status         38642 non-null  object \n",
      " 22  collections_12_mths_ex_med  38586 non-null  float64\n",
      " 23  policy_code                 38642 non-null  int64  \n",
      " 24  acc_now_delinq              38642 non-null  int64  \n",
      " 25  chargeoff_within_12_mths    38586 non-null  float64\n",
      " 26  delinq_amnt                 38642 non-null  int64  \n",
      " 27  application_type            38642 non-null  object \n",
      " 28  pub_rec_bankruptcies        37945 non-null  float64\n",
      " 29  tax_liens                   38603 non-null  float64\n",
      " 30  issue_d                     38642 non-null  object \n",
      " 31  total_pymnt                 38642 non-null  float64\n",
      "dtypes: float64(11), int64(7), object(14)\n",
      "memory usage: 9.4+ MB\n"
     ]
    }
   ],
   "source": [
    "sub_df.info()"
   ]
  },
  {
   "cell_type": "markdown",
   "metadata": {},
   "source": [
    "---\n",
    "---"
   ]
  },
  {
   "cell_type": "markdown",
   "metadata": {},
   "source": [
    "# Univariant Analysis "
   ]
  },
  {
   "cell_type": "markdown",
   "metadata": {},
   "source": [
    "--------\n",
    "--------\n",
    "### Variable : loan_status"
   ]
  },
  {
   "cell_type": "code",
   "execution_count": 24,
   "metadata": {},
   "outputs": [
    {
     "data": {
      "text/plain": [
       "Fully Paid     32145\n",
       "Charged Off     5399\n",
       "Current         1098\n",
       "Name: loan_status, dtype: int64"
      ]
     },
     "execution_count": 24,
     "metadata": {},
     "output_type": "execute_result"
    }
   ],
   "source": [
    "#Exploring loan_status\n",
    "sub_df['loan_status'].value_counts()"
   ]
  },
  {
   "cell_type": "code",
   "execution_count": 25,
   "metadata": {},
   "outputs": [
    {
     "data": {
      "text/plain": [
       "<matplotlib.axes._subplots.AxesSubplot at 0x2268058dbc8>"
      ]
     },
     "execution_count": 25,
     "metadata": {},
     "output_type": "execute_result"
    },
    {
     "data": {
      "image/png": "[encoded data removed]",
      "text/plain": [
       "<Figure size 432x288 with 1 Axes>"
      ]
     },
     "metadata": {},
     "output_type": "display_data"
    }
   ],
   "source": [
    "sub_df['loan_status'].hist()"
   ]
  },
  {
   "cell_type": "markdown",
   "metadata": {},
   "source": [
    "<mark> Now the target variable \"loan_status\" need to be convert like boollean value 0 or 1. 1 meaning person has defaulted and 0 meaning fully paid.  We will remove all the current loan status records. </mark>\n"
   ]
  },
  {
   "cell_type": "code",
   "execution_count": 26,
   "metadata": {},
   "outputs": [],
   "source": [
    "# Removing all \"current\" status loan status records.\n",
    "sub_df = sub_df[sub_df['loan_status'] != 'Current']"
   ]
  },
  {
   "cell_type": "code",
   "execution_count": 27,
   "metadata": {},
   "outputs": [
    {
     "data": {
      "text/plain": [
       "0    32145\n",
       "1     5399\n",
       "Name: loan_status, dtype: int64"
      ]
     },
     "execution_count": 27,
     "metadata": {},
     "output_type": "execute_result"
    }
   ],
   "source": [
    "sub_df['loan_status'] = sub_df['loan_status'].apply(lambda x: pd.to_numeric(0) if x=='Fully Paid' else pd.to_numeric(1))\n",
    "\n",
    "#Exploring loan_status\n",
    "sub_df['loan_status'].value_counts()\n"
   ]
  },
  {
   "cell_type": "code",
   "execution_count": 28,
   "metadata": {},
   "outputs": [
    {
     "data": {
      "text/plain": [
       "<matplotlib.axes._subplots.AxesSubplot at 0x226f8077448>"
      ]
     },
     "execution_count": 28,
     "metadata": {},
     "output_type": "execute_result"
    },
    {
     "data": {
      "image/png": "[encoded data removed]",
      "text/plain": [
       "<Figure size 432x288 with 1 Axes>"
      ]
     },
     "metadata": {},
     "output_type": "display_data"
    }
   ],
   "source": [
    "sub_df['loan_status'].hist()"
   ]
  },
  {
   "cell_type": "code",
   "execution_count": 29,
   "metadata": {},
   "outputs": [
    {
     "data": {
      "text/plain": [
       "0.14"
      ]
     },
     "execution_count": 29,
     "metadata": {},
     "output_type": "execute_result"
    }
   ],
   "source": [
    "# default rate\n",
    "round(np.mean(sub_df['loan_status']), 2)"
   ]
  },
  {
   "cell_type": "markdown",
   "metadata": {},
   "source": [
    "#The overall default rate is about 14%."
   ]
  },
  {
   "cell_type": "code",
   "execution_count": 30,
   "metadata": {},
   "outputs": [
    {
     "data": {
      "image/png": "[encoded data removed]",
      "text/plain": [
       "<Figure size 360x504 with 1 Axes>"
      ]
     },
     "metadata": {},
     "output_type": "display_data"
    }
   ],
   "source": [
    "plt.figure(figsize=(5,7))\n",
    "labels = [ 'fully paid', 'charged-off']\n",
    "ax = sub_df.groupby('loan_status').loan_status.count().plot.pie(labels=labels, autopct='%1.0f%%', pctdistance=1.5, labeldistance=1.1)\n",
    "plt.show()\n"
   ]
  },
  {
   "cell_type": "markdown",
   "metadata": {},
   "source": [
    "--------\n",
    "--------\n",
    "### Variable :  funded_amnt"
   ]
  },
  {
   "cell_type": "code",
   "execution_count": 31,
   "metadata": {},
   "outputs": [
    {
     "data": {
      "text/plain": [
       "count    37544.000000\n",
       "mean     10853.560489\n",
       "std       7096.316776\n",
       "min        500.000000\n",
       "25%       5400.000000\n",
       "50%       9600.000000\n",
       "75%      15000.000000\n",
       "max      35000.000000\n",
       "Name: funded_amnt, dtype: float64"
      ]
     },
     "execution_count": 31,
     "metadata": {},
     "output_type": "execute_result"
    }
   ],
   "source": [
    "#let's work on funded amount \n",
    "sub_df['funded_amnt'].describe()"
   ]
  },
  {
   "cell_type": "code",
   "execution_count": 32,
   "metadata": {
    "scrolled": true
   },
   "outputs": [],
   "source": [
    "sub_df.sort_values('funded_amnt', inplace=True )"
   ]
  },
  {
   "cell_type": "code",
   "execution_count": 33,
   "metadata": {},
   "outputs": [
    {
     "data": {
      "text/plain": [
       "C: 5k-10k      11939\n",
       "D: 10k-15k      8686\n",
       "B: 1k-5k        7176\n",
       "E: 15k-20k      4622\n",
       "F: 20k-25k      2794\n",
       "G: 25k-30k      1413\n",
       "H: 30k-35k+      902\n",
       "A: 0-1k           12\n",
       "Name: funded_amnt_range, dtype: int64"
      ]
     },
     "execution_count": 33,
     "metadata": {},
     "output_type": "execute_result"
    }
   ],
   "source": [
    "#creating a range/bins\n",
    "\n",
    "d = { range(0, 1000): 'A: 0-1k'\n",
    "    ,range(1000, 5000): 'B: 1k-5k'\n",
    "    ,range(5000, 10000,): 'C: 5k-10k'\n",
    "    ,range(10000, 15000,): 'D: 10k-15k'\n",
    "    ,range(15000, 20000,): 'E: 15k-20k'\n",
    "    ,range(20000, 25000,): 'F: 20k-25k'\n",
    "    ,range(25000, 30000,): 'G: 25k-30k'\n",
    "    ,range(30000, 35001,): 'H: 30k-35k+'\n",
    "    }\n",
    "\n",
    "#creating a drive column funded_amnt_range\n",
    "sub_df['funded_amnt_range'] = sub_df['funded_amnt'].apply(lambda x: next((v for k, v in d.items() if x in k), 'na'))\n",
    "sub_df['funded_amnt_range'].value_counts()\n"
   ]
  },
  {
   "cell_type": "code",
   "execution_count": 34,
   "metadata": {},
   "outputs": [
    {
     "data": {
      "image/png": "[encoded data removed]",
      "text/plain": [
       "<Figure size 432x288 with 1 Axes>"
      ]
     },
     "metadata": {},
     "output_type": "display_data"
    }
   ],
   "source": [
    "#ploting a bar graph \n",
    "ax = sub_df.groupby('funded_amnt_range').funded_amnt_range.count().plot.bar()\n",
    "plt.show()"
   ]
  },
  {
   "cell_type": "markdown",
   "metadata": {},
   "source": [
    "--------\n",
    "--------\n",
    "### Variable :  loan_amnt"
   ]
  },
  {
   "cell_type": "code",
   "execution_count": 35,
   "metadata": {},
   "outputs": [
    {
     "data": {
      "text/plain": [
       "C: 5k-10k      11667\n",
       "D: 10k-15k      8490\n",
       "B: 1k-5k        7083\n",
       "E: 15k-20k      4568\n",
       "F: 20k-25k      3004\n",
       "G: 25k-30k      1663\n",
       "H: 30k-35k+     1057\n",
       "A: 0-1k           12\n",
       "Name: loan_amnt_range, dtype: int64"
      ]
     },
     "execution_count": 35,
     "metadata": {},
     "output_type": "execute_result"
    }
   ],
   "source": [
    "#creating a drive column loan_amnt_range\n",
    "sub_df['loan_amnt_range'] = sub_df['loan_amnt'].apply(lambda x: next((v for k, v in d.items() if x in k), 'na'))\n",
    "sub_df['loan_amnt_range'].value_counts()\n"
   ]
  },
  {
   "cell_type": "code",
   "execution_count": 36,
   "metadata": {},
   "outputs": [
    {
     "data": {
      "image/png": "[encoded data removed]",
      "text/plain": [
       "<Figure size 720x360 with 1 Axes>"
      ]
     },
     "metadata": {},
     "output_type": "display_data"
    }
   ],
   "source": [
    "#ploting a bar graph \n",
    "plt.figure(figsize=(10,5))\n",
    "ax = sub_df.groupby('loan_amnt_range').loan_amnt_range.count().plot.bar()\n",
    "plt.show()"
   ]
  },
  {
   "cell_type": "markdown",
   "metadata": {},
   "source": [
    "--------\n",
    "--------\n",
    "### Variable :  purpose"
   ]
  },
  {
   "cell_type": "code",
   "execution_count": 37,
   "metadata": {},
   "outputs": [
    {
     "data": {
      "image/png": "[encoded data removed]",
      "text/plain": [
       "<Figure size 1080x504 with 1 Axes>"
      ]
     },
     "metadata": {},
     "output_type": "display_data"
    }
   ],
   "source": [
    "plt.figure(figsize=(15,7))\n",
    "ax = sub_df.groupby('purpose').purpose.count().plot.bar()\n",
    "plt.show()\n"
   ]
  },
  {
   "cell_type": "code",
   "execution_count": 38,
   "metadata": {},
   "outputs": [
    {
     "data": {
      "image/png": "[encoded data removed]",
      "text/plain": [
       "<Figure size 720x504 with 1 Axes>"
      ]
     },
     "metadata": {},
     "output_type": "display_data"
    }
   ],
   "source": [
    "plt.figure(figsize=(10,7))\n",
    "ax = sub_df.groupby('grade').purpose.count().plot.bar()\n",
    "plt.show()"
   ]
  },
  {
   "cell_type": "markdown",
   "metadata": {},
   "source": [
    "--------\n",
    "--------\n",
    "### Variable :  issue_d"
   ]
  },
  {
   "cell_type": "code",
   "execution_count": 39,
   "metadata": {},
   "outputs": [
    {
     "data": {
      "text/plain": [
       "38469    Nov-07\n",
       "38322    Jan-08\n",
       "37788    Mar-08\n",
       "38200    Jan-08\n",
       "38298    Jan-08\n",
       "Name: issue_d, dtype: object"
      ]
     },
     "execution_count": 39,
     "metadata": {},
     "output_type": "execute_result"
    }
   ],
   "source": [
    "# let's also observe the distribution of loans across years\n",
    "# first lets convert the year column into datetime and then extract year and month from it\n",
    "sub_df['issue_d'].head()"
   ]
  },
  {
   "cell_type": "code",
   "execution_count": 40,
   "metadata": {},
   "outputs": [],
   "source": [
    "from datetime import datetime\n",
    "sub_df['issue_d'] = sub_df['issue_d'].apply(lambda x: datetime.strptime(x, '%b-%y'))\n"
   ]
  },
  {
   "cell_type": "code",
   "execution_count": 41,
   "metadata": {},
   "outputs": [],
   "source": [
    "# extracting month and year from issue_date\n",
    "sub_df['issue_month'] = sub_df['issue_d'].apply(lambda x: x.month)\n",
    "sub_df['issue_year'] = sub_df['issue_d'].apply(lambda x: x.year)"
   ]
  },
  {
   "cell_type": "code",
   "execution_count": 42,
   "metadata": {},
   "outputs": [
    {
     "data": {
      "text/plain": [
       "issue_year\n",
       "2007      251\n",
       "2008     1562\n",
       "2009     4716\n",
       "2010    11214\n",
       "2011    19801\n",
       "Name: issue_year, dtype: int64"
      ]
     },
     "execution_count": 42,
     "metadata": {},
     "output_type": "execute_result"
    }
   ],
   "source": [
    "# let's first observe the number of loans granted across years\n",
    "sub_df.groupby('issue_year').issue_year.count()"
   ]
  },
  {
   "cell_type": "code",
   "execution_count": 43,
   "metadata": {},
   "outputs": [
    {
     "data": {
      "image/png": "[encoded data removed]",
      "text/plain": [
       "<Figure size 720x504 with 1 Axes>"
      ]
     },
     "metadata": {},
     "output_type": "display_data"
    }
   ],
   "source": [
    "plt.figure(figsize=(10,7))\n",
    "ax = sub_df.groupby('issue_year').purpose.count().plot.bar()\n",
    "plt.show()"
   ]
  },
  {
   "cell_type": "markdown",
   "metadata": {},
   "source": [
    "**Observation**: The number of loans has increased steadily across years. "
   ]
  },
  {
   "cell_type": "code",
   "execution_count": 44,
   "metadata": {},
   "outputs": [
    {
     "data": {
      "text/plain": [
       "issue_month\n",
       "1     2331\n",
       "2     2278\n",
       "3     2632\n",
       "4     2756\n",
       "5     2838\n",
       "6     3094\n",
       "7     3253\n",
       "8     3321\n",
       "9     3394\n",
       "10    3637\n",
       "11    3890\n",
       "12    4120\n",
       "Name: issue_month, dtype: int64"
      ]
     },
     "execution_count": 44,
     "metadata": {},
     "output_type": "execute_result"
    }
   ],
   "source": [
    "# number of loans across months\n",
    "sub_df.groupby('issue_month').issue_month.count()"
   ]
  },
  {
   "cell_type": "code",
   "execution_count": 45,
   "metadata": {},
   "outputs": [
    {
     "data": {
      "image/png": "[encoded data removed]",
      "text/plain": [
       "<Figure size 720x504 with 1 Axes>"
      ]
     },
     "metadata": {},
     "output_type": "display_data"
    }
   ],
   "source": [
    "plt.figure(figsize=(10,7))\n",
    "ax = sub_df.groupby('issue_month').purpose.count().plot.bar()\n",
    "plt.show()"
   ]
  },
  {
   "cell_type": "markdown",
   "metadata": {},
   "source": [
    "**Observation**: \n",
    "Most loans are granted in December, and in general in the latter half of the year."
   ]
  },
  {
   "cell_type": "markdown",
   "metadata": {},
   "source": [
    "# Segment univariate and bivariate analysis.\n",
    "\n",
    "Lets take a look to univariate and bivariate analysis.\n"
   ]
  },
  {
   "cell_type": "code",
   "execution_count": 46,
   "metadata": {},
   "outputs": [],
   "source": [
    "# creating two functions for ploting a chart for base on the categorical variable\n",
    "\n",
    "## this will work on both dataframes(lone_df and sub_df) \n",
    "def plotf(xvar, huevar):\n",
    "    sub_df.sort_values(xvar, inplace=True )\n",
    "    if len(huevar)==0: \n",
    "        sub_df.sort_values(xvar, inplace=True )\n",
    "        sns.barplot(x=xvar, y='loan_status' ,data=sub_df)\n",
    "    else :\n",
    "        sub_df.sort_values([xvar,huevar], inplace=True )\n",
    "        sns.barplot(x=xvar, y='loan_status', hue=huevar, data=sub_df)\n",
    "    plt.show()\n",
    "    \n",
    "## this will work on loan_df     \n",
    "def plotloan_df(dataframe, by, loanstatus='Charged Off'):\n",
    "    grp = dataframe.groupby(['loan_status',by])[by].count()\n",
    "    cnt = dataframe.groupby(by)[by].count()\n",
    "    percentages = grp.unstack() * 100 / cnt.T\n",
    "    ax = percentages.loc[loanstatus].plot.bar(color=sns.color_palette('husl', 16))\n",
    "    ax.set_ylabel('% of loans ' + loanstatus)\n",
    "    add_value_labels(ax, grp[loanstatus].to_dict())\n",
    "    plt.margins(0.2, 0.2)\n",
    "    plt.tight_layout()\n",
    "    return ax"
   ]
  },
  {
   "cell_type": "markdown",
   "metadata": {},
   "source": [
    "--------\n",
    "--------\n",
    "### Variable :  loan_status and grade"
   ]
  },
  {
   "cell_type": "code",
   "execution_count": 47,
   "metadata": {},
   "outputs": [
    {
     "data": {
      "image/png": "[encoded data removed]",
      "text/plain": [
       "<Figure size 432x288 with 1 Axes>"
      ]
     },
     "metadata": {},
     "output_type": "display_data"
    },
    {
     "data": {
      "text/plain": [
       "<matplotlib.axes._subplots.AxesSubplot at 0x226803a8708>"
      ]
     },
     "execution_count": 47,
     "metadata": {},
     "output_type": "execute_result"
    },
    {
     "data": {
      "image/png": "[encoded data removed]",
      "text/plain": [
       "<Figure size 432x288 with 1 Axes>"
      ]
     },
     "metadata": {},
     "output_type": "display_data"
    }
   ],
   "source": [
    "#grade\n",
    "plotf('grade','')\n",
    "plotloan_df(loan_df,'grade')"
   ]
  },
  {
   "cell_type": "markdown",
   "metadata": {},
   "source": [
    "**Observation:**\n",
    "Clearly, as the loan grade goes from A to G, the default rate increases. "
   ]
  },
  {
   "cell_type": "markdown",
   "metadata": {},
   "source": [
    "--------\n",
    "--------\n",
    "### Variable :  loan_status and sub_grade"
   ]
  },
  {
   "cell_type": "code",
   "execution_count": 48,
   "metadata": {
    "scrolled": false
   },
   "outputs": [
    {
     "data": {
      "image/png": "[encoded data removed]",
      "text/plain": [
       "<Figure size 1152x432 with 1 Axes>"
      ]
     },
     "metadata": {},
     "output_type": "display_data"
    }
   ],
   "source": [
    "# sub-grade: as expected - A1 is better than A2 better than A3 and so on \n",
    "plt.figure(figsize=(16, 6))\n",
    "plotf('sub_grade','')"
   ]
  },
  {
   "cell_type": "markdown",
   "metadata": {},
   "source": [
    "**Observation:**\n",
    "Clearly, as the loan sub grade goes from A to G, the default rate increases. "
   ]
  },
  {
   "cell_type": "markdown",
   "metadata": {},
   "source": [
    "--------\n",
    "--------\n",
    "### Variable :  loan_status and loan_amnt"
   ]
  },
  {
   "cell_type": "code",
   "execution_count": 49,
   "metadata": {},
   "outputs": [
    {
     "data": {
      "text/plain": [
       "32089     7500\n",
       "26011     3250\n",
       "4794     12500\n",
       "18586     4000\n",
       "8690     14500\n",
       "         ...  \n",
       "33037    19750\n",
       "25991    22000\n",
       "19300     6200\n",
       "35037    16750\n",
       "24602    25000\n",
       "Name: loan_amnt, Length: 5399, dtype: int64"
      ]
     },
     "execution_count": 49,
     "metadata": {},
     "output_type": "execute_result"
    }
   ],
   "source": [
    "sub_df[sub_df['loan_status'] ==1]['loan_amnt']"
   ]
  },
  {
   "cell_type": "code",
   "execution_count": 50,
   "metadata": {},
   "outputs": [
    {
     "data": {
      "image/png": "[encoded data removed]",
      "text/plain": [
       "<Figure size 432x288 with 1 Axes>"
      ]
     },
     "metadata": {},
     "output_type": "display_data"
    }
   ],
   "source": [
    "#loan_amnt_range\n",
    "plt.xticks(rotation=90)\n",
    "plotf('loan_amnt_range','')\n"
   ]
  },
  {
   "cell_type": "markdown",
   "metadata": {},
   "source": [
    "**Observation:**\n",
    "Clearly, as the loan amount goes from higher, the default rate increases. \n"
   ]
  },
  {
   "cell_type": "markdown",
   "metadata": {},
   "source": [
    "--------\n",
    "--------\n",
    "### Variable :  loan_status and int_rate"
   ]
  },
  {
   "cell_type": "code",
   "execution_count": 51,
   "metadata": {},
   "outputs": [
    {
     "name": "stdout",
     "output_type": "stream",
     "text": [
      "38068     8.63\n",
      "37824    12.29\n",
      "38298    10.46\n",
      "38136    12.29\n",
      "38469     8.07\n",
      "         ...  \n",
      "4957      8.90\n",
      "6061     11.71\n",
      "744      16.77\n",
      "10871    17.49\n",
      "10611    18.79\n",
      "Name: int_rate, Length: 37544, dtype: float64\n"
     ]
    }
   ],
   "source": [
    "# int_rate:\n",
    "print(sub_df['int_rate'])"
   ]
  },
  {
   "cell_type": "code",
   "execution_count": 52,
   "metadata": {},
   "outputs": [
    {
     "name": "stdout",
     "output_type": "stream",
     "text": [
      "count    37544.000000\n",
      "mean        11.963319\n",
      "std          3.683012\n",
      "min          5.420000\n",
      "25%          8.940000\n",
      "50%         11.830000\n",
      "75%         14.420000\n",
      "max         24.400000\n",
      "Name: int_rate, dtype: float64\n"
     ]
    }
   ],
   "source": [
    "print(sub_df.int_rate.describe())"
   ]
  },
  {
   "cell_type": "code",
   "execution_count": 53,
   "metadata": {},
   "outputs": [
    {
     "name": "stdout",
     "output_type": "stream",
     "text": [
      "count    37544.000000\n",
      "mean        11.954560\n",
      "std          3.675162\n",
      "min          5.000000\n",
      "25%          9.000000\n",
      "50%         12.000000\n",
      "75%         14.000000\n",
      "max         24.000000\n",
      "Name: interest_rate_round, dtype: float64\n"
     ]
    }
   ],
   "source": [
    "#create new columns interest_rate_round by rounding the int_rate \n",
    "sub_df['interest_rate_round'] = round(sub_df['int_rate'])\n",
    "print(sub_df.interest_rate_round.describe())\n"
   ]
  },
  {
   "cell_type": "code",
   "execution_count": 54,
   "metadata": {
    "scrolled": true
   },
   "outputs": [
    {
     "data": {
      "image/png": "[encoded data removed]",
      "text/plain": [
       "<Figure size 1080x360 with 1 Axes>"
      ]
     },
     "metadata": {},
     "output_type": "display_data"
    }
   ],
   "source": [
    "#interest_rate_round\n",
    "plt.figure(figsize=(15, 5))\n",
    "plotf('interest_rate_round','')"
   ]
  },
  {
   "cell_type": "markdown",
   "metadata": {},
   "source": [
    "**Observation:**\n",
    "Clearly, as the loan interest rate goes from higher, the default rate increases. "
   ]
  },
  {
   "cell_type": "markdown",
   "metadata": {},
   "source": [
    "--------\n",
    "--------\n",
    "### Variable :  loan_status and term"
   ]
  },
  {
   "cell_type": "code",
   "execution_count": 55,
   "metadata": {},
   "outputs": [
    {
     "data": {
      "image/png": "[encoded data removed]",
      "text/plain": [
       "<Figure size 432x288 with 1 Axes>"
      ]
     },
     "metadata": {},
     "output_type": "display_data"
    },
    {
     "data": {
      "text/plain": [
       "<matplotlib.axes._subplots.AxesSubplot at 0x226811237c8>"
      ]
     },
     "execution_count": 55,
     "metadata": {},
     "output_type": "execute_result"
    },
    {
     "data": {
      "image/png": "[encoded data removed]",
      "text/plain": [
       "<Figure size 432x288 with 1 Axes>"
      ]
     },
     "metadata": {},
     "output_type": "display_data"
    }
   ],
   "source": [
    "# term:\n",
    "plotf('term','')\n",
    "plotloan_df(loan_df,'term')"
   ]
  },
  {
   "cell_type": "markdown",
   "metadata": {},
   "source": [
    "**Observation:**\n",
    "Clearly, as the longer is the loan term the higher the default rate. "
   ]
  },
  {
   "cell_type": "markdown",
   "metadata": {},
   "source": [
    "--------\n",
    "--------\n",
    "### Variable :  loan_status, term and grade"
   ]
  },
  {
   "cell_type": "code",
   "execution_count": 56,
   "metadata": {},
   "outputs": [
    {
     "data": {
      "image/png": "[encoded data removed]",
      "text/plain": [
       "<Figure size 1152x432 with 1 Axes>"
      ]
     },
     "metadata": {},
     "output_type": "display_data"
    }
   ],
   "source": [
    "plt.figure(figsize=(16, 6))\n",
    "plotf('term','grade' )"
   ]
  },
  {
   "cell_type": "markdown",
   "metadata": {},
   "source": [
    "**Observation:** G grade applicant have less defualt if term is 60 months "
   ]
  },
  {
   "cell_type": "markdown",
   "metadata": {},
   "source": [
    "--------\n",
    "--------\n",
    "### Variable :  loan_status and home_ownership"
   ]
  },
  {
   "cell_type": "code",
   "execution_count": 57,
   "metadata": {},
   "outputs": [
    {
     "data": {
      "image/png": "[encoded data removed]",
      "text/plain": [
       "<Figure size 432x288 with 1 Axes>"
      ]
     },
     "metadata": {},
     "output_type": "display_data"
    }
   ],
   "source": [
    "# home ownership\n",
    "plotf('home_ownership','')"
   ]
  },
  {
   "cell_type": "markdown",
   "metadata": {},
   "source": [
    "**Observation:** home ownership dose not impact the target variable "
   ]
  },
  {
   "cell_type": "markdown",
   "metadata": {},
   "source": [
    "--------\n",
    "--------\n",
    "### Variable :  loan_status and verification_status"
   ]
  },
  {
   "cell_type": "code",
   "execution_count": 58,
   "metadata": {},
   "outputs": [
    {
     "data": {
      "image/png": "[encoded data removed]",
      "text/plain": [
       "<Figure size 432x288 with 1 Axes>"
      ]
     },
     "metadata": {},
     "output_type": "display_data"
    }
   ],
   "source": [
    "# verification_status\n",
    "plotf('verification_status', '')"
   ]
  },
  {
   "cell_type": "markdown",
   "metadata": {},
   "source": [
    "**Observation:** interesting fact, \"verified\" verification status have higher the default rate in comparison to \"Not varified\""
   ]
  },
  {
   "cell_type": "markdown",
   "metadata": {},
   "source": [
    "--------\n",
    "--------\n",
    "### Variable :  loan_status and purpose"
   ]
  },
  {
   "cell_type": "code",
   "execution_count": 59,
   "metadata": {},
   "outputs": [
    {
     "data": {
      "image/png": "[encoded data removed]",
      "text/plain": [
       "<Figure size 720x360 with 1 Axes>"
      ]
     },
     "metadata": {},
     "output_type": "display_data"
    }
   ],
   "source": [
    "# purpose\n",
    "plt.figure(figsize=(10, 5))\n",
    "plt.xticks(rotation=90)\n",
    "plotf('purpose', '')"
   ]
  },
  {
   "cell_type": "markdown",
   "metadata": {},
   "source": [
    "**Observation:** Small business have higher the default rate."
   ]
  },
  {
   "cell_type": "markdown",
   "metadata": {},
   "source": [
    "--------\n",
    "--------\n",
    "### Variable :  loan_status and annual_inc"
   ]
  },
  {
   "cell_type": "code",
   "execution_count": 60,
   "metadata": {},
   "outputs": [
    {
     "data": {
      "text/plain": [
       "count    3.754400e+04\n",
       "mean     6.940708e+04\n",
       "std      6.467698e+04\n",
       "min      4.000000e+03\n",
       "25%      4.100000e+04\n",
       "50%      6.000000e+04\n",
       "75%      8.300000e+04\n",
       "max      6.000000e+06\n",
       "Name: annual_inc, dtype: float64"
      ]
     },
     "execution_count": 60,
     "metadata": {},
     "output_type": "execute_result"
    }
   ],
   "source": [
    "sub_df.annual_inc.describe()"
   ]
  },
  {
   "cell_type": "code",
   "execution_count": 61,
   "metadata": {},
   "outputs": [
    {
     "data": {
      "image/png": "[encoded data removed]",
      "text/plain": [
       "<Figure size 720x360 with 1 Axes>"
      ]
     },
     "metadata": {},
     "output_type": "display_data"
    }
   ],
   "source": [
    "# income_bin\n",
    "sub_df['annual_inc'] =sub_df['annual_inc'].astype('int64') \n",
    "sub_df['income_bin'] = pd.cut(sub_df['annual_inc'],[x for x in range(0, 1050000, 50000)], labels=[str(x)+'-'+str(x+50)+'k' for x in range (0, 1000, 50)])\n",
    "sub_df['income_bin'].head()\n",
    "plt.figure(figsize=(10, 5))\n",
    "plt.xticks(rotation=90)\n",
    "plotf('income_bin', '')\n"
   ]
  },
  {
   "cell_type": "markdown",
   "metadata": {},
   "source": [
    "**Observation:** Lower and higher income applicants have higher the default rate."
   ]
  },
  {
   "cell_type": "markdown",
   "metadata": {},
   "source": [
    "--------\n",
    "--------\n",
    "### Variable :  loan_status and installment"
   ]
  },
  {
   "cell_type": "code",
   "execution_count": 62,
   "metadata": {},
   "outputs": [
    {
     "data": {
      "text/plain": [
       "18935    422.15\n",
       "26509    207.18\n",
       "13410    294.96\n",
       "4222     264.61\n",
       "36974    399.78\n",
       "          ...  \n",
       "28653    334.08\n",
       "32907    198.78\n",
       "27942     90.99\n",
       "26638    129.18\n",
       "32357    312.19\n",
       "Name: installment, Length: 37544, dtype: float64"
      ]
     },
     "execution_count": 62,
     "metadata": {},
     "output_type": "execute_result"
    }
   ],
   "source": [
    "#analysing\n",
    "sub_df['installment']"
   ]
  },
  {
   "cell_type": "code",
   "execution_count": 63,
   "metadata": {},
   "outputs": [
    {
     "data": {
      "text/plain": [
       "count    37544.000000\n",
       "mean       324.650164\n",
       "std        208.901055\n",
       "min         15.690000\n",
       "25%        167.370000\n",
       "50%        280.000000\n",
       "75%        428.942500\n",
       "max       1305.190000\n",
       "Name: installment, dtype: float64"
      ]
     },
     "execution_count": 63,
     "metadata": {},
     "output_type": "execute_result"
    }
   ],
   "source": [
    "#analysing\n",
    "sub_df.installment.describe()"
   ]
  },
  {
   "cell_type": "code",
   "execution_count": 64,
   "metadata": {},
   "outputs": [
    {
     "data": {
      "image/png": "[encoded data removed]",
      "text/plain": [
       "<Figure size 720x360 with 1 Axes>"
      ]
     },
     "metadata": {},
     "output_type": "display_data"
    }
   ],
   "source": [
    "sub_df['installment_bin'] = pd.cut(sub_df['installment'],[x for x in range(0, 1500, 100)], labels=[str(x)+'-'+str(x+100) for x in range (0, 1400, 100)])\n",
    "plt.figure(figsize=(10, 5))\n",
    "plt.xticks(rotation=90)\n",
    "plotf('installment_bin', '')"
   ]
  },
  {
   "cell_type": "code",
   "execution_count": 65,
   "metadata": {},
   "outputs": [
    {
     "data": {
      "text/plain": [
       "<matplotlib.axes._subplots.AxesSubplot at 0x22680431bc8>"
      ]
     },
     "execution_count": 65,
     "metadata": {},
     "output_type": "execute_result"
    },
    {
     "data": {
      "image/png": "[encoded data removed]",
      "text/plain": [
       "<Figure size 720x360 with 1 Axes>"
      ]
     },
     "metadata": {},
     "output_type": "display_data"
    }
   ],
   "source": [
    "loan_df['installment_bin'] = pd.cut(loan_df['installment'],[x for x in range(0, 1500, 100)], labels=[str(x)+'-'+str(x+100) for x in range (0, 1400, 100)])\n",
    "plt.figure(figsize=(10, 5))\n",
    "plotloan_df(loan_df,'installment_bin')"
   ]
  },
  {
   "cell_type": "markdown",
   "metadata": {},
   "source": [
    "**Observation:** installment does not impact target variable"
   ]
  },
  {
   "cell_type": "markdown",
   "metadata": {},
   "source": [
    "--------\n",
    "--------\n",
    "### Variable :  loan_status and issue_year"
   ]
  },
  {
   "cell_type": "code",
   "execution_count": 66,
   "metadata": {},
   "outputs": [
    {
     "data": {
      "image/png": "[encoded data removed]",
      "text/plain": [
       "<Figure size 432x288 with 1 Axes>"
      ]
     },
     "metadata": {},
     "output_type": "display_data"
    }
   ],
   "source": [
    "# lets compare the default rates across years\n",
    "# the default rate had suddenly increased in 2011, inspite of reducing from 2008 till 2010\n",
    "plotf('issue_year','')\n"
   ]
  },
  {
   "cell_type": "markdown",
   "metadata": {},
   "source": [
    "**Observation:**  issued year dose not help."
   ]
  },
  {
   "cell_type": "markdown",
   "metadata": {},
   "source": [
    "--------\n",
    "--------\n",
    "### Variable :  loan_status and issue_month"
   ]
  },
  {
   "cell_type": "code",
   "execution_count": 67,
   "metadata": {},
   "outputs": [
    {
     "data": {
      "image/png": "[encoded data removed]",
      "text/plain": [
       "<Figure size 1152x432 with 1 Axes>"
      ]
     },
     "metadata": {},
     "output_type": "display_data"
    }
   ],
   "source": [
    "# comparing default rates across months: not much variation across months\n",
    "plt.figure(figsize=(16, 6))\n",
    "plotf('issue_month','')\n"
   ]
  },
  {
   "cell_type": "markdown",
   "metadata": {},
   "source": [
    "**Observation:**  The loan have been taken around mid of the year or end of the year are more like to be default."
   ]
  },
  {
   "cell_type": "markdown",
   "metadata": {},
   "source": [
    "--------\n",
    "--------\n",
    "### Variable :  loan_status and loan_amnt_range"
   ]
  },
  {
   "cell_type": "code",
   "execution_count": 68,
   "metadata": {},
   "outputs": [
    {
     "data": {
      "image/png": "[encoded data removed]",
      "text/plain": [
       "<Figure size 720x360 with 1 Axes>"
      ]
     },
     "metadata": {},
     "output_type": "display_data"
    }
   ],
   "source": [
    "# let's compare the default rates across loan amount type\n",
    "plt.figure(figsize=(10, 5))\n",
    "plt.xticks(rotation=90)\n",
    "plotf('loan_amnt_range','')"
   ]
  },
  {
   "cell_type": "markdown",
   "metadata": {},
   "source": [
    "**Observation :**  higher the loan amount, higher the default rate"
   ]
  },
  {
   "cell_type": "markdown",
   "metadata": {},
   "source": [
    "--------\n",
    "--------\n",
    "### Variable :  loan_status and dti"
   ]
  },
  {
   "cell_type": "code",
   "execution_count": 69,
   "metadata": {},
   "outputs": [
    {
     "data": {
      "text/plain": [
       "count    37544.000000\n",
       "mean        13.284186\n",
       "std          6.660551\n",
       "min          0.000000\n",
       "25%          8.160000\n",
       "50%         13.380000\n",
       "75%         18.550000\n",
       "max         29.990000\n",
       "Name: dti, dtype: float64"
      ]
     },
     "execution_count": 69,
     "metadata": {},
     "output_type": "execute_result"
    }
   ],
   "source": [
    "sub_df.dti.describe()"
   ]
  },
  {
   "cell_type": "code",
   "execution_count": 70,
   "metadata": {},
   "outputs": [
    {
     "data": {
      "text/plain": [
       "<matplotlib.axes._subplots.AxesSubplot at 0x226811bdec8>"
      ]
     },
     "execution_count": 70,
     "metadata": {},
     "output_type": "execute_result"
    },
    {
     "data": {
      "image/png": "[encoded data removed]",
      "text/plain": [
       "<Figure size 720x360 with 1 Axes>"
      ]
     },
     "metadata": {},
     "output_type": "display_data"
    }
   ],
   "source": [
    "# Create derived variable \n",
    "loan_df['dti_bin'] = pd.cut(loan_df['dti'], [0,5,10,15,20,25,30], labels=['0-5','5-10','10-15','15-20','20-25','25-30'])\n",
    "plt.figure(figsize=(10, 5))\n",
    "plotloan_df(loan_df,'dti_bin')\n",
    "\n"
   ]
  },
  {
   "cell_type": "markdown",
   "metadata": {},
   "source": [
    "--------\n",
    "--------\n",
    "### Variable :  loan_status, loan_amnt and grade"
   ]
  },
  {
   "cell_type": "code",
   "execution_count": 71,
   "metadata": {},
   "outputs": [
    {
     "data": {
      "text/plain": [
       "count    37544.000000\n",
       "mean     11119.329986\n",
       "std       7354.098954\n",
       "min        500.000000\n",
       "25%       5500.000000\n",
       "50%      10000.000000\n",
       "75%      15000.000000\n",
       "max      35000.000000\n",
       "Name: loan_amnt, dtype: float64"
      ]
     },
     "execution_count": 71,
     "metadata": {},
     "output_type": "execute_result"
    }
   ],
   "source": [
    "sub_df.loan_amnt.describe()"
   ]
  },
  {
   "cell_type": "code",
   "execution_count": 72,
   "metadata": {},
   "outputs": [
    {
     "data": {
      "image/png": "[encoded data removed]",
      "text/plain": [
       "<Figure size 1080x720 with 1 Axes>"
      ]
     },
     "metadata": {},
     "output_type": "display_data"
    }
   ],
   "source": [
    "plt.figure(figsize=(15, 10))\n",
    "sub_df['loan_amnt_bin'] = pd.cut(sub_df['loan_amnt'],[x for x in range(0, 40000, 5000)], labels=[str(x)+'-'+str(x+5)+'k' for x in range (0, 35, 5)])\n",
    "plotf('loan_amnt_bin','grade')\n",
    "\n"
   ]
  },
  {
   "cell_type": "markdown",
   "metadata": {},
   "source": [
    "**Observation:** \n",
    "1. Under 5k loan amuont have higher the default rate for G grade applicant.\n",
    "2. The higer the loan amount the lower the default rate for A grade applicant.\n",
    "    "
   ]
  },
  {
   "cell_type": "markdown",
   "metadata": {},
   "source": [
    "--------\n",
    "--------\n",
    "### Variable :   annual_inc and loan_amnt"
   ]
  },
  {
   "cell_type": "code",
   "execution_count": 73,
   "metadata": {},
   "outputs": [
    {
     "data": {
      "image/png": "[encoded data removed]",
      "text/plain": [
       "<Figure size 432x432 with 3 Axes>"
      ]
     },
     "metadata": {},
     "output_type": "display_data"
    }
   ],
   "source": [
    "sns.jointplot('annual_inc', 'loan_amnt', sub_df)\n",
    "plt.show()"
   ]
  },
  {
   "cell_type": "code",
   "execution_count": 74,
   "metadata": {},
   "outputs": [
    {
     "data": {
      "image/png": "[encoded data removed]",
      "text/plain": [
       "<Figure size 432x432 with 3 Axes>"
      ]
     },
     "metadata": {},
     "output_type": "display_data"
    }
   ],
   "source": [
    "sns.jointplot('annual_inc', 'loan_amnt', sub_df.loc[sub_df['annual_inc']<250000])\n",
    "plt.show()"
   ]
  },
  {
   "cell_type": "markdown",
   "metadata": {},
   "source": [
    "**Observation:**\n",
    "- There are people with average income lower than 50000 taking loans of 25000 or higher. These would be risky loans. "
   ]
  },
  {
   "cell_type": "markdown",
   "metadata": {},
   "source": [
    "--------\n",
    "--------\n",
    "### Variable :  loan_amnt recovers"
   ]
  },
  {
   "cell_type": "code",
   "execution_count": 75,
   "metadata": {},
   "outputs": [
    {
     "data": {
      "image/png": "[encoded data removed]",
      "text/plain": [
       "<Figure size 360x504 with 1 Axes>"
      ]
     },
     "metadata": {},
     "output_type": "display_data"
    }
   ],
   "source": [
    "plt.figure(figsize=(5,7))\n",
    "labels = [ 'fully paid', 'charged-off']\n",
    "ax = (sub_df.groupby('loan_status').total_pymnt.sum() * 100 / sub_df.groupby('loan_status').loan_amnt.sum()).plot.bar()\n",
    "ax.set_ylabel('% loan recovered', fontsize=16)\n",
    "ax.set_xticklabels(labels)\n",
    "plt.margins(0.2, 0.2)\n",
    "add_value_labels(ax)\n",
    "\n"
   ]
  },
  {
   "cell_type": "markdown",
   "metadata": {},
   "source": [
    "<mark>Lending Club only recovers 56.5% of the loan amount when loans are defaulted. On fully paid up loans, the company makes 17% profit. </mark>"
   ]
  },
  {
   "cell_type": "markdown",
   "metadata": {},
   "source": [
    "## heatmap"
   ]
  },
  {
   "cell_type": "code",
   "execution_count": 76,
   "metadata": {
    "scrolled": false
   },
   "outputs": [
    {
     "data": {
      "text/plain": [
       "<matplotlib.axes._subplots.AxesSubplot at 0x226802ace88>"
      ]
     },
     "execution_count": 76,
     "metadata": {},
     "output_type": "execute_result"
    },
    {
     "data": {
      "image/png": "[encoded data removed]",
      "text/plain": [
       "<Figure size 1080x1080 with 2 Axes>"
      ]
     },
     "metadata": {},
     "output_type": "display_data"
    }
   ],
   "source": [
    "plt.figure(figsize=(15,15))\n",
    "cont_var=[\n",
    "'loan_amnt',\n",
    "'term',\n",
    "'int_rate',\n",
    "'installment',\n",
    "'emp_length',\n",
    "'annual_inc',\n",
    "'loan_status',\n",
    "'pymnt_plan',\n",
    "'purpose',\n",
    "'title',\n",
    "'zip_code',\n",
    "'addr_state',\n",
    "'dti',\n",
    "'initial_list_status',\n",
    "'application_type',\n",
    "'pub_rec_bankruptcies',\n",
    "'issue_year',\n",
    "'issue_month'\n",
    "]\n",
    "corr = sub_df[cont_var].corr()\n",
    "sns.heatmap(corr, annot=True, center=0.5, cmap=\"Reds\")"
   ]
  },
  {
   "cell_type": "code",
   "execution_count": null,
   "metadata": {},
   "outputs": [],
   "source": []
  }
 ],
 "metadata": {
  "kernelspec": {
   "display_name": "Python 3",
   "language": "python",
   "name": "python3"
  },
  "language_info": {
   "codemirror_mode": {
    "name": "ipython",
    "version": 3
   },
   "file_extension": ".py",
   "mimetype": "text/x-python",
   "name": "python",
   "nbconvert_exporter": "python",
   "pygments_lexer": "ipython3",
   "version": "3.7.6"
  }
 },
 "nbformat": 4,
 "nbformat_minor": 2
}
